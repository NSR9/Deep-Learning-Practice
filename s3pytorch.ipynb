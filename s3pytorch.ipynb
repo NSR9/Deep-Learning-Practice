{
  "nbformat": 4,
  "nbformat_minor": 0,
  "metadata": {
    "colab": {
      "name": "s3pytorch.ipynb",
      "provenance": [],
      "collapsed_sections": [],
      "authorship_tag": "ABX9TyP/mDLv82s6g1UQQW8nzluQ",
      "include_colab_link": true
    },
    "kernelspec": {
      "name": "python3",
      "display_name": "Python 3"
    }
  },
  "cells": [
    {
      "cell_type": "markdown",
      "metadata": {
        "id": "view-in-github",
        "colab_type": "text"
      },
      "source": [
        "<a href=\"https://colab.research.google.com/github/NSR9/PythonForML-AI-Notes/blob/master/s3pytorch.ipynb\" target=\"_parent\"><img src=\"https://colab.research.google.com/assets/colab-badge.svg\" alt=\"Open In Colab\"/></a>"
      ]
    },
    {
      "cell_type": "code",
      "metadata": {
        "id": "c079Z3K_mxRr",
        "colab_type": "code",
        "colab": {}
      },
      "source": [
        "import numpy as np \n",
        "import torch"
      ],
      "execution_count": 0,
      "outputs": []
    },
    {
      "cell_type": "code",
      "metadata": {
        "id": "SvdxDTgOm9l5",
        "colab_type": "code",
        "outputId": "6c5254b2-fdc9-4f73-9477-e57136cd568a",
        "colab": {
          "base_uri": "https://localhost:8080/",
          "height": 118
        }
      },
      "source": [
        "list = [1,2,3]\n",
        "list_to_nparray = np.array(list)\n",
        "list_to_torchtensor = torch.tensor(list)\n",
        "nparray_to_torchtensor = torch.tensor(list_to_nparray)\n",
        "nparray_to_torchtensor1 = torch.from_numpy(list_to_nparray)\n",
        "nparray_from_tensor = nparray_to_torchtensor.numpy()\n",
        "\n",
        "list_to_nparray[0] = 9\n",
        "\n",
        "\n",
        "print(list)\n",
        "print(list_to_nparray)\n",
        "print(list_to_torchtensor)\n",
        "print(nparray_to_torchtensor)\n",
        "print(nparray_to_torchtensor1)\n",
        "print(nparray_from_tensor)"
      ],
      "execution_count": 0,
      "outputs": [
        {
          "output_type": "stream",
          "text": [
            "[1, 2, 3]\n",
            "[9 2 3]\n",
            "tensor([1, 2, 3])\n",
            "tensor([1, 2, 3])\n",
            "tensor([9, 2, 3])\n",
            "[1 2 3]\n"
          ],
          "name": "stdout"
        }
      ]
    },
    {
      "cell_type": "code",
      "metadata": {
        "id": "hSRa2x0CuwFV",
        "colab_type": "code",
        "outputId": "7eab281a-61f1-48b4-b84e-77470b88a28c",
        "colab": {
          "base_uri": "https://localhost:8080/",
          "height": 151
        }
      },
      "source": [
        "tens1 = torch.ones(2,3,dtype = torch.float16)\n",
        "npry = tens1.numpy()\n",
        "#npry[:] *= 0.5\n",
        "print(npry)\n",
        "num = npry\n",
        "num = num*0.5\n",
        "\n",
        "print(num)\n",
        "\n",
        "print(tens1)\n",
        "print(npry)"
      ],
      "execution_count": 0,
      "outputs": [
        {
          "output_type": "stream",
          "text": [
            "[[1. 1. 1.]\n",
            " [1. 1. 1.]]\n",
            "[[0.5 0.5 0.5]\n",
            " [0.5 0.5 0.5]]\n",
            "tensor([[1., 1., 1.],\n",
            "        [1., 1., 1.]], dtype=torch.float16)\n",
            "[[1. 1. 1.]\n",
            " [1. 1. 1.]]\n"
          ],
          "name": "stdout"
        }
      ]
    },
    {
      "cell_type": "code",
      "metadata": {
        "id": "2G9yoknb57vs",
        "colab_type": "code",
        "outputId": "24824e93-0e34-4a7b-f418-e6b19c7bc41a",
        "colab": {
          "base_uri": "https://localhost:8080/",
          "height": 168
        }
      },
      "source": [
        "a = torch.zeros(3, 2)\n",
        "b = torch.ones(3, 2)\n",
        "print(torch.cat((a, b), dim=1))\n",
        "c = torch.cat((a,b),dim=0)\n",
        "print(c)"
      ],
      "execution_count": 0,
      "outputs": [
        {
          "output_type": "stream",
          "text": [
            "tensor([[0., 0., 1., 1.],\n",
            "        [0., 0., 1., 1.],\n",
            "        [0., 0., 1., 1.]])\n",
            "tensor([[0., 0.],\n",
            "        [0., 0.],\n",
            "        [0., 0.],\n",
            "        [1., 1.],\n",
            "        [1., 1.],\n",
            "        [1., 1.]])\n"
          ],
          "name": "stdout"
        }
      ]
    },
    {
      "cell_type": "code",
      "metadata": {
        "id": "0qlIwtKwASYD",
        "colab_type": "code",
        "outputId": "cc74607c-f34a-4d87-b585-9008df1f6c0e",
        "colab": {
          "base_uri": "https://localhost:8080/",
          "height": 134
        }
      },
      "source": [
        "\n",
        "tensor = torch.rand((5, 3))\n",
        "rows = torch.tensor([0,1])\n",
        "print(tensor)\n",
        "tensor[rows]"
      ],
      "execution_count": 0,
      "outputs": [
        {
          "output_type": "stream",
          "text": [
            "tensor([[0.1949, 0.0753, 0.0317],\n",
            "        [0.6879, 0.5928, 0.3901],\n",
            "        [0.1948, 0.1874, 0.1114],\n",
            "        [0.8628, 0.3791, 0.0076],\n",
            "        [0.5921, 0.3740, 0.0684]])\n"
          ],
          "name": "stdout"
        },
        {
          "output_type": "execute_result",
          "data": {
            "text/plain": [
              "tensor([[[0.1949, 0.0753, 0.0317],\n",
              "         [0.6879, 0.5928, 0.3901]]])"
            ]
          },
          "metadata": {
            "tags": []
          },
          "execution_count": 24
        }
      ]
    },
    {
      "cell_type": "code",
      "metadata": {
        "id": "XW50-l66CmMX",
        "colab_type": "code",
        "outputId": "d2491b52-8a79-475b-e7f9-2d1be5d4b8bb",
        "colab": {
          "base_uri": "https://localhost:8080/",
          "height": 319
        }
      },
      "source": [
        "tensor = torch.rand((2,3,4))\n",
        "tensor1 = tensor.reshape(24)\n",
        "tensor2 = tensor.view((3,2,4))\n",
        "print(tensor)\n",
        "print(tensor1)\n",
        "print(tensor2)"
      ],
      "execution_count": 0,
      "outputs": [
        {
          "output_type": "stream",
          "text": [
            "tensor([[[0.6738, 0.4217, 0.3125, 0.4527],\n",
            "         [0.0152, 0.8959, 0.2827, 0.5541],\n",
            "         [0.4097, 0.8975, 0.7173, 0.0856]],\n",
            "\n",
            "        [[0.7245, 0.5336, 0.1718, 0.8047],\n",
            "         [0.4135, 0.9154, 0.6965, 0.2036],\n",
            "         [0.8579, 0.8143, 0.2989, 0.3272]]])\n",
            "tensor([0.6738, 0.4217, 0.3125, 0.4527, 0.0152, 0.8959, 0.2827, 0.5541, 0.4097,\n",
            "        0.8975, 0.7173, 0.0856, 0.7245, 0.5336, 0.1718, 0.8047, 0.4135, 0.9154,\n",
            "        0.6965, 0.2036, 0.8579, 0.8143, 0.2989, 0.3272])\n",
            "tensor([[[0.6738, 0.4217, 0.3125, 0.4527],\n",
            "         [0.0152, 0.8959, 0.2827, 0.5541]],\n",
            "\n",
            "        [[0.4097, 0.8975, 0.7173, 0.0856],\n",
            "         [0.7245, 0.5336, 0.1718, 0.8047]],\n",
            "\n",
            "        [[0.4135, 0.9154, 0.6965, 0.2036],\n",
            "         [0.8579, 0.8143, 0.2989, 0.3272]]])\n"
          ],
          "name": "stdout"
        }
      ]
    },
    {
      "cell_type": "code",
      "metadata": {
        "id": "NCDXTT6vEPXu",
        "colab_type": "code",
        "outputId": "b519b5dc-c79f-47a6-edcd-a2d62dfc1cd3",
        "colab": {
          "base_uri": "https://localhost:8080/",
          "height": 218
        }
      },
      "source": [
        "b = torch.tensor([[2,1]])\n",
        "\n",
        "a = torch.tensor([[1,2,3],[1,2,3]])\n",
        "print(a)\n",
        "print(b) \n",
        "a = a.reshape(-1,2)\n",
        "b = b.view(2,-1)\n",
        "print(a)\n",
        "print(b)\n",
        "\n",
        "dot = torch.mm(a,b)\n",
        "print(dot)\n",
        "sum = torch.sum(dot)\n",
        "print(sum)"
      ],
      "execution_count": 0,
      "outputs": [
        {
          "output_type": "stream",
          "text": [
            "tensor([[1, 2, 3],\n",
            "        [1, 2, 3]])\n",
            "tensor([[2, 1]])\n",
            "tensor([[1, 2],\n",
            "        [3, 1],\n",
            "        [2, 3]])\n",
            "tensor([[2],\n",
            "        [1]])\n",
            "tensor([[4],\n",
            "        [7],\n",
            "        [7]])\n",
            "tensor(18)\n"
          ],
          "name": "stdout"
        }
      ]
    }
  ]
}