{
  "nbformat": 4,
  "nbformat_minor": 0,
  "metadata": {
    "colab": {
      "name": "python101NSR",
      "provenance": [],
      "collapsed_sections": [],
      "authorship_tag": "ABX9TyPXNSmL7P9um/KFeBMZ/YaQ",
      "include_colab_link": true
    },
    "kernelspec": {
      "name": "python3",
      "display_name": "Python 3"
    }
  },
  "cells": [
    {
      "cell_type": "markdown",
      "metadata": {
        "id": "view-in-github",
        "colab_type": "text"
      },
      "source": [
        "<a href=\"https://colab.research.google.com/github/NSR9/PythonForML-AI-Notes/blob/master/python101NSR.ipynb\" target=\"_parent\"><img src=\"https://colab.research.google.com/assets/colab-badge.svg\" alt=\"Open In Colab\"/></a>"
      ]
    },
    {
      "cell_type": "code",
      "metadata": {
        "id": "LpYri7lbFCvD",
        "colab_type": "code",
        "outputId": "fd5db4fa-9f0a-4ac3-fdc7-3a36afe00ada",
        "colab": {
          "base_uri": "https://localhost:8080/",
          "height": 134
        }
      },
      "source": [
        "hello = \"hello\"\n",
        "world = \"world!\"\n",
        "str = hello + world\n",
        "print(str)\n",
        "print(len(str))\n",
        "print(len(hello))\n",
        "print(len(world))\n",
        "fstr = \"%s %s %d\" %(hello,world,9)\n",
        "print(fstr)\n",
        "print(len(fstr))\n",
        "index = 0\n",
        "print(fstr[index])"
      ],
      "execution_count": 0,
      "outputs": [
        {
          "output_type": "stream",
          "text": [
            "helloworld!\n",
            "11\n",
            "5\n",
            "6\n",
            "hello world! 9\n",
            "14\n",
            "h\n"
          ],
          "name": "stdout"
        }
      ]
    },
    {
      "cell_type": "code",
      "metadata": {
        "id": "n29F0osHHJSY",
        "colab_type": "code",
        "outputId": "845fb9ba-2bf6-4662-a150-e1156651b2c0",
        "colab": {
          "base_uri": "https://localhost:8080/",
          "height": 202
        }
      },
      "source": [
        "# Basic data types\n",
        "\n",
        "x = 6 \n",
        "print(type(x)) \n",
        "print(x)       \n",
        "print(x + 1)   \n",
        "print(x - 1)   \n",
        "print(x * 2)   \n",
        "print(x ** 2)  \n",
        "x += 3\n",
        "print(x)  \n",
        "x *= 4\n",
        "print(x)  \n",
        "y = 3.5\n",
        "print(type(y)) \n",
        "print(y, y + 1, y * 2, y ** 2) \n",
        "\n",
        "x = x * y + x + y \n",
        "print(\"Final Value of x is:\", x)"
      ],
      "execution_count": 0,
      "outputs": [
        {
          "output_type": "stream",
          "text": [
            "<class 'int'>\n",
            "6\n",
            "7\n",
            "5\n",
            "12\n",
            "36\n",
            "9\n",
            "36\n",
            "<class 'float'>\n",
            "3.5 4.5 7.0 12.25\n",
            "Final Value of x is: 165.5\n"
          ],
          "name": "stdout"
        }
      ]
    },
    {
      "cell_type": "code",
      "metadata": {
        "id": "IqWpAsXEH5oy",
        "colab_type": "code",
        "outputId": "0fa6692d-d341-40de-e834-6cf40ad732e9",
        "colab": {
          "base_uri": "https://localhost:8080/",
          "height": 34
        }
      },
      "source": [
        "#python version\n",
        "\n",
        "!python --version"
      ],
      "execution_count": 0,
      "outputs": [
        {
          "output_type": "stream",
          "text": [
            "Python 3.6.9\n"
          ],
          "name": "stdout"
        }
      ]
    },
    {
      "cell_type": "code",
      "metadata": {
        "id": "KqfTL1srIMPf",
        "colab_type": "code",
        "outputId": "61f45e87-7de4-4855-95ae-08515950f486",
        "colab": {
          "base_uri": "https://localhost:8080/",
          "height": 101
        }
      },
      "source": [
        "#Booleans\n",
        "T = True\n",
        "F = False\n",
        "print(type(T))\n",
        "print(T and F) \n",
        "print(T or F)  \n",
        "print(not T)   \n",
        "print(T != F)"
      ],
      "execution_count": 0,
      "outputs": [
        {
          "output_type": "stream",
          "text": [
            "<class 'bool'>\n",
            "False\n",
            "True\n",
            "False\n",
            "True\n"
          ],
          "name": "stdout"
        }
      ]
    },
    {
      "cell_type": "code",
      "metadata": {
        "id": "EnqIfxIYIqj2",
        "colab_type": "code",
        "outputId": "c19f6bb4-f70e-4269-c194-3153ba6a3787",
        "colab": {
          "base_uri": "https://localhost:8080/",
          "height": 101
        }
      },
      "source": [
        "# containers\n",
        "l = [1,2,3,4]\n",
        "print(len(l))\n",
        "print(l,l[0],l[2])\n",
        "l[3] = \"foo\"\n",
        "print(l)\n",
        "l[3] = 4\n",
        "l.append(\"bar\")\n",
        "l.append(\"cell\")\n",
        "print(l)\n",
        "l.pop()\n",
        "l.remove(1)\n",
        "print(l)\n",
        "\n",
        "\n"
      ],
      "execution_count": 0,
      "outputs": [
        {
          "output_type": "stream",
          "text": [
            "4\n",
            "[1, 2, 3, 4] 1 3\n",
            "[1, 2, 3, 'foo']\n",
            "[1, 2, 3, 4, 'bar', 'cell']\n",
            "[2, 3, 4, 'bar']\n"
          ],
          "name": "stdout"
        }
      ]
    },
    {
      "cell_type": "code",
      "metadata": {
        "id": "SFO7K-3pK-mM",
        "colab_type": "code",
        "outputId": "000aa072-23d2-4609-bb78-2a4384211123",
        "colab": {
          "base_uri": "https://localhost:8080/",
          "height": 134
        }
      },
      "source": [
        "#Containers Part -2 \n",
        "\n",
        "limit = 6\n",
        "li = list(range(limit))\n",
        "li[2]\n",
        "print(li)\n",
        "print(li[0:6])\n",
        "print(li[:4])\n",
        "print(li[2:])\n",
        "print(li[:])\n",
        "li[2]= 9\n",
        "print(li)\n",
        "print(sum(li))"
      ],
      "execution_count": 0,
      "outputs": [
        {
          "output_type": "stream",
          "text": [
            "[0, 1, 2, 3, 4, 5]\n",
            "[0, 1, 2, 3, 4, 5]\n",
            "[0, 1, 2, 3]\n",
            "[2, 3, 4, 5]\n",
            "[0, 1, 2, 3, 4, 5]\n",
            "[0, 1, 9, 3, 4, 5]\n",
            "22\n"
          ],
          "name": "stdout"
        }
      ]
    },
    {
      "cell_type": "code",
      "metadata": {
        "id": "TsNzr8jgdnB7",
        "colab_type": "code",
        "outputId": "271748f8-4ff5-43a2-ca5c-0f7553c34d34",
        "colab": {
          "base_uri": "https://localhost:8080/",
          "height": 118
        }
      },
      "source": [
        "fruits = ['watermelon', 'papaya', 'Apple']\n",
        "for fruit in fruits:\n",
        "    print(fruit)\n",
        "\n",
        "for idx, fruit in enumerate(fruits):\n",
        "    print('#%d: %s' % (idx + 1, fruit))    "
      ],
      "execution_count": 0,
      "outputs": [
        {
          "output_type": "stream",
          "text": [
            "watermelon\n",
            "papaya\n",
            "Apple\n",
            "#1: watermelon\n",
            "#2: papaya\n",
            "#3: Apple\n"
          ],
          "name": "stdout"
        }
      ]
    },
    {
      "cell_type": "code",
      "metadata": {
        "id": "ECunJfyCkxqz",
        "colab_type": "code",
        "outputId": "6e3a79a0-8503-45c5-afc6-010e11961fc3",
        "colab": {
          "base_uri": "https://localhost:8080/",
          "height": 50
        }
      },
      "source": [
        "nums = [0,1,2,3,4,5]\n",
        "cubes = [x ** 3 for x in nums]\n",
        "print(cubes)\n",
        "fourths = [x ** 4 for x in nums if x%2 != 0]\n",
        "print(fourths)"
      ],
      "execution_count": 0,
      "outputs": [
        {
          "output_type": "stream",
          "text": [
            "[0, 1, 8, 27, 64, 125]\n",
            "[1, 81, 625]\n"
          ],
          "name": "stdout"
        }
      ]
    },
    {
      "cell_type": "code",
      "metadata": {
        "id": "Jpu9fILYlmhU",
        "colab_type": "code",
        "outputId": "ba6d0259-f321-4d41-dbe3-5ce11bbe600a",
        "colab": {
          "base_uri": "https://localhost:8080/",
          "height": 84
        }
      },
      "source": [
        "dictn = {\"telangana\" : \"hyd\", \"karnataka\": \"bangalore\"}\n",
        "print(dictn)\n",
        "print(dictn['telangana'])\n",
        "print('karnataka' in dictn)\n",
        "dictn['Tamilnadu'] = \"chennai\"\n",
        "print(dictn)"
      ],
      "execution_count": 0,
      "outputs": [
        {
          "output_type": "stream",
          "text": [
            "{'telangana': 'hyd', 'karnataka': 'bangalore'}\n",
            "hyd\n",
            "True\n",
            "{'telangana': 'hyd', 'karnataka': 'bangalore', 'Tamilnadu': 'chennai'}\n"
          ],
          "name": "stdout"
        }
      ]
    },
    {
      "cell_type": "code",
      "metadata": {
        "id": "IUBCnHBE8kca",
        "colab_type": "code",
        "outputId": "765c2d20-e166-4e9a-c962-12a436a3caab",
        "colab": {
          "base_uri": "https://localhost:8080/",
          "height": 134
        }
      },
      "source": [
        "import numpy as np\n",
        "\n",
        "a = np.array([1,2,3])\n",
        "print(sum(a))\n",
        "print(len(a))\n",
        "b = np.array([[1,2,3],[4,5,6]])\n",
        "print(b)\n",
        "print(len(b))\n",
        "print(sum(b))\n",
        "t = sum(a)*sum(b)\n",
        "print(sum(t))\n"
      ],
      "execution_count": 0,
      "outputs": [
        {
          "output_type": "stream",
          "text": [
            "6\n",
            "3\n",
            "[[1 2 3]\n",
            " [4 5 6]]\n",
            "2\n",
            "[5 7 9]\n",
            "126\n"
          ],
          "name": "stdout"
        }
      ]
    },
    {
      "cell_type": "code",
      "metadata": {
        "id": "NSRAH2D7-mr_",
        "colab_type": "code",
        "outputId": "9f912919-46de-4ef9-eb58-3277efbb7226",
        "colab": {
          "base_uri": "https://localhost:8080/",
          "height": 336
        }
      },
      "source": [
        "a = np.array([[1,4,5],[3,4,5]])\n",
        "print(np.prod(a))\n",
        "e = np.random.random((8,8))\n",
        "print(e)\n",
        "p = np.prod(e)\n",
        "print(p)\n",
        "print(1- p )\n"
      ],
      "execution_count": 0,
      "outputs": [
        {
          "output_type": "stream",
          "text": [
            "1200\n",
            "[[0.62292299 0.38727505 0.38918091 0.08249361 0.51552965 0.9355165\n",
            "  0.04799705 0.2119135 ]\n",
            " [0.23561893 0.42788904 0.79334462 0.54706442 0.43342591 0.7732276\n",
            "  0.28912993 0.60199075]\n",
            " [0.38255742 0.58651064 0.95624564 0.72345637 0.49058647 0.29266641\n",
            "  0.17474979 0.24049009]\n",
            " [0.08871957 0.73754653 0.57902408 0.85838288 0.08939365 0.89327071\n",
            "  0.7423805  0.08481554]\n",
            " [0.0430615  0.38888796 0.48270103 0.30687717 0.6803876  0.58533038\n",
            "  0.49891269 0.83244576]\n",
            " [0.70734818 0.32761782 0.75205978 0.19584154 0.59128358 0.8718894\n",
            "  0.90900696 0.77699569]\n",
            " [0.91708029 0.6060611  0.0381214  0.60489241 0.02984251 0.85137098\n",
            "  0.52910424 0.18152578]\n",
            " [0.83829026 0.64973231 0.41745616 0.6241955  0.48672137 0.16344069\n",
            "  0.96469399 0.39202058]]\n",
            "1.0113116382611103e-26\n",
            "1.0\n"
          ],
          "name": "stdout"
        }
      ]
    },
    {
      "cell_type": "code",
      "metadata": {
        "id": "7b-D2yLnCi7u",
        "colab_type": "code",
        "outputId": "82c29db6-901a-4abc-a7d4-2f919747b59c",
        "colab": {
          "base_uri": "https://localhost:8080/",
          "height": 118
        }
      },
      "source": [
        "import numpy as np\n",
        "a = np.array([[1,2,3,4],[2,3,4,5],[3,4,5,6],[6,7,8,9]])\n",
        "print(a)\n",
        "print(a[:2])\n"
      ],
      "execution_count": 0,
      "outputs": [
        {
          "output_type": "stream",
          "text": [
            "[[1 2 3 4]\n",
            " [2 3 4 5]\n",
            " [3 4 5 6]\n",
            " [6 7 8 9]]\n",
            "[[1 2 3 4]\n",
            " [2 3 4 5]]\n"
          ],
          "name": "stdout"
        }
      ]
    },
    {
      "cell_type": "code",
      "metadata": {
        "id": "TO50n0eNLY4Z",
        "colab_type": "code",
        "outputId": "89475733-e66c-4516-fe94-ad65ec4c275d",
        "colab": {
          "base_uri": "https://localhost:8080/",
          "height": 829
        }
      },
      "source": [
        "# import the necessary packages\n",
        "import numpy as np\n",
        "from urllib.request import urlopen\n",
        "import cv2\n",
        "from matplotlib import pyplot as plt\n",
        "\n",
        "# METHOD #1: OpenCV, NumPy, and urllib\n",
        "def url_to_image(url):\n",
        "\t# download the image, convert it to a NumPy array, and then read\n",
        "\t# it into OpenCV format\n",
        "\tresp = urlopen(url)\n",
        "\timage = np.asarray(bytearray(resp.read()), dtype=\"uint8\")\n",
        "\timage = cv2.imdecode(image, cv2.IMREAD_COLOR)\n",
        " \n",
        "\t# return the image\n",
        "\treturn image\n",
        "\n",
        "image = url_to_image(\"https://encrypted-tbn0.gstatic.com/images?q=tbn%3AANd9GcRZpTmijaNOH6MmycM_eiPKcEl5mVvbwl7a8YKVGpEEMIanDcSt\")\n",
        "from google.colab.patches import cv2_imshow\n",
        "cv2_imshow(image)\n",
        "\n",
        "edges = cv2.Canny(image,100,200)\n",
        "cv2_imshow(edges)\n",
        "\n",
        "kernel = np.float32([[-4,-4,-4],[0,0,0],[4,4,4]])\n",
        "kernel1 = np.float32([[0,0,0],[0,1,0],[0,0,0]])\n",
        "dst = cv2.filter2D(image,-1,kernel)\n",
        "dst1 = cv2.filter2D(image,-1,kernel1)\n",
        "cv2_imshow(dst)\n",
        "cv2_imshow(dst1)"
      ],
      "execution_count": 0,
      "outputs": [
        {
          "output_type": "display_data",
          "data": {
            "image/png": "[encoded data removed]",
            "text/plain": [
              "<PIL.Image.Image image mode=RGB size=601x203 at 0x7F9071C04E80>"
            ]
          },
          "metadata": {
            "tags": []
          }
        },
        {
          "output_type": "display_data",
          "data": {
            "image/png": "[encoded data removed]",
            "text/plain": [
              "<PIL.Image.Image image mode=L size=601x203 at 0x7F9071C04A58>"
            ]
          },
          "metadata": {
            "tags": []
          }
        },
        {
          "output_type": "display_data",
          "data": {
            "image/png": "[encoded data removed]",
            "text/plain": [
              "<PIL.Image.Image image mode=RGB size=601x203 at 0x7F9071C04DD8>"
            ]
          },
          "metadata": {
            "tags": []
          }
        },
        {
          "output_type": "display_data",
          "data": {
            "image/png": "[encoded data removed]",
            "text/plain": [
              "<PIL.Image.Image image mode=RGB size=601x203 at 0x7F9071C04EB8>"
            ]
          },
          "metadata": {
            "tags": []
          }
        }
      ]
    },
    {
      "cell_type": "code",
      "metadata": {
        "id": "NPNR2oWTPPXi",
        "colab_type": "code",
        "outputId": "8cce233b-ae83-4f23-9e99-7a9c7334e888",
        "colab": {
          "base_uri": "https://localhost:8080/",
          "height": 84
        }
      },
      "source": [
        "from PIL import Image\n",
        "import requests\n",
        "from io import BytesIO\n",
        "\n",
        "response = requests.get('https://encrypted-tbn0.gstatic.com/images?q=tbn%3AANd9GcRZpTmijaNOH6MmycM_eiPKcEl5mVvbwl7a8YKVGpEEMIanDcSt')\n",
        "img = Image.open(BytesIO(response.content))\n",
        "display(img.size)\n",
        "box0 = (200, 200, 600, 600)\n",
        "box1 = (150, 150, 300, 300)\n",
        "box2 = (200, 100, 250, 200)\n",
        "box3 = (100, 0, 200, 200)\n",
        "box4 = (100, 400, 200, 200)\n",
        "box5 = (0, 0, 100, 100)\n",
        "box6 = (200, 0, 200, 200)\n",
        "box7 = (0, 0, 200, 200)\n",
        "box8 = (100, 100, 200, 200)\n",
        "box9 = (100, 250, 400, 300)\n",
        "region = img.crop(box9)\n",
        "display(region)\n"
      ],
      "execution_count": 0,
      "outputs": [
        {
          "output_type": "display_data",
          "data": {
            "text/plain": [
              "(601, 203)"
            ]
          },
          "metadata": {
            "tags": []
          }
        },
        {
          "output_type": "display_data",
          "data": {
            "image/png": "[encoded data removed]",
            "text/plain": [
              "<PIL.Image.Image image mode=P size=300x50 at 0x7F9071B00C50>"
            ]
          },
          "metadata": {
            "tags": []
          }
        }
      ]
    },
    {
      "cell_type": "code",
      "metadata": {
        "id": "wI3yakm2SwS8",
        "colab_type": "code",
        "outputId": "c4a959e2-77ea-43e7-eb46-469693f0f97e",
        "colab": {
          "base_uri": "https://localhost:8080/",
          "height": 423
        }
      },
      "source": [
        "from PIL import Image\n",
        "\n",
        "#Let's first convert our png (4 channel, R, G, B , Alpha) image into jpg (3 channel, R, G, B) image.\n",
        "img_jpg = Image.new(\"RGB\", img.size, (255, 255, 255))\n",
        "img_jpg.paste(img)\n",
        "# display jpg image\n",
        "display(img_jpg)\n",
        "\n",
        "#convert our image into numpy array\n",
        "npimg = np.array(img_jpg)\n",
        "\n",
        "#convert numpy image back to PIL image and display it\n",
        "npimg = Image.fromarray(npimg)\n",
        "display(npimg)\n",
        "\n",
        "\n",
        "npimg = np.array(img_jpg)\n",
        "# print(img_jpg.size)\n",
        "# print(npimg.shape)\n",
        "# Operation 1: \n",
        "# npimg[0:0, 100:100] = 255\n",
        "# Operation 2: \n",
        "# npimg[50:200, 50:200] = 255\n",
        "# Operation 3: \n",
        "# npimg[100:150, 0:100] = 255\n",
        "# Operation 4: \n",
        "# npimg[0:150, 50:200] = 255\n",
        "\n"
      ],
      "execution_count": 0,
      "outputs": [
        {
          "output_type": "display_data",
          "data": {
            "image/png": "[encoded data removed]",
            "text/plain": [
              "<PIL.Image.Image image mode=RGB size=601x203 at 0x7F9071B023C8>"
            ]
          },
          "metadata": {
            "tags": []
          }
        },
        {
          "output_type": "display_data",
          "data": {
            "image/png": "[encoded data removed]",
            "text/plain": [
              "<PIL.Image.Image image mode=RGB size=601x203 at 0x7F9071B00668>"
            ]
          },
          "metadata": {
            "tags": []
          }
        }
      ]
    },
    {
      "cell_type": "code",
      "metadata": {
        "id": "KQGxnSUvUTU6",
        "colab_type": "code",
        "outputId": "a2f97ccc-fe73-4283-ac31-50dad19f8892",
        "colab": {
          "base_uri": "https://localhost:8080/",
          "height": 353
        }
      },
      "source": [
        "a = np.array([[1,2,3],[2,3,4],[5,6,7]])\n",
        "print(a)\n",
        "print(a[:3,2:])\n",
        "print(a[1:,1:])\n",
        "print(a[0:,])\n",
        "a[0,0]\n",
        "a[2,2] = 44\n",
        "print(a)\n",
        "\n",
        "b = np.array([[1,3,5],[2,4,6],[4,6,8]])\n",
        "print(b)\n",
        "row1 = b[0:1,]\n",
        "row3 = b[2:,]\n",
        "row4 = b[2,:]\n",
        "print(row3, row3.shape)\n",
        "print(row1, row1.shape)\n",
        "print(row4, row4.shape)"
      ],
      "execution_count": 0,
      "outputs": [
        {
          "output_type": "stream",
          "text": [
            "[[1 2 3]\n",
            " [2 3 4]\n",
            " [5 6 7]]\n",
            "[[3]\n",
            " [4]\n",
            " [7]]\n",
            "[[3 4]\n",
            " [6 7]]\n",
            "[[1 2 3]\n",
            " [2 3 4]\n",
            " [5 6 7]]\n",
            "[[ 1  2  3]\n",
            " [ 2  3  4]\n",
            " [ 5  6 44]]\n",
            "[[1 3 5]\n",
            " [2 4 6]\n",
            " [4 6 8]]\n",
            "[[4 6 8]] (1, 3)\n",
            "[[1 3 5]] (1, 3)\n",
            "[4 6 8] (3,)\n"
          ],
          "name": "stdout"
        }
      ]
    },
    {
      "cell_type": "code",
      "metadata": {
        "id": "QgpWHGtWY-ls",
        "colab_type": "code",
        "outputId": "23cdb417-82a4-4c4e-8688-4e9e020f11f3",
        "colab": {
          "base_uri": "https://localhost:8080/",
          "height": 269
        }
      },
      "source": [
        "a = np.array([[5,6,7],[6,7,8],[7,8,9]])\n",
        "print(a)\n",
        "b = a[[0,1,2,0],[0,2,1,0]]\n",
        "c = a[[0,1,2],[2,1,0]]\n",
        "print(b)\n",
        "print(c)\n",
        "d = np.array([[1,2,3],[2,3,4],[3,4,5]])\n",
        "print(a * d)\n",
        "print(a.dot(d))\n",
        "\n",
        "v = np.array([[1,0],[0,1]])\n",
        "w = np.array([[1,1],[1,1]])\n",
        "print(v * w)\n",
        "print(v.dot(w))"
      ],
      "execution_count": 0,
      "outputs": [
        {
          "output_type": "stream",
          "text": [
            "[[5 6 7]\n",
            " [6 7 8]\n",
            " [7 8 9]]\n",
            "[5 8 8 5]\n",
            "[7 7 7]\n",
            "[[ 5 12 21]\n",
            " [12 21 32]\n",
            " [21 32 45]]\n",
            "[[38 56 74]\n",
            " [44 65 86]\n",
            " [50 74 98]]\n",
            "[[1 0]\n",
            " [0 1]]\n",
            "[[1 1]\n",
            " [1 1]]\n"
          ],
          "name": "stdout"
        }
      ]
    },
    {
      "cell_type": "code",
      "metadata": {
        "id": "XA4Btu0QkLzA",
        "colab_type": "code",
        "colab": {}
      },
      "source": [
        ""
      ],
      "execution_count": 0,
      "outputs": []
    },
    {
      "cell_type": "code",
      "metadata": {
        "id": "D6HqSI8LkMqL",
        "colab_type": "code",
        "outputId": "fbe51b9d-55d5-4774-ec5b-aa7f2657633f",
        "colab": {
          "base_uri": "https://localhost:8080/",
          "height": 101
        }
      },
      "source": [
        "hello = 'hello'    # String literals can use single quotes\n",
        "world = \"world\"    # or double quotes; it does not matter.\n",
        "print(hello)       # Prints \"hello\"\n",
        "print(len(hello))  # String length; prints \"5\"\n",
        "hw = hello + ' ' + world  # String concatenation\n",
        "print(hw)  # prints \"hello world\"\n",
        "hw6 = '%s %s %d' % (hello, world, 6)  # sprintf style string formatting\n",
        "print(hw6)  # prints \"hello world 6\"\n",
        "\n",
        "location = 12\n",
        "print(hw6[location])"
      ],
      "execution_count": 0,
      "outputs": [
        {
          "output_type": "stream",
          "text": [
            "hello\n",
            "5\n",
            "hello world\n",
            "hello world 6\n",
            "6\n"
          ],
          "name": "stdout"
        }
      ]
    },
    {
      "cell_type": "code",
      "metadata": {
        "id": "BSTFj2pgl3Nr",
        "colab_type": "code",
        "outputId": "0610cc48-6fa2-4fae-9676-a3691f8b5e04",
        "colab": {
          "base_uri": "https://localhost:8080/",
          "height": 34
        }
      },
      "source": [
        "rng2 = 3\n",
        "nums = range(rng2)\n",
        "squares = [1,3,9]\n",
        "\n",
        "print(sum(squares))"
      ],
      "execution_count": 0,
      "outputs": [
        {
          "output_type": "stream",
          "text": [
            "13\n"
          ],
          "name": "stdout"
        }
      ]
    },
    {
      "cell_type": "code",
      "metadata": {
        "id": "sxdx4Nr3m7ya",
        "colab_type": "code",
        "outputId": "4b1f5036-ccaa-4c8a-ddaf-6a1b8a650fac",
        "colab": {
          "base_uri": "https://localhost:8080/",
          "height": 84
        }
      },
      "source": [
        "b = np.array([[1,2,3],[4,5,6]])    # Create a rank 2 array\n",
        "print(b.shape)                     # Prints \"(2, 3)\"\n",
        "print(b[0, 0], b[0, 1], b[1, 0])\n",
        "print(sum(b))\n",
        "a =[1,2,3]\n",
        "sum(a)"
      ],
      "execution_count": 0,
      "outputs": [
        {
          "output_type": "stream",
          "text": [
            "(2, 3)\n",
            "1 2 4\n",
            "[5 7 9]\n"
          ],
          "name": "stdout"
        },
        {
          "output_type": "execute_result",
          "data": {
            "text/plain": [
              "6"
            ]
          },
          "metadata": {
            "tags": []
          },
          "execution_count": 83
        }
      ]
    },
    {
      "cell_type": "code",
      "metadata": {
        "id": "sJ1iI0Xzbz0y",
        "colab_type": "code",
        "outputId": "010fe721-53e2-4675-b045-591ab1986205",
        "colab": {
          "base_uri": "https://localhost:8080/",
          "height": 151
        }
      },
      "source": [
        "x = np.array([[1,2],[3,4]])\n",
        "print(x, x.shape)\n",
        "print(np.sqrt(x))\n",
        "xcol1 = x[: , 0:1]\n",
        "xcol2 = x[:,1:]\n",
        "xrow1 = x[0:1,:]\n",
        "xrow2 = x[1: , :]\n",
        "\n",
        "sumr = xrow1+ xrow2\n",
        "\n",
        "sumc = xcol1 + xcol2\n",
        "print(sumr)\n",
        "print(sumc)\n",
        "dot1 = np.dot(sumr, sumc)\n",
        "srt = np.sqrt(dot1)\n",
        "sumx = sum(x)\n",
        "soltn = srt + sumx\n",
        "\n",
        "print(sum(soltn))"
      ],
      "execution_count": 0,
      "outputs": [
        {
          "output_type": "stream",
          "text": [
            "[[1 2]\n",
            " [3 4]] (2, 2)\n",
            "[[1.         1.41421356]\n",
            " [1.73205081 2.        ]]\n",
            "[[4 6]]\n",
            "[[3]\n",
            " [7]]\n",
            "[11.34846923 13.34846923]\n"
          ],
          "name": "stdout"
        }
      ]
    }
  ]
}