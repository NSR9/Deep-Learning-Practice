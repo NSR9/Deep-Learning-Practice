{
  "nbformat": 4,
  "nbformat_minor": 0,
  "metadata": {
    "colab": {
      "name": "S8_mainFile.ipynb",
      "provenance": [],
      "collapsed_sections": [],
      "include_colab_link": true
    },
    "kernelspec": {
      "name": "python3",
      "display_name": "Python 3"
    },
    "accelerator": "GPU",
    "widgets": {
      "application/vnd.jupyter.widget-state+json": {
        "1b6fe14e9c0047b3b7d3f38915e62e2d": {
          "model_module": "@jupyter-widgets/controls",
          "model_name": "HBoxModel",
          "state": {
            "_view_name": "HBoxView",
            "_dom_classes": [],
            "_model_name": "HBoxModel",
            "_view_module": "@jupyter-widgets/controls",
            "_model_module_version": "1.5.0",
            "_view_count": null,
            "_view_module_version": "1.5.0",
            "box_style": "",
            "layout": "IPY_MODEL_195c9bbf690c4978aee6e914b9629535",
            "_model_module": "@jupyter-widgets/controls",
            "children": [
              "IPY_MODEL_faf1504723934302b05801895a5aeccc",
              "IPY_MODEL_02d44d5ceadc43f79be0135e4d1f8af6"
            ]
          }
        },
        "195c9bbf690c4978aee6e914b9629535": {
          "model_module": "@jupyter-widgets/base",
          "model_name": "LayoutModel",
          "state": {
            "_view_name": "LayoutView",
            "grid_template_rows": null,
            "right": null,
            "justify_content": null,
            "_view_module": "@jupyter-widgets/base",
            "overflow": null,
            "_model_module_version": "1.2.0",
            "_view_count": null,
            "flex_flow": null,
            "width": null,
            "min_width": null,
            "border": null,
            "align_items": null,
            "bottom": null,
            "_model_module": "@jupyter-widgets/base",
            "top": null,
            "grid_column": null,
            "overflow_y": null,
            "overflow_x": null,
            "grid_auto_flow": null,
            "grid_area": null,
            "grid_template_columns": null,
            "flex": null,
            "_model_name": "LayoutModel",
            "justify_items": null,
            "grid_row": null,
            "max_height": null,
            "align_content": null,
            "visibility": null,
            "align_self": null,
            "height": null,
            "min_height": null,
            "padding": null,
            "grid_auto_rows": null,
            "grid_gap": null,
            "max_width": null,
            "order": null,
            "_view_module_version": "1.2.0",
            "grid_template_areas": null,
            "object_position": null,
            "object_fit": null,
            "grid_auto_columns": null,
            "margin": null,
            "display": null,
            "left": null
          }
        },
        "faf1504723934302b05801895a5aeccc": {
          "model_module": "@jupyter-widgets/controls",
          "model_name": "FloatProgressModel",
          "state": {
            "_view_name": "ProgressView",
            "style": "IPY_MODEL_c7c07eb700854c5a96e67ce253760024",
            "_dom_classes": [],
            "description": "",
            "_model_name": "FloatProgressModel",
            "bar_style": "info",
            "max": 1,
            "_view_module": "@jupyter-widgets/controls",
            "_model_module_version": "1.5.0",
            "value": 1,
            "_view_count": null,
            "_view_module_version": "1.5.0",
            "orientation": "horizontal",
            "min": 0,
            "description_tooltip": null,
            "_model_module": "@jupyter-widgets/controls",
            "layout": "IPY_MODEL_a53f0c20348c4300b521cbc33a67cbc2"
          }
        },
        "02d44d5ceadc43f79be0135e4d1f8af6": {
          "model_module": "@jupyter-widgets/controls",
          "model_name": "HTMLModel",
          "state": {
            "_view_name": "HTMLView",
            "style": "IPY_MODEL_3c8a3ed7a054411d8086886c6ad9fa2f",
            "_dom_classes": [],
            "description": "",
            "_model_name": "HTMLModel",
            "placeholder": "​",
            "_view_module": "@jupyter-widgets/controls",
            "_model_module_version": "1.5.0",
            "value": " 170500096/? [00:20&lt;00:00, 50134910.04it/s]",
            "_view_count": null,
            "_view_module_version": "1.5.0",
            "description_tooltip": null,
            "_model_module": "@jupyter-widgets/controls",
            "layout": "IPY_MODEL_b691529c32d3407695ac65bce06136f7"
          }
        },
        "c7c07eb700854c5a96e67ce253760024": {
          "model_module": "@jupyter-widgets/controls",
          "model_name": "ProgressStyleModel",
          "state": {
            "_view_name": "StyleView",
            "_model_name": "ProgressStyleModel",
            "description_width": "initial",
            "_view_module": "@jupyter-widgets/base",
            "_model_module_version": "1.5.0",
            "_view_count": null,
            "_view_module_version": "1.2.0",
            "bar_color": null,
            "_model_module": "@jupyter-widgets/controls"
          }
        },
        "a53f0c20348c4300b521cbc33a67cbc2": {
          "model_module": "@jupyter-widgets/base",
          "model_name": "LayoutModel",
          "state": {
            "_view_name": "LayoutView",
            "grid_template_rows": null,
            "right": null,
            "justify_content": null,
            "_view_module": "@jupyter-widgets/base",
            "overflow": null,
            "_model_module_version": "1.2.0",
            "_view_count": null,
            "flex_flow": null,
            "width": null,
            "min_width": null,
            "border": null,
            "align_items": null,
            "bottom": null,
            "_model_module": "@jupyter-widgets/base",
            "top": null,
            "grid_column": null,
            "overflow_y": null,
            "overflow_x": null,
            "grid_auto_flow": null,
            "grid_area": null,
            "grid_template_columns": null,
            "flex": null,
            "_model_name": "LayoutModel",
            "justify_items": null,
            "grid_row": null,
            "max_height": null,
            "align_content": null,
            "visibility": null,
            "align_self": null,
            "height": null,
            "min_height": null,
            "padding": null,
            "grid_auto_rows": null,
            "grid_gap": null,
            "max_width": null,
            "order": null,
            "_view_module_version": "1.2.0",
            "grid_template_areas": null,
            "object_position": null,
            "object_fit": null,
            "grid_auto_columns": null,
            "margin": null,
            "display": null,
            "left": null
          }
        },
        "3c8a3ed7a054411d8086886c6ad9fa2f": {
          "model_module": "@jupyter-widgets/controls",
          "model_name": "DescriptionStyleModel",
          "state": {
            "_view_name": "StyleView",
            "_model_name": "DescriptionStyleModel",
            "description_width": "",
            "_view_module": "@jupyter-widgets/base",
            "_model_module_version": "1.5.0",
            "_view_count": null,
            "_view_module_version": "1.2.0",
            "_model_module": "@jupyter-widgets/controls"
          }
        },
        "b691529c32d3407695ac65bce06136f7": {
          "model_module": "@jupyter-widgets/base",
          "model_name": "LayoutModel",
          "state": {
            "_view_name": "LayoutView",
            "grid_template_rows": null,
            "right": null,
            "justify_content": null,
            "_view_module": "@jupyter-widgets/base",
            "overflow": null,
            "_model_module_version": "1.2.0",
            "_view_count": null,
            "flex_flow": null,
            "width": null,
            "min_width": null,
            "border": null,
            "align_items": null,
            "bottom": null,
            "_model_module": "@jupyter-widgets/base",
            "top": null,
            "grid_column": null,
            "overflow_y": null,
            "overflow_x": null,
            "grid_auto_flow": null,
            "grid_area": null,
            "grid_template_columns": null,
            "flex": null,
            "_model_name": "LayoutModel",
            "justify_items": null,
            "grid_row": null,
            "max_height": null,
            "align_content": null,
            "visibility": null,
            "align_self": null,
            "height": null,
            "min_height": null,
            "padding": null,
            "grid_auto_rows": null,
            "grid_gap": null,
            "max_width": null,
            "order": null,
            "_view_module_version": "1.2.0",
            "grid_template_areas": null,
            "object_position": null,
            "object_fit": null,
            "grid_auto_columns": null,
            "margin": null,
            "display": null,
            "left": null
          }
        }
      }
    }
  },
  "cells": [
    {
      "cell_type": "markdown",
      "metadata": {
        "id": "view-in-github",
        "colab_type": "text"
      },
      "source": [
        "<a href=\"https://colab.research.google.com/github/NSR9/EVA4/blob/master/S8/S8_mainFile.ipynb\" target=\"_parent\"><img src=\"https://colab.research.google.com/assets/colab-badge.svg\" alt=\"Open In Colab\"/></a>"
      ]
    },
    {
      "cell_type": "markdown",
      "metadata": {
        "id": "ZnCWay-LyNze",
        "colab_type": "text"
      },
      "source": [
        "**Load required libraries**"
      ]
    },
    {
      "cell_type": "code",
      "metadata": {
        "id": "KkWSFI2_ySMA",
        "colab_type": "code",
        "outputId": "24434e5a-357d-4694-e5ea-0589b4e23830",
        "colab": {
          "base_uri": "https://localhost:8080/",
          "height": 33
        }
      },
      "source": [
        "#importing python dependencies\n",
        "from __future__ import print_function\n",
        "import numpy as np\n",
        "import sys\n",
        "\n",
        "#importing Pytorch packages\n",
        "import torch\n",
        "import torchvision\n",
        "import torch.nn as nn\n",
        "import torch.nn.functional as F\n",
        "import torch.optim as optim\n",
        "from torchvision import datasets, transforms\n",
        "from torch.optim.lr_scheduler import OneCycleLR\n",
        "\n",
        "# Importing torch summary\n",
        "!pip install torchsummary\n",
        "from torchsummary import summary\n",
        "\n",
        "\n",
        "#Importing matplotlib\n",
        "%matplotlib inline\n",
        "import matplotlib.pyplot as plt\n",
        "\n",
        "# Importing google drive colab package to load files\n",
        "from google.colab import drive\n"
      ],
      "execution_count": 1,
      "outputs": [
        {
          "output_type": "stream",
          "text": [
            "Requirement already satisfied: torchsummary in /usr/local/lib/python3.6/dist-packages (1.5.1)\n"
          ],
          "name": "stdout"
        }
      ]
    },
    {
      "cell_type": "code",
      "metadata": {
        "id": "KlRKP46gZeKb",
        "colab_type": "code",
        "outputId": "0b29a6a5-5642-42f5-d7ca-6ee90b15a618",
        "colab": {
          "base_uri": "https://localhost:8080/",
          "height": 33
        }
      },
      "source": [
        "# mount the drive \n",
        "drive.mount('/content/drive')"
      ],
      "execution_count": 2,
      "outputs": [
        {
          "output_type": "stream",
          "text": [
            "Drive already mounted at /content/drive; to attempt to forcibly remount, call drive.mount(\"/content/drive\", force_remount=True).\n"
          ],
          "name": "stdout"
        }
      ]
    },
    {
      "cell_type": "code",
      "metadata": {
        "id": "txbLotrzZeNo",
        "colab_type": "code",
        "colab": {}
      },
      "source": [
        "# add path to our library in default search path\n",
        "sys.path.append('/content/drive/My Drive/S7_final')"
      ],
      "execution_count": 0,
      "outputs": []
    },
    {
      "cell_type": "code",
      "metadata": {
        "id": "ESRPXpRSto_F",
        "colab_type": "code",
        "outputId": "5b64beb0-4692-44db-f6e7-58c44539b43c",
        "colab": {
          "base_uri": "https://localhost:8080/",
          "height": 99,
          "referenced_widgets": [
            "1b6fe14e9c0047b3b7d3f38915e62e2d",
            "195c9bbf690c4978aee6e914b9629535",
            "faf1504723934302b05801895a5aeccc",
            "02d44d5ceadc43f79be0135e4d1f8af6",
            "c7c07eb700854c5a96e67ce253760024",
            "a53f0c20348c4300b521cbc33a67cbc2",
            "3c8a3ed7a054411d8086886c6ad9fa2f",
            "b691529c32d3407695ac65bce06136f7"
          ]
        }
      },
      "source": [
        "#importing python modules\n",
        "import ViewData\n",
        "import cifar10_models as models # drive\n",
        "import resnet as rsnet\n",
        "import execute # this is to train & test the model\n",
        "import data_transform as dt#import data_transform\n",
        "\n"
      ],
      "execution_count": 4,
      "outputs": [
        {
          "output_type": "stream",
          "text": [
            "Downloading https://www.cs.toronto.edu/~kriz/cifar-10-python.tar.gz to ./data/cifar-10-python.tar.gz\n"
          ],
          "name": "stdout"
        },
        {
          "output_type": "display_data",
          "data": {
            "application/vnd.jupyter.widget-view+json": {
              "model_id": "1b6fe14e9c0047b3b7d3f38915e62e2d",
              "version_minor": 0,
              "version_major": 2
            },
            "text/plain": [
              "HBox(children=(FloatProgress(value=1.0, bar_style='info', max=1.0), HTML(value='')))"
            ]
          },
          "metadata": {
            "tags": []
          }
        },
        {
          "output_type": "stream",
          "text": [
            "Extracting ./data/cifar-10-python.tar.gz to ./data\n",
            "Files already downloaded and verified\n"
          ],
          "name": "stdout"
        }
      ]
    },
    {
      "cell_type": "code",
      "metadata": {
        "id": "10T5wo3_Qw3L",
        "colab_type": "code",
        "outputId": "c5a15744-7f27-48c2-9e3f-e8c2db196231",
        "colab": {
          "base_uri": "https://localhost:8080/",
          "height": 50
        }
      },
      "source": [
        "# trainloader and testloader defined and loaded\n",
        "tl = dt.DataTransformandLoad()\n",
        "channel_means = (0.5, 0.5, 0.5)\n",
        "channel_stdevs = (0.5, 0.5, 0.5)\n",
        "trainloader, testloader = tl.TransformAndLoad(mean1 = channel_means,stdev1 = channel_stdevs)"
      ],
      "execution_count": 5,
      "outputs": [
        {
          "output_type": "stream",
          "text": [
            "Files already downloaded and verified\n",
            "Files already downloaded and verified\n"
          ],
          "name": "stdout"
        }
      ]
    },
    {
      "cell_type": "code",
      "metadata": {
        "id": "xFeiexLAoSvR",
        "colab_type": "code",
        "outputId": "21ddae8c-ab15-43c5-8c5f-e7e2789c9f8b",
        "colab": {
          "base_uri": "https://localhost:8080/",
          "height": 286
        }
      },
      "source": [
        "# let us view some training images\n",
        "ViewData.getTrainImages()"
      ],
      "execution_count": 6,
      "outputs": [
        {
          "output_type": "stream",
          "text": [
            "  car   dog   car   car\n"
          ],
          "name": "stdout"
        },
        {
          "output_type": "display_data",
          "data": {
            "image/png": "[encoded data removed]",
            "text/plain": [
              "<Figure size 432x288 with 1 Axes>"
            ]
          },
          "metadata": {
            "tags": [],
            "needs_background": "light"
          }
        }
      ]
    },
    {
      "cell_type": "code",
      "metadata": {
        "id": "-TjI_kpU3WyA",
        "colab_type": "code",
        "outputId": "556c95a1-d786-4ef0-b490-803737d7a9bb",
        "colab": {
          "base_uri": "https://localhost:8080/",
          "height": 1000
        }
      },
      "source": [
        "# Model Summary\n",
        "\n",
        "#using GPU \n",
        "use_cuda = torch.cuda.is_available()\n",
        "device = torch.device(\"cuda\" if use_cuda else \"cpu\")\n",
        "print(device)\n",
        "\n",
        "#creating a model\n",
        "model =  rsnet.ResNet18().to(device)\n",
        "# View summary of the model\n",
        "summary(model, input_size=(3, 32, 32))\n"
      ],
      "execution_count": 7,
      "outputs": [
        {
          "output_type": "stream",
          "text": [
            "cuda\n",
            "----------------------------------------------------------------\n",
            "        Layer (type)               Output Shape         Param #\n",
            "================================================================\n",
            "            Conv2d-1           [-1, 64, 32, 32]           1,728\n",
            "       BatchNorm2d-2           [-1, 64, 32, 32]             128\n",
            "            Conv2d-3           [-1, 64, 32, 32]          36,864\n",
            "       BatchNorm2d-4           [-1, 64, 32, 32]             128\n",
            "           Dropout-5           [-1, 64, 32, 32]               0\n",
            "            Conv2d-6           [-1, 64, 32, 32]          36,864\n",
            "       BatchNorm2d-7           [-1, 64, 32, 32]             128\n",
            "           Dropout-8           [-1, 64, 32, 32]               0\n",
            "        BasicBlock-9           [-1, 64, 32, 32]               0\n",
            "           Conv2d-10           [-1, 64, 32, 32]          36,864\n",
            "      BatchNorm2d-11           [-1, 64, 32, 32]             128\n",
            "          Dropout-12           [-1, 64, 32, 32]               0\n",
            "           Conv2d-13           [-1, 64, 32, 32]          36,864\n",
            "      BatchNorm2d-14           [-1, 64, 32, 32]             128\n",
            "          Dropout-15           [-1, 64, 32, 32]               0\n",
            "       BasicBlock-16           [-1, 64, 32, 32]               0\n",
            "           Conv2d-17          [-1, 128, 16, 16]          73,728\n",
            "      BatchNorm2d-18          [-1, 128, 16, 16]             256\n",
            "          Dropout-19          [-1, 128, 16, 16]               0\n",
            "           Conv2d-20          [-1, 128, 16, 16]         147,456\n",
            "      BatchNorm2d-21          [-1, 128, 16, 16]             256\n",
            "          Dropout-22          [-1, 128, 16, 16]               0\n",
            "           Conv2d-23          [-1, 128, 16, 16]           8,192\n",
            "      BatchNorm2d-24          [-1, 128, 16, 16]             256\n",
            "          Dropout-25          [-1, 128, 16, 16]               0\n",
            "       BasicBlock-26          [-1, 128, 16, 16]               0\n",
            "           Conv2d-27          [-1, 128, 16, 16]         147,456\n",
            "      BatchNorm2d-28          [-1, 128, 16, 16]             256\n",
            "          Dropout-29          [-1, 128, 16, 16]               0\n",
            "           Conv2d-30          [-1, 128, 16, 16]         147,456\n",
            "      BatchNorm2d-31          [-1, 128, 16, 16]             256\n",
            "          Dropout-32          [-1, 128, 16, 16]               0\n",
            "       BasicBlock-33          [-1, 128, 16, 16]               0\n",
            "           Conv2d-34            [-1, 256, 8, 8]         294,912\n",
            "      BatchNorm2d-35            [-1, 256, 8, 8]             512\n",
            "          Dropout-36            [-1, 256, 8, 8]               0\n",
            "           Conv2d-37            [-1, 256, 8, 8]         589,824\n",
            "      BatchNorm2d-38            [-1, 256, 8, 8]             512\n",
            "          Dropout-39            [-1, 256, 8, 8]               0\n",
            "           Conv2d-40            [-1, 256, 8, 8]          32,768\n",
            "      BatchNorm2d-41            [-1, 256, 8, 8]             512\n",
            "          Dropout-42            [-1, 256, 8, 8]               0\n",
            "       BasicBlock-43            [-1, 256, 8, 8]               0\n",
            "           Conv2d-44            [-1, 256, 8, 8]         589,824\n",
            "      BatchNorm2d-45            [-1, 256, 8, 8]             512\n",
            "          Dropout-46            [-1, 256, 8, 8]               0\n",
            "           Conv2d-47            [-1, 256, 8, 8]         589,824\n",
            "      BatchNorm2d-48            [-1, 256, 8, 8]             512\n",
            "          Dropout-49            [-1, 256, 8, 8]               0\n",
            "       BasicBlock-50            [-1, 256, 8, 8]               0\n",
            "           Conv2d-51            [-1, 512, 4, 4]       1,179,648\n",
            "      BatchNorm2d-52            [-1, 512, 4, 4]           1,024\n",
            "          Dropout-53            [-1, 512, 4, 4]               0\n",
            "           Conv2d-54            [-1, 512, 4, 4]       2,359,296\n",
            "      BatchNorm2d-55            [-1, 512, 4, 4]           1,024\n",
            "          Dropout-56            [-1, 512, 4, 4]               0\n",
            "           Conv2d-57            [-1, 512, 4, 4]         131,072\n",
            "      BatchNorm2d-58            [-1, 512, 4, 4]           1,024\n",
            "          Dropout-59            [-1, 512, 4, 4]               0\n",
            "       BasicBlock-60            [-1, 512, 4, 4]               0\n",
            "           Conv2d-61            [-1, 512, 4, 4]       2,359,296\n",
            "      BatchNorm2d-62            [-1, 512, 4, 4]           1,024\n",
            "          Dropout-63            [-1, 512, 4, 4]               0\n",
            "           Conv2d-64            [-1, 512, 4, 4]       2,359,296\n",
            "      BatchNorm2d-65            [-1, 512, 4, 4]           1,024\n",
            "          Dropout-66            [-1, 512, 4, 4]               0\n",
            "       BasicBlock-67            [-1, 512, 4, 4]               0\n",
            "           Linear-68                   [-1, 10]           5,130\n",
            "================================================================\n",
            "Total params: 11,173,962\n",
            "Trainable params: 11,173,962\n",
            "Non-trainable params: 0\n",
            "----------------------------------------------------------------\n",
            "Input size (MB): 0.01\n",
            "Forward/backward pass size (MB): 15.44\n",
            "Params size (MB): 42.63\n",
            "Estimated Total Size (MB): 58.07\n",
            "----------------------------------------------------------------\n"
          ],
          "name": "stdout"
        }
      ]
    },
    {
      "cell_type": "code",
      "metadata": {
        "id": "YEt2S_7DtjRl",
        "colab_type": "code",
        "outputId": "e4577bf3-7084-471c-9ea7-75919aaf9765",
        "colab": {
          "base_uri": "https://localhost:8080/",
          "height": 1000
        }
      },
      "source": [
        "#creating model1 to import test and train modules\n",
        "model1 = execute.Test_Train()\n",
        "\n",
        "#defining optimizer and scheduler\n",
        "optimizer = optim.SGD(model.parameters(), lr=0.01, momentum=0.9)\n",
        "scheduler = torch.optim.lr_scheduler.OneCycleLR(optimizer, max_lr=0.1, steps_per_epoch=len(trainloader), epochs=15)\n",
        "\n",
        "#Running the Epochs\n",
        "EPOCHS = 15\n",
        "for epoch in range(1,EPOCHS+1):\n",
        "  print(\"EPOCH:\", epoch)\n",
        "  model1.train(model, device, trainloader, optimizer, epoch, scheduler)\n",
        "  model1.test(model, device, testloader,\"model.pt\")"
      ],
      "execution_count": 8,
      "outputs": [
        {
          "output_type": "stream",
          "text": [
            "\r  0%|          | 0/391 [00:00<?, ?it/s]"
          ],
          "name": "stderr"
        },
        {
          "output_type": "stream",
          "text": [
            "EPOCH: 1\n"
          ],
          "name": "stdout"
        },
        {
          "output_type": "stream",
          "text": [
            "Loss=1.0793089866638184 Batch_id=390 Accuracy=43.95: 100%|██████████| 391/391 [00:31<00:00, 12.53it/s]\n",
            "  0%|          | 0/391 [00:00<?, ?it/s]"
          ],
          "name": "stderr"
        },
        {
          "output_type": "stream",
          "text": [
            "Validation loss has  decreased (inf --> 0.0108).  Saving model ...\n",
            "\n",
            "Test set: Average loss: 0.0108, Accuracy: 5351/10000 (53.51%)\n",
            "\n",
            "EPOCH: 2\n"
          ],
          "name": "stdout"
        },
        {
          "output_type": "stream",
          "text": [
            "Loss=1.2346422672271729 Batch_id=390 Accuracy=60.16: 100%|██████████| 391/391 [00:31<00:00, 12.60it/s]\n",
            "  0%|          | 0/391 [00:00<?, ?it/s]"
          ],
          "name": "stderr"
        },
        {
          "output_type": "stream",
          "text": [
            "Validation loss has  decreased (0.0108 --> 0.0079).  Saving model ...\n",
            "\n",
            "Test set: Average loss: 0.0079, Accuracy: 6555/10000 (65.55%)\n",
            "\n",
            "EPOCH: 3\n"
          ],
          "name": "stdout"
        },
        {
          "output_type": "stream",
          "text": [
            "Loss=1.0222817659378052 Batch_id=390 Accuracy=68.82: 100%|██████████| 391/391 [00:30<00:00, 12.63it/s]\n",
            "  0%|          | 0/391 [00:00<?, ?it/s]"
          ],
          "name": "stderr"
        },
        {
          "output_type": "stream",
          "text": [
            "Validation loss has  decreased (0.0079 --> 0.0073).  Saving model ...\n",
            "\n",
            "Test set: Average loss: 0.0073, Accuracy: 7029/10000 (70.29%)\n",
            "\n",
            "EPOCH: 4\n"
          ],
          "name": "stdout"
        },
        {
          "output_type": "stream",
          "text": [
            "Loss=0.38855117559432983 Batch_id=390 Accuracy=75.11: 100%|██████████| 391/391 [00:30<00:00, 12.65it/s]\n",
            "  0%|          | 0/391 [00:00<?, ?it/s]"
          ],
          "name": "stderr"
        },
        {
          "output_type": "stream",
          "text": [
            "Validation loss has  decreased (0.0073 --> 0.0053).  Saving model ...\n",
            "\n",
            "Test set: Average loss: 0.0053, Accuracy: 7737/10000 (77.37%)\n",
            "\n",
            "EPOCH: 5\n"
          ],
          "name": "stdout"
        },
        {
          "output_type": "stream",
          "text": [
            "Loss=0.6341381669044495 Batch_id=390 Accuracy=78.56: 100%|██████████| 391/391 [00:30<00:00, 12.69it/s]\n",
            "  0%|          | 0/391 [00:00<?, ?it/s]"
          ],
          "name": "stderr"
        },
        {
          "output_type": "stream",
          "text": [
            "\n",
            "Test set: Average loss: 0.0072, Accuracy: 6953/10000 (69.53%)\n",
            "\n",
            "EPOCH: 6\n"
          ],
          "name": "stdout"
        },
        {
          "output_type": "stream",
          "text": [
            "Loss=0.5641577243804932 Batch_id=390 Accuracy=81.21: 100%|██████████| 391/391 [00:30<00:00, 12.69it/s]\n",
            "  0%|          | 0/391 [00:00<?, ?it/s]"
          ],
          "name": "stderr"
        },
        {
          "output_type": "stream",
          "text": [
            "Validation loss has  decreased (0.0053 --> 0.0047).  Saving model ...\n",
            "\n",
            "Test set: Average loss: 0.0047, Accuracy: 7985/10000 (79.85%)\n",
            "\n",
            "EPOCH: 7\n"
          ],
          "name": "stdout"
        },
        {
          "output_type": "stream",
          "text": [
            "Loss=0.2334824502468109 Batch_id=390 Accuracy=83.35: 100%|██████████| 391/391 [00:30<00:00, 12.69it/s]\n",
            "  0%|          | 0/391 [00:00<?, ?it/s]"
          ],
          "name": "stderr"
        },
        {
          "output_type": "stream",
          "text": [
            "Validation loss has  decreased (0.0047 --> 0.0037).  Saving model ...\n",
            "\n",
            "Test set: Average loss: 0.0037, Accuracy: 8406/10000 (84.06%)\n",
            "\n",
            "EPOCH: 8\n"
          ],
          "name": "stdout"
        },
        {
          "output_type": "stream",
          "text": [
            "Loss=0.3897789716720581 Batch_id=390 Accuracy=85.59: 100%|██████████| 391/391 [00:30<00:00, 12.65it/s]\n",
            "  0%|          | 0/391 [00:00<?, ?it/s]"
          ],
          "name": "stderr"
        },
        {
          "output_type": "stream",
          "text": [
            "Validation loss has  decreased (0.0037 --> 0.0037).  Saving model ...\n",
            "\n",
            "Test set: Average loss: 0.0037, Accuracy: 8472/10000 (84.72%)\n",
            "\n",
            "EPOCH: 9\n"
          ],
          "name": "stdout"
        },
        {
          "output_type": "stream",
          "text": [
            "Loss=0.44121116399765015 Batch_id=390 Accuracy=86.96: 100%|██████████| 391/391 [00:30<00:00, 12.66it/s]\n",
            "  0%|          | 0/391 [00:00<?, ?it/s]"
          ],
          "name": "stderr"
        },
        {
          "output_type": "stream",
          "text": [
            "\n",
            "Test set: Average loss: 0.0037, Accuracy: 8461/10000 (84.61%)\n",
            "\n",
            "EPOCH: 10\n"
          ],
          "name": "stdout"
        },
        {
          "output_type": "stream",
          "text": [
            "Loss=0.23318922519683838 Batch_id=390 Accuracy=88.61: 100%|██████████| 391/391 [00:30<00:00, 12.71it/s]\n",
            "  0%|          | 0/391 [00:00<?, ?it/s]"
          ],
          "name": "stderr"
        },
        {
          "output_type": "stream",
          "text": [
            "Validation loss has  decreased (0.0037 --> 0.0033).  Saving model ...\n",
            "\n",
            "Test set: Average loss: 0.0033, Accuracy: 8659/10000 (86.59%)\n",
            "\n",
            "EPOCH: 11\n"
          ],
          "name": "stdout"
        },
        {
          "output_type": "stream",
          "text": [
            "Loss=0.3008347451686859 Batch_id=390 Accuracy=90.33: 100%|██████████| 391/391 [00:30<00:00, 12.67it/s]\n",
            "  0%|          | 0/391 [00:00<?, ?it/s]"
          ],
          "name": "stderr"
        },
        {
          "output_type": "stream",
          "text": [
            "Validation loss has  decreased (0.0033 --> 0.0031).  Saving model ...\n",
            "\n",
            "Test set: Average loss: 0.0031, Accuracy: 8752/10000 (87.52%)\n",
            "\n",
            "EPOCH: 12\n"
          ],
          "name": "stdout"
        },
        {
          "output_type": "stream",
          "text": [
            "Loss=0.25727537274360657 Batch_id=390 Accuracy=92.25: 100%|██████████| 391/391 [00:31<00:00, 12.59it/s]\n",
            "  0%|          | 0/391 [00:00<?, ?it/s]"
          ],
          "name": "stderr"
        },
        {
          "output_type": "stream",
          "text": [
            "Validation loss has  decreased (0.0031 --> 0.0030).  Saving model ...\n",
            "\n",
            "Test set: Average loss: 0.0030, Accuracy: 8822/10000 (88.22%)\n",
            "\n",
            "EPOCH: 13\n"
          ],
          "name": "stdout"
        },
        {
          "output_type": "stream",
          "text": [
            "Loss=0.13066360354423523 Batch_id=390 Accuracy=93.85: 100%|██████████| 391/391 [00:30<00:00, 12.67it/s]\n",
            "  0%|          | 0/391 [00:00<?, ?it/s]"
          ],
          "name": "stderr"
        },
        {
          "output_type": "stream",
          "text": [
            "\n",
            "Test set: Average loss: 0.0031, Accuracy: 8861/10000 (88.61%)\n",
            "\n",
            "EPOCH: 14\n"
          ],
          "name": "stdout"
        },
        {
          "output_type": "stream",
          "text": [
            "Loss=0.15526637434959412 Batch_id=390 Accuracy=95.37: 100%|██████████| 391/391 [00:30<00:00, 12.66it/s]\n",
            "  0%|          | 0/391 [00:00<?, ?it/s]"
          ],
          "name": "stderr"
        },
        {
          "output_type": "stream",
          "text": [
            "\n",
            "Test set: Average loss: 0.0031, Accuracy: 8909/10000 (89.09%)\n",
            "\n",
            "EPOCH: 15\n"
          ],
          "name": "stdout"
        },
        {
          "output_type": "stream",
          "text": [
            "Loss=0.21478304266929626 Batch_id=390 Accuracy=96.22: 100%|██████████| 391/391 [00:30<00:00, 12.66it/s]\n"
          ],
          "name": "stderr"
        },
        {
          "output_type": "stream",
          "text": [
            "\n",
            "Test set: Average loss: 0.0031, Accuracy: 8916/10000 (89.16%)\n",
            "\n"
          ],
          "name": "stdout"
        }
      ]
    }
  ]
}