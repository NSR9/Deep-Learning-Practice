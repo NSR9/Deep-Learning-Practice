{
  "nbformat": 4,
  "nbformat_minor": 0,
  "metadata": {
    "colab": {
      "name": "Q9Solution.ipynb",
      "provenance": [],
      "authorship_tag": "ABX9TyMDqR5FoWWPy05UUi12ekFI",
      "include_colab_link": true
    },
    "kernelspec": {
      "name": "python3",
      "display_name": "Python 3"
    },
    "accelerator": "GPU"
  },
  "cells": [
    {
      "cell_type": "markdown",
      "metadata": {
        "id": "view-in-github",
        "colab_type": "text"
      },
      "source": [
        "<a href=\"https://colab.research.google.com/github/NSR9/EVA4/blob/master/Q9/Q9Solution.ipynb\" target=\"_parent\"><img src=\"https://colab.research.google.com/assets/colab-badge.svg\" alt=\"Open In Colab\"/></a>"
      ]
    },
    {
      "cell_type": "code",
      "metadata": {
        "id": "rwrjELXKaQZA",
        "colab_type": "code",
        "outputId": "64d43407-6118-4f41-b32d-dbd81a6e4a93",
        "colab": {
          "base_uri": "https://localhost:8080/",
          "height": 33
        }
      },
      "source": [
        "from datetime import datetime\n",
        "print(\"Current Date/Time: \", datetime.now())\n"
      ],
      "execution_count": 1,
      "outputs": [
        {
          "output_type": "stream",
          "text": [
            "Current Date/Time:  2020-05-30 14:19:56.855699\n"
          ],
          "name": "stdout"
        }
      ]
    },
    {
      "cell_type": "code",
      "metadata": {
        "id": "FKFnBt4BwWUy",
        "colab_type": "code",
        "colab": {
          "base_uri": "https://localhost:8080/",
          "height": 338
        },
        "outputId": "9f85cdfe-e188-4fd5-da2d-7bf3181b76fd"
      },
      "source": [
        "#importing python dependencies\n",
        "from __future__ import print_function\n",
        "import numpy as np\n",
        "import sys\n",
        "\n",
        "#importing Pytorch packages\n",
        "import torch\n",
        "import torchvision\n",
        "import torch.nn as nn\n",
        "import torch.nn.functional as F\n",
        "import torch.optim as optim\n",
        "from torchvision import datasets, transforms\n",
        "from torch.optim.lr_scheduler import OneCycleLR\n",
        "\n",
        "# Importing torch summary\n",
        "!pip install torchsummary\n",
        "from torchsummary import summary\n",
        "\n",
        "#importing albumentations for datatransformation\\\n",
        "!pip install albumentations\n",
        "\n",
        "\n",
        "#Importing matplotlib\n",
        "%matplotlib inline\n",
        "import matplotlib.pyplot as plt\n",
        "\n",
        "# Importing google drive colab package to load files\n",
        "from google.colab import drive"
      ],
      "execution_count": 2,
      "outputs": [
        {
          "output_type": "stream",
          "text": [
            "Requirement already satisfied: torchsummary in /usr/local/lib/python3.6/dist-packages (1.5.1)\n",
            "Requirement already satisfied: albumentations in /usr/local/lib/python3.6/dist-packages (0.1.12)\n",
            "Requirement already satisfied: scipy in /usr/local/lib/python3.6/dist-packages (from albumentations) (1.4.1)\n",
            "Requirement already satisfied: opencv-python in /usr/local/lib/python3.6/dist-packages (from albumentations) (4.1.2.30)\n",
            "Requirement already satisfied: imgaug<0.2.7,>=0.2.5 in /usr/local/lib/python3.6/dist-packages (from albumentations) (0.2.6)\n",
            "Requirement already satisfied: numpy>=1.11.1 in /usr/local/lib/python3.6/dist-packages (from albumentations) (1.18.4)\n",
            "Requirement already satisfied: six in /usr/local/lib/python3.6/dist-packages (from imgaug<0.2.7,>=0.2.5->albumentations) (1.12.0)\n",
            "Requirement already satisfied: scikit-image>=0.11.0 in /usr/local/lib/python3.6/dist-packages (from imgaug<0.2.7,>=0.2.5->albumentations) (0.16.2)\n",
            "Requirement already satisfied: imageio>=2.3.0 in /usr/local/lib/python3.6/dist-packages (from scikit-image>=0.11.0->imgaug<0.2.7,>=0.2.5->albumentations) (2.4.1)\n",
            "Requirement already satisfied: networkx>=2.0 in /usr/local/lib/python3.6/dist-packages (from scikit-image>=0.11.0->imgaug<0.2.7,>=0.2.5->albumentations) (2.4)\n",
            "Requirement already satisfied: PyWavelets>=0.4.0 in /usr/local/lib/python3.6/dist-packages (from scikit-image>=0.11.0->imgaug<0.2.7,>=0.2.5->albumentations) (1.1.1)\n",
            "Requirement already satisfied: pillow>=4.3.0 in /usr/local/lib/python3.6/dist-packages (from scikit-image>=0.11.0->imgaug<0.2.7,>=0.2.5->albumentations) (7.0.0)\n",
            "Requirement already satisfied: matplotlib!=3.0.0,>=2.0.0 in /usr/local/lib/python3.6/dist-packages (from scikit-image>=0.11.0->imgaug<0.2.7,>=0.2.5->albumentations) (3.2.1)\n",
            "Requirement already satisfied: decorator>=4.3.0 in /usr/local/lib/python3.6/dist-packages (from networkx>=2.0->scikit-image>=0.11.0->imgaug<0.2.7,>=0.2.5->albumentations) (4.4.2)\n",
            "Requirement already satisfied: python-dateutil>=2.1 in /usr/local/lib/python3.6/dist-packages (from matplotlib!=3.0.0,>=2.0.0->scikit-image>=0.11.0->imgaug<0.2.7,>=0.2.5->albumentations) (2.8.1)\n",
            "Requirement already satisfied: cycler>=0.10 in /usr/local/lib/python3.6/dist-packages (from matplotlib!=3.0.0,>=2.0.0->scikit-image>=0.11.0->imgaug<0.2.7,>=0.2.5->albumentations) (0.10.0)\n",
            "Requirement already satisfied: kiwisolver>=1.0.1 in /usr/local/lib/python3.6/dist-packages (from matplotlib!=3.0.0,>=2.0.0->scikit-image>=0.11.0->imgaug<0.2.7,>=0.2.5->albumentations) (1.2.0)\n",
            "Requirement already satisfied: pyparsing!=2.0.4,!=2.1.2,!=2.1.6,>=2.0.1 in /usr/local/lib/python3.6/dist-packages (from matplotlib!=3.0.0,>=2.0.0->scikit-image>=0.11.0->imgaug<0.2.7,>=0.2.5->albumentations) (2.4.7)\n"
          ],
          "name": "stdout"
        }
      ]
    },
    {
      "cell_type": "code",
      "metadata": {
        "id": "q09XKIl8cfrr",
        "colab_type": "code",
        "outputId": "74025ac1-d33f-4e7b-b697-5617588fecc5",
        "colab": {
          "base_uri": "https://localhost:8080/",
          "height": 33
        }
      },
      "source": [
        "drive.mount('/content/drive')"
      ],
      "execution_count": 3,
      "outputs": [
        {
          "output_type": "stream",
          "text": [
            "Drive already mounted at /content/drive; to attempt to forcibly remount, call drive.mount(\"/content/drive\", force_remount=True).\n"
          ],
          "name": "stdout"
        }
      ]
    },
    {
      "cell_type": "code",
      "metadata": {
        "id": "MlZhbOWfagzf",
        "colab_type": "code",
        "colab": {}
      },
      "source": [
        "# add path to our library in default search path\n",
        "sys.path.append('/content/drive/My Drive/Q9')"
      ],
      "execution_count": 0,
      "outputs": []
    },
    {
      "cell_type": "code",
      "metadata": {
        "id": "jcaWw9QuarTI",
        "colab_type": "code",
        "outputId": "9b1ae5dc-a927-4eb3-b195-c1a37ece373f",
        "colab": {
          "base_uri": "https://localhost:8080/",
          "height": 50
        }
      },
      "source": [
        "#importing python modules\n",
        "import ViewData\n",
        "import Dataloaders1\n",
        "import Albumentations\n",
        "\n",
        "import QuizDNN as models # drive\n",
        "\n",
        "import execute # this is to train & test the model\n",
        "import data_transform as dt#import data_transform\n"
      ],
      "execution_count": 5,
      "outputs": [
        {
          "output_type": "stream",
          "text": [
            "Files already downloaded and verified\n",
            "Files already downloaded and verified\n"
          ],
          "name": "stdout"
        }
      ]
    },
    {
      "cell_type": "code",
      "metadata": {
        "id": "cC0dEXfMawsQ",
        "colab_type": "code",
        "outputId": "a8134ba6-80d9-4976-f64b-14aa6ffcddeb",
        "colab": {
          "base_uri": "https://localhost:8080/",
          "height": 50
        }
      },
      "source": [
        "# trainloader and testloader defined and loaded\n",
        "tl = dt.DataTransformandLoad()\n",
        "channel_means = (0.5, 0.5, 0.5)\n",
        "channel_stdevs = (0.5, 0.5, 0.5)\n",
        "trainloader, testloader = tl.TransformAndLoad(mean1 = channel_means,stdev1 = channel_stdevs)\n",
        "\n",
        "\n"
      ],
      "execution_count": 6,
      "outputs": [
        {
          "output_type": "stream",
          "text": [
            "Files already downloaded and verified\n",
            "Files already downloaded and verified\n"
          ],
          "name": "stdout"
        }
      ]
    },
    {
      "cell_type": "code",
      "metadata": {
        "id": "0kNyqZ8ca3Cp",
        "colab_type": "code",
        "outputId": "cb1ae82c-9c5e-4ca1-aef0-738744f7d5f1",
        "colab": {
          "base_uri": "https://localhost:8080/",
          "height": 286
        }
      },
      "source": [
        "# let us view some training images\n",
        "ViewData.getTrainImages()"
      ],
      "execution_count": 7,
      "outputs": [
        {
          "output_type": "stream",
          "text": [
            "truck   cat  bird   dog\n"
          ],
          "name": "stdout"
        },
        {
          "output_type": "display_data",
          "data": {
            "image/png": "[encoded data removed]",
            "text/plain": [
              "<Figure size 432x288 with 1 Axes>"
            ]
          },
          "metadata": {
            "tags": [],
            "needs_background": "light"
          }
        }
      ]
    },
    {
      "cell_type": "code",
      "metadata": {
        "id": "nTgZRZ_2bEMI",
        "colab_type": "code",
        "outputId": "dbb93c7f-fcd3-4ff6-b215-27fd3a44c5af",
        "colab": {
          "base_uri": "https://localhost:8080/",
          "height": 853
        }
      },
      "source": [
        "# Model Summary\n",
        "\n",
        "#using GPU \n",
        "use_cuda = torch.cuda.is_available()\n",
        "device = torch.device(\"cuda\" if use_cuda else \"cpu\")\n",
        "print(device)\n",
        "\n",
        "#creating a model\n",
        "#model =  rsnet.ResNet18().to(device)\n",
        "model = models.MyNet(False).to(device)\n",
        "# View summary of the model\n",
        "summary(model, input_size=(3, 32, 32))"
      ],
      "execution_count": 8,
      "outputs": [
        {
          "output_type": "stream",
          "text": [
            "cuda\n",
            "----------------------------------------------------------------\n",
            "        Layer (type)               Output Shape         Param #\n",
            "================================================================\n",
            "            Conv2d-1           [-1, 16, 32, 32]             432\n",
            "              ReLU-2           [-1, 16, 32, 32]               0\n",
            "       BatchNorm2d-3           [-1, 16, 32, 32]              32\n",
            "           Dropout-4           [-1, 16, 32, 32]               0\n",
            "            Conv2d-5           [-1, 32, 30, 30]           4,608\n",
            "              ReLU-6           [-1, 32, 30, 30]               0\n",
            "       BatchNorm2d-7           [-1, 32, 30, 30]              64\n",
            "           Dropout-8           [-1, 32, 30, 30]               0\n",
            "         MaxPool2d-9           [-1, 32, 15, 15]               0\n",
            "           Conv2d-10           [-1, 16, 17, 17]             512\n",
            "             ReLU-11           [-1, 16, 17, 17]               0\n",
            "      BatchNorm2d-12           [-1, 16, 17, 17]              32\n",
            "          Dropout-13           [-1, 16, 17, 17]               0\n",
            "           Conv2d-14           [-1, 32, 17, 17]           4,608\n",
            "             ReLU-15           [-1, 32, 17, 17]               0\n",
            "      BatchNorm2d-16           [-1, 32, 17, 17]              64\n",
            "          Dropout-17           [-1, 32, 17, 17]               0\n",
            "           Conv2d-18           [-1, 64, 17, 17]          18,432\n",
            "             ReLU-19           [-1, 64, 17, 17]               0\n",
            "      BatchNorm2d-20           [-1, 64, 17, 17]             128\n",
            "          Dropout-21           [-1, 64, 17, 17]               0\n",
            "        MaxPool2d-22             [-1, 64, 8, 8]               0\n",
            "           Conv2d-23           [-1, 32, 10, 10]           2,048\n",
            "             ReLU-24           [-1, 32, 10, 10]               0\n",
            "      BatchNorm2d-25           [-1, 32, 10, 10]              64\n",
            "          Dropout-26           [-1, 32, 10, 10]               0\n",
            "           Conv2d-27           [-1, 64, 10, 10]          18,432\n",
            "             ReLU-28           [-1, 64, 10, 10]               0\n",
            "      BatchNorm2d-29           [-1, 64, 10, 10]             128\n",
            "          Dropout-30           [-1, 64, 10, 10]               0\n",
            "           Conv2d-31             [-1, 64, 8, 8]          36,864\n",
            "             ReLU-32             [-1, 64, 8, 8]               0\n",
            "      BatchNorm2d-33             [-1, 64, 8, 8]             128\n",
            "          Dropout-34             [-1, 64, 8, 8]               0\n",
            "        AvgPool2d-35             [-1, 64, 1, 1]               0\n",
            "           Linear-36                   [-1, 10]             650\n",
            "================================================================\n",
            "Total params: 87,226\n",
            "Trainable params: 87,226\n",
            "Non-trainable params: 0\n",
            "----------------------------------------------------------------\n",
            "Input size (MB): 0.01\n",
            "Forward/backward pass size (MB): 2.87\n",
            "Params size (MB): 0.33\n",
            "Estimated Total Size (MB): 3.22\n",
            "----------------------------------------------------------------\n"
          ],
          "name": "stdout"
        }
      ]
    },
    {
      "cell_type": "code",
      "metadata": {
        "id": "vlgrc4skbLAa",
        "colab_type": "code",
        "outputId": "72ee3afb-faaa-4693-8397-357a722e8065",
        "colab": {
          "base_uri": "https://localhost:8080/",
          "height": 1000
        }
      },
      "source": [
        "#creating model1 to import test and train modules\n",
        "model1 = execute.Test_Train()\n",
        "\n",
        "#defining optimizer and scheduler\n",
        "optimizer = optim.SGD(model.parameters(), lr=0.01, momentum=0.9)\n",
        "scheduler = torch.optim.lr_scheduler.OneCycleLR(optimizer, max_lr=0.1, steps_per_epoch=len(trainloader), epochs=15)\n",
        "\n",
        "#Running the Epochs\n",
        "EPOCHS = 15\n",
        "for epoch in range(1,EPOCHS+1):\n",
        "  print(\"EPOCH:\", epoch)\n",
        "  model1.train(model, device, trainloader, optimizer, epoch, scheduler)\n",
        "  model1.test(model, device, testloader,\"model.pt\")"
      ],
      "execution_count": 9,
      "outputs": [
        {
          "output_type": "stream",
          "text": [
            "\r  0%|          | 0/391 [00:00<?, ?it/s]"
          ],
          "name": "stderr"
        },
        {
          "output_type": "stream",
          "text": [
            "EPOCH: 1\n"
          ],
          "name": "stdout"
        },
        {
          "output_type": "stream",
          "text": [
            "Loss=1.2265912294387817 Batch_id=390 Accuracy=42.12: 100%|██████████| 391/391 [00:16<00:00, 23.41it/s]\n",
            "  0%|          | 0/391 [00:00<?, ?it/s]"
          ],
          "name": "stderr"
        },
        {
          "output_type": "stream",
          "text": [
            "Validation loss has  decreased (inf --> 0.0102).  Saving model ...\n",
            "\n",
            "Test set: Average loss: 0.0102, Accuracy: 5341/10000 (53.41%)\n",
            "\n",
            "EPOCH: 2\n"
          ],
          "name": "stdout"
        },
        {
          "output_type": "stream",
          "text": [
            "Loss=1.0275284051895142 Batch_id=390 Accuracy=59.96: 100%|██████████| 391/391 [00:16<00:00, 23.38it/s]\n",
            "  0%|          | 0/391 [00:00<?, ?it/s]"
          ],
          "name": "stderr"
        },
        {
          "output_type": "stream",
          "text": [
            "Validation loss has  decreased (0.0102 --> 0.0079).  Saving model ...\n",
            "\n",
            "Test set: Average loss: 0.0079, Accuracy: 6392/10000 (63.92%)\n",
            "\n",
            "EPOCH: 3\n"
          ],
          "name": "stdout"
        },
        {
          "output_type": "stream",
          "text": [
            "Loss=0.7819522619247437 Batch_id=390 Accuracy=67.26: 100%|██████████| 391/391 [00:16<00:00, 23.21it/s]\n",
            "  0%|          | 0/391 [00:00<?, ?it/s]"
          ],
          "name": "stderr"
        },
        {
          "output_type": "stream",
          "text": [
            "Validation loss has  decreased (0.0079 --> 0.0066).  Saving model ...\n",
            "\n",
            "Test set: Average loss: 0.0066, Accuracy: 7074/10000 (70.74%)\n",
            "\n",
            "EPOCH: 4\n"
          ],
          "name": "stdout"
        },
        {
          "output_type": "stream",
          "text": [
            "Loss=0.7840371131896973 Batch_id=390 Accuracy=72.06: 100%|██████████| 391/391 [00:16<00:00, 23.27it/s]\n",
            "  0%|          | 0/391 [00:00<?, ?it/s]"
          ],
          "name": "stderr"
        },
        {
          "output_type": "stream",
          "text": [
            "Validation loss has  decreased (0.0066 --> 0.0065).  Saving model ...\n",
            "\n",
            "Test set: Average loss: 0.0065, Accuracy: 7119/10000 (71.19%)\n",
            "\n",
            "EPOCH: 5\n"
          ],
          "name": "stdout"
        },
        {
          "output_type": "stream",
          "text": [
            "Loss=0.6185079216957092 Batch_id=390 Accuracy=74.54: 100%|██████████| 391/391 [00:16<00:00, 23.35it/s]\n",
            "  0%|          | 0/391 [00:00<?, ?it/s]"
          ],
          "name": "stderr"
        },
        {
          "output_type": "stream",
          "text": [
            "Validation loss has  decreased (0.0065 --> 0.0056).  Saving model ...\n",
            "\n",
            "Test set: Average loss: 0.0056, Accuracy: 7527/10000 (75.27%)\n",
            "\n",
            "EPOCH: 6\n"
          ],
          "name": "stdout"
        },
        {
          "output_type": "stream",
          "text": [
            "Loss=0.8534653782844543 Batch_id=390 Accuracy=76.18: 100%|██████████| 391/391 [00:16<00:00, 23.12it/s]\n",
            "  0%|          | 0/391 [00:00<?, ?it/s]"
          ],
          "name": "stderr"
        },
        {
          "output_type": "stream",
          "text": [
            "Validation loss has  decreased (0.0056 --> 0.0055).  Saving model ...\n",
            "\n",
            "Test set: Average loss: 0.0055, Accuracy: 7581/10000 (75.81%)\n",
            "\n",
            "EPOCH: 7\n"
          ],
          "name": "stdout"
        },
        {
          "output_type": "stream",
          "text": [
            "Loss=0.5406699776649475 Batch_id=390 Accuracy=77.75: 100%|██████████| 391/391 [00:16<00:00, 23.17it/s]\n",
            "  0%|          | 0/391 [00:00<?, ?it/s]"
          ],
          "name": "stderr"
        },
        {
          "output_type": "stream",
          "text": [
            "Validation loss has  decreased (0.0055 --> 0.0052).  Saving model ...\n",
            "\n",
            "Test set: Average loss: 0.0052, Accuracy: 7720/10000 (77.20%)\n",
            "\n",
            "EPOCH: 8\n"
          ],
          "name": "stdout"
        },
        {
          "output_type": "stream",
          "text": [
            "Loss=0.45871347188949585 Batch_id=390 Accuracy=79.01: 100%|██████████| 391/391 [00:16<00:00, 23.01it/s]\n",
            "  0%|          | 0/391 [00:00<?, ?it/s]"
          ],
          "name": "stderr"
        },
        {
          "output_type": "stream",
          "text": [
            "Validation loss has  decreased (0.0052 --> 0.0047).  Saving model ...\n",
            "\n",
            "Test set: Average loss: 0.0047, Accuracy: 7991/10000 (79.91%)\n",
            "\n",
            "EPOCH: 9\n"
          ],
          "name": "stdout"
        },
        {
          "output_type": "stream",
          "text": [
            "Loss=0.49845847487449646 Batch_id=390 Accuracy=79.89: 100%|██████████| 391/391 [00:16<00:00, 23.19it/s]\n",
            "  0%|          | 0/391 [00:00<?, ?it/s]"
          ],
          "name": "stderr"
        },
        {
          "output_type": "stream",
          "text": [
            "\n",
            "Test set: Average loss: 0.0048, Accuracy: 7927/10000 (79.27%)\n",
            "\n",
            "EPOCH: 10\n"
          ],
          "name": "stdout"
        },
        {
          "output_type": "stream",
          "text": [
            "Loss=0.5558555722236633 Batch_id=390 Accuracy=80.83: 100%|██████████| 391/391 [00:17<00:00, 22.87it/s]\n",
            "  0%|          | 0/391 [00:00<?, ?it/s]"
          ],
          "name": "stderr"
        },
        {
          "output_type": "stream",
          "text": [
            "Validation loss has  decreased (0.0047 --> 0.0046).  Saving model ...\n",
            "\n",
            "Test set: Average loss: 0.0046, Accuracy: 8025/10000 (80.25%)\n",
            "\n",
            "EPOCH: 11\n"
          ],
          "name": "stdout"
        },
        {
          "output_type": "stream",
          "text": [
            "Loss=0.5624224543571472 Batch_id=390 Accuracy=81.91: 100%|██████████| 391/391 [00:17<00:00, 22.99it/s]\n",
            "  0%|          | 0/391 [00:00<?, ?it/s]"
          ],
          "name": "stderr"
        },
        {
          "output_type": "stream",
          "text": [
            "Validation loss has  decreased (0.0046 --> 0.0045).  Saving model ...\n",
            "\n",
            "Test set: Average loss: 0.0045, Accuracy: 8059/10000 (80.59%)\n",
            "\n",
            "EPOCH: 12\n"
          ],
          "name": "stdout"
        },
        {
          "output_type": "stream",
          "text": [
            "Loss=0.39004677534103394 Batch_id=390 Accuracy=83.03: 100%|██████████| 391/391 [00:16<00:00, 23.14it/s]\n",
            "  0%|          | 0/391 [00:00<?, ?it/s]"
          ],
          "name": "stderr"
        },
        {
          "output_type": "stream",
          "text": [
            "Validation loss has  decreased (0.0045 --> 0.0043).  Saving model ...\n",
            "\n",
            "Test set: Average loss: 0.0043, Accuracy: 8129/10000 (81.29%)\n",
            "\n",
            "EPOCH: 13\n"
          ],
          "name": "stdout"
        },
        {
          "output_type": "stream",
          "text": [
            "Loss=0.534584641456604 Batch_id=390 Accuracy=84.02: 100%|██████████| 391/391 [00:17<00:00, 22.85it/s]\n",
            "  0%|          | 0/391 [00:00<?, ?it/s]"
          ],
          "name": "stderr"
        },
        {
          "output_type": "stream",
          "text": [
            "Validation loss has  decreased (0.0043 --> 0.0041).  Saving model ...\n",
            "\n",
            "Test set: Average loss: 0.0041, Accuracy: 8180/10000 (81.80%)\n",
            "\n",
            "EPOCH: 14\n"
          ],
          "name": "stdout"
        },
        {
          "output_type": "stream",
          "text": [
            "Loss=0.5486356019973755 Batch_id=390 Accuracy=84.84: 100%|██████████| 391/391 [00:16<00:00, 23.04it/s]\n",
            "  0%|          | 0/391 [00:00<?, ?it/s]"
          ],
          "name": "stderr"
        },
        {
          "output_type": "stream",
          "text": [
            "Validation loss has  decreased (0.0041 --> 0.0040).  Saving model ...\n",
            "\n",
            "Test set: Average loss: 0.0040, Accuracy: 8258/10000 (82.58%)\n",
            "\n",
            "EPOCH: 15\n"
          ],
          "name": "stdout"
        },
        {
          "output_type": "stream",
          "text": [
            "Loss=0.42798203229904175 Batch_id=390 Accuracy=85.50: 100%|██████████| 391/391 [00:16<00:00, 23.16it/s]\n"
          ],
          "name": "stderr"
        },
        {
          "output_type": "stream",
          "text": [
            "\n",
            "Test set: Average loss: 0.0040, Accuracy: 8263/10000 (82.63%)\n",
            "\n"
          ],
          "name": "stdout"
        }
      ]
    }
  ]
}