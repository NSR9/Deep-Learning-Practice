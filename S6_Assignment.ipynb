{
  "nbformat": 4,
  "nbformat_minor": 0,
  "metadata": {
    "colab": {
      "name": "S6_Assignment.ipynb",
      "provenance": [],
      "collapsed_sections": [],
      "include_colab_link": true
    },
    "kernelspec": {
      "name": "python3",
      "display_name": "Python 3"
    }
  },
  "cells": [
    {
      "cell_type": "markdown",
      "metadata": {
        "id": "view-in-github",
        "colab_type": "text"
      },
      "source": [
        "<a href=\"https://colab.research.google.com/github/NSR9/PythonForML-AI-Notes/blob/master/S6_Assignment.ipynb\" target=\"_parent\"><img src=\"https://colab.research.google.com/assets/colab-badge.svg\" alt=\"Open In Colab\"/></a>"
      ]
    },
    {
      "cell_type": "markdown",
      "metadata": {
        "id": "aoG0WKvrZP7-",
        "colab_type": "text"
      },
      "source": [
        "**Import Libraries**\n"
      ]
    },
    {
      "cell_type": "code",
      "metadata": {
        "id": "ibCd4l21ZcLp",
        "colab_type": "code",
        "colab": {}
      },
      "source": [
        "from __future__ import print_function\n",
        "import torch\n",
        "import torch.nn as nn\n",
        "import torch.nn.functional as F\n",
        "import torch.optim as optim\n",
        "from torchvision import datasets, transforms\n",
        "%matplotlib inline\n",
        "import matplotlib.pyplot as plt\n",
        "from torch.optim.lr_scheduler import OneCycleLR"
      ],
      "execution_count": 0,
      "outputs": []
    },
    {
      "cell_type": "code",
      "metadata": {
        "id": "TzgJ4ZSsTrY8",
        "colab_type": "code",
        "outputId": "c160aa56-253c-42c4-9108-850464e93597",
        "colab": {
          "resources": {
            "http://localhost:8080/nbextensions/google.colab/files.js": {
              "data": "Ly8gQ29weXJpZ2h0IDIwMTcgR29vZ2xlIExMQwovLwovLyBMaWNlbnNlZCB1bmRlciB0aGUgQXBhY2hlIExpY2Vuc2UsIFZlcnNpb24gMi4wICh0aGUgIkxpY2Vuc2UiKTsKLy8geW91IG1heSBub3QgdXNlIHRoaXMgZmlsZSBleGNlcHQgaW4gY29tcGxpYW5jZSB3aXRoIHRoZSBMaWNlbnNlLgovLyBZb3UgbWF5IG9idGFpbiBhIGNvcHkgb2YgdGhlIExpY2Vuc2UgYXQKLy8KLy8gICAgICBodHRwOi8vd3d3LmFwYWNoZS5vcmcvbGljZW5zZXMvTElDRU5TRS0yLjAKLy8KLy8gVW5sZXNzIHJlcXVpcmVkIGJ5IGFwcGxpY2FibGUgbGF3IG9yIGFncmVlZCB0byBpbiB3cml0aW5nLCBzb2Z0d2FyZQovLyBkaXN0cmlidXRlZCB1bmRlciB0aGUgTGljZW5zZSBpcyBkaXN0cmlidXRlZCBvbiBhbiAiQVMgSVMiIEJBU0lTLAovLyBXSVRIT1VUIFdBUlJBTlRJRVMgT1IgQ09ORElUSU9OUyBPRiBBTlkgS0lORCwgZWl0aGVyIGV4cHJlc3Mgb3IgaW1wbGllZC4KLy8gU2VlIHRoZSBMaWNlbnNlIGZvciB0aGUgc3BlY2lmaWMgbGFuZ3VhZ2UgZ292ZXJuaW5nIHBlcm1pc3Npb25zIGFuZAovLyBsaW1pdGF0aW9ucyB1bmRlciB0aGUgTGljZW5zZS4KCi8qKgogKiBAZmlsZW92ZXJ2aWV3IEhlbHBlcnMgZm9yIGdvb2dsZS5jb2xhYiBQeXRob24gbW9kdWxlLgogKi8KKGZ1bmN0aW9uKHNjb3BlKSB7CmZ1bmN0aW9uIHNwYW4odGV4dCwgc3R5bGVBdHRyaWJ1dGVzID0ge30pIHsKICBjb25zdCBlbGVtZW50ID0gZG9jdW1lbnQuY3JlYXRlRWxlbWVudCgnc3BhbicpOwogIGVsZW1lbnQudGV4dENvbnRlbnQgPSB0ZXh0OwogIGZvciAoY29uc3Qga2V5IG9mIE9iamVjdC5rZXlzKHN0eWxlQXR0cmlidXRlcykpIHsKICAgIGVsZW1lbnQuc3R5bGVba2V5XSA9IHN0eWxlQXR0cmlidXRlc1trZXldOwogIH0KICByZXR1cm4gZWxlbWVudDsKfQoKLy8gTWF4IG51bWJlciBvZiBieXRlcyB3aGljaCB3aWxsIGJlIHVwbG9hZGVkIGF0IGEgdGltZS4KY29uc3QgTUFYX1BBWUxPQURfU0laRSA9IDEwMCAqIDEwMjQ7Ci8vIE1heCBhbW91bnQgb2YgdGltZSB0byBibG9jayB3YWl0aW5nIGZvciB0aGUgdXNlci4KY29uc3QgRklMRV9DSEFOR0VfVElNRU9VVF9NUyA9IDMwICogMTAwMDsKCmZ1bmN0aW9uIF91cGxvYWRGaWxlcyhpbnB1dElkLCBvdXRwdXRJZCkgewogIGNvbnN0IHN0ZXBzID0gdXBsb2FkRmlsZXNTdGVwKGlucHV0SWQsIG91dHB1dElkKTsKICBjb25zdCBvdXRwdXRFbGVtZW50ID0gZG9jdW1lbnQuZ2V0RWxlbWVudEJ5SWQob3V0cHV0SWQpOwogIC8vIENhY2hlIHN0ZXBzIG9uIHRoZSBvdXRwdXRFbGVtZW50IHRvIG1ha2UgaXQgYXZhaWxhYmxlIGZvciB0aGUgbmV4dCBjYWxsCiAgLy8gdG8gdXBsb2FkRmlsZXNDb250aW51ZSBmcm9tIFB5dGhvbi4KICBvdXRwdXRFbGVtZW50LnN0ZXBzID0gc3RlcHM7CgogIHJldHVybiBfdXBsb2FkRmlsZXNDb250aW51ZShvdXRwdXRJZCk7Cn0KCi8vIFRoaXMgaXMgcm91Z2hseSBhbiBhc3luYyBnZW5lcmF0b3IgKG5vdCBzdXBwb3J0ZWQgaW4gdGhlIGJyb3dzZXIgeWV0KSwKLy8gd2hlcmUgdGhlcmUgYXJlIG11bHRpcGxlIGFzeW5jaHJvbm91cyBzdGVwcyBhbmQgdGhlIFB5dGhvbiBzaWRlIGlzIGdvaW5nCi8vIHRvIHBvbGwgZm9yIGNvbXBsZXRpb24gb2YgZWFjaCBzdGVwLgovLyBUaGlzIHVzZXMgYSBQcm9taXNlIHRvIGJsb2NrIHRoZSBweXRob24gc2lkZSBvbiBjb21wbGV0aW9uIG9mIGVhY2ggc3RlcCwKLy8gdGhlbiBwYXNzZXMgdGhlIHJlc3VsdCBvZiB0aGUgcHJldmlvdXMgc3RlcCBhcyB0aGUgaW5wdXQgdG8gdGhlIG5leHQgc3RlcC4KZnVuY3Rpb24gX3VwbG9hZEZpbGVzQ29udGludWUob3V0cHV0SWQpIHsKICBjb25zdCBvdXRwdXRFbGVtZW50ID0gZG9jdW1lbnQuZ2V0RWxlbWVudEJ5SWQob3V0cHV0SWQpOwogIGNvbnN0IHN0ZXBzID0gb3V0cHV0RWxlbWVudC5zdGVwczsKCiAgY29uc3QgbmV4dCA9IHN0ZXBzLm5leHQob3V0cHV0RWxlbWVudC5sYXN0UHJvbWlzZVZhbHVlKTsKICByZXR1cm4gUHJvbWlzZS5yZXNvbHZlKG5leHQudmFsdWUucHJvbWlzZSkudGhlbigodmFsdWUpID0+IHsKICAgIC8vIENhY2hlIHRoZSBsYXN0IHByb21pc2UgdmFsdWUgdG8gbWFrZSBpdCBhdmFpbGFibGUgdG8gdGhlIG5leHQKICAgIC8vIHN0ZXAgb2YgdGhlIGdlbmVyYXRvci4KICAgIG91dHB1dEVsZW1lbnQubGFzdFByb21pc2VWYWx1ZSA9IHZhbHVlOwogICAgcmV0dXJuIG5leHQudmFsdWUucmVzcG9uc2U7CiAgfSk7Cn0KCi8qKgogKiBHZW5lcmF0b3IgZnVuY3Rpb24gd2hpY2ggaXMgY2FsbGVkIGJldHdlZW4gZWFjaCBhc3luYyBzdGVwIG9mIHRoZSB1cGxvYWQKICogcHJvY2Vzcy4KICogQHBhcmFtIHtzdHJpbmd9IGlucHV0SWQgRWxlbWVudCBJRCBvZiB0aGUgaW5wdXQgZmlsZSBwaWNrZXIgZWxlbWVudC4KICogQHBhcmFtIHtzdHJpbmd9IG91dHB1dElkIEVsZW1lbnQgSUQgb2YgdGhlIG91dHB1dCBkaXNwbGF5LgogKiBAcmV0dXJuIHshSXRlcmFibGU8IU9iamVjdD59IEl0ZXJhYmxlIG9mIG5leHQgc3RlcHMuCiAqLwpmdW5jdGlvbiogdXBsb2FkRmlsZXNTdGVwKGlucHV0SWQsIG91dHB1dElkKSB7CiAgY29uc3QgaW5wdXRFbGVtZW50ID0gZG9jdW1lbnQuZ2V0RWxlbWVudEJ5SWQoaW5wdXRJZCk7CiAgaW5wdXRFbGVtZW50LmRpc2FibGVkID0gZmFsc2U7CgogIGNvbnN0IG91dHB1dEVsZW1lbnQgPSBkb2N1bWVudC5nZXRFbGVtZW50QnlJZChvdXRwdXRJZCk7CiAgb3V0cHV0RWxlbWVudC5pbm5lckhUTUwgPSAnJzsKCiAgY29uc3QgcGlja2VkUHJvbWlzZSA9IG5ldyBQcm9taXNlKChyZXNvbHZlKSA9PiB7CiAgICBpbnB1dEVsZW1lbnQuYWRkRXZlbnRMaXN0ZW5lcignY2hhbmdlJywgKGUpID0+IHsKICAgICAgcmVzb2x2ZShlLnRhcmdldC5maWxlcyk7CiAgICB9KTsKICB9KTsKCiAgY29uc3QgY2FuY2VsID0gZG9jdW1lbnQuY3JlYXRlRWxlbWVudCgnYnV0dG9uJyk7CiAgaW5wdXRFbGVtZW50LnBhcmVudEVsZW1lbnQuYXBwZW5kQ2hpbGQoY2FuY2VsKTsKICBjYW5jZWwudGV4dENvbnRlbnQgPSAnQ2FuY2VsIHVwbG9hZCc7CiAgY29uc3QgY2FuY2VsUHJvbWlzZSA9IG5ldyBQcm9taXNlKChyZXNvbHZlKSA9PiB7CiAgICBjYW5jZWwub25jbGljayA9ICgpID0+IHsKICAgICAgcmVzb2x2ZShudWxsKTsKICAgIH07CiAgfSk7CgogIC8vIENhbmNlbCB1cGxvYWQgaWYgdXNlciBoYXNuJ3QgcGlja2VkIGFueXRoaW5nIGluIHRpbWVvdXQuCiAgY29uc3QgdGltZW91dFByb21pc2UgPSBuZXcgUHJvbWlzZSgocmVzb2x2ZSkgPT4gewogICAgc2V0VGltZW91dCgoKSA9PiB7CiAgICAgIHJlc29sdmUobnVsbCk7CiAgICB9LCBGSUxFX0NIQU5HRV9USU1FT1VUX01TKTsKICB9KTsKCiAgLy8gV2FpdCBmb3IgdGhlIHVzZXIgdG8gcGljayB0aGUgZmlsZXMuCiAgY29uc3QgZmlsZXMgPSB5aWVsZCB7CiAgICBwcm9taXNlOiBQcm9taXNlLnJhY2UoW3BpY2tlZFByb21pc2UsIHRpbWVvdXRQcm9taXNlLCBjYW5jZWxQcm9taXNlXSksCiAgICByZXNwb25zZTogewogICAgICBhY3Rpb246ICdzdGFydGluZycsCiAgICB9CiAgfTsKCiAgaWYgKCFmaWxlcykgewogICAgcmV0dXJuIHsKICAgICAgcmVzcG9uc2U6IHsKICAgICAgICBhY3Rpb246ICdjb21wbGV0ZScsCiAgICAgIH0KICAgIH07CiAgfQoKICBjYW5jZWwucmVtb3ZlKCk7CgogIC8vIERpc2FibGUgdGhlIGlucHV0IGVsZW1lbnQgc2luY2UgZnVydGhlciBwaWNrcyBhcmUgbm90IGFsbG93ZWQuCiAgaW5wdXRFbGVtZW50LmRpc2FibGVkID0gdHJ1ZTsKCiAgZm9yIChjb25zdCBmaWxlIG9mIGZpbGVzKSB7CiAgICBjb25zdCBsaSA9IGRvY3VtZW50LmNyZWF0ZUVsZW1lbnQoJ2xpJyk7CiAgICBsaS5hcHBlbmQoc3BhbihmaWxlLm5hbWUsIHtmb250V2VpZ2h0OiAnYm9sZCd9KSk7CiAgICBsaS5hcHBlbmQoc3BhbigKICAgICAgICBgKCR7ZmlsZS50eXBlIHx8ICduL2EnfSkgLSAke2ZpbGUuc2l6ZX0gYnl0ZXMsIGAgKwogICAgICAgIGBsYXN0IG1vZGlmaWVkOiAkewogICAgICAgICAgICBmaWxlLmxhc3RNb2RpZmllZERhdGUgPyBmaWxlLmxhc3RNb2RpZmllZERhdGUudG9Mb2NhbGVEYXRlU3RyaW5nKCkgOgogICAgICAgICAgICAgICAgICAgICAgICAgICAgICAgICAgICAnbi9hJ30gLSBgKSk7CiAgICBjb25zdCBwZXJjZW50ID0gc3BhbignMCUgZG9uZScpOwogICAgbGkuYXBwZW5kQ2hpbGQocGVyY2VudCk7CgogICAgb3V0cHV0RWxlbWVudC5hcHBlbmRDaGlsZChsaSk7CgogICAgY29uc3QgZmlsZURhdGFQcm9taXNlID0gbmV3IFByb21pc2UoKHJlc29sdmUpID0+IHsKICAgICAgY29uc3QgcmVhZGVyID0gbmV3IEZpbGVSZWFkZXIoKTsKICAgICAgcmVhZGVyLm9ubG9hZCA9IChlKSA9PiB7CiAgICAgICAgcmVzb2x2ZShlLnRhcmdldC5yZXN1bHQpOwogICAgICB9OwogICAgICByZWFkZXIucmVhZEFzQXJyYXlCdWZmZXIoZmlsZSk7CiAgICB9KTsKICAgIC8vIFdhaXQgZm9yIHRoZSBkYXRhIHRvIGJlIHJlYWR5LgogICAgbGV0IGZpbGVEYXRhID0geWllbGQgewogICAgICBwcm9taXNlOiBmaWxlRGF0YVByb21pc2UsCiAgICAgIHJlc3BvbnNlOiB7CiAgICAgICAgYWN0aW9uOiAnY29udGludWUnLAogICAgICB9CiAgICB9OwoKICAgIC8vIFVzZSBhIGNodW5rZWQgc2VuZGluZyB0byBhdm9pZCBtZXNzYWdlIHNpemUgbGltaXRzLiBTZWUgYi82MjExNTY2MC4KICAgIGxldCBwb3NpdGlvbiA9IDA7CiAgICB3aGlsZSAocG9zaXRpb24gPCBmaWxlRGF0YS5ieXRlTGVuZ3RoKSB7CiAgICAgIGNvbnN0IGxlbmd0aCA9IE1hdGgubWluKGZpbGVEYXRhLmJ5dGVMZW5ndGggLSBwb3NpdGlvbiwgTUFYX1BBWUxPQURfU0laRSk7CiAgICAgIGNvbnN0IGNodW5rID0gbmV3IFVpbnQ4QXJyYXkoZmlsZURhdGEsIHBvc2l0aW9uLCBsZW5ndGgpOwogICAgICBwb3NpdGlvbiArPSBsZW5ndGg7CgogICAgICBjb25zdCBiYXNlNjQgPSBidG9hKFN0cmluZy5mcm9tQ2hhckNvZGUuYXBwbHkobnVsbCwgY2h1bmspKTsKICAgICAgeWllbGQgewogICAgICAgIHJlc3BvbnNlOiB7CiAgICAgICAgICBhY3Rpb246ICdhcHBlbmQnLAogICAgICAgICAgZmlsZTogZmlsZS5uYW1lLAogICAgICAgICAgZGF0YTogYmFzZTY0LAogICAgICAgIH0sCiAgICAgIH07CiAgICAgIHBlcmNlbnQudGV4dENvbnRlbnQgPQogICAgICAgICAgYCR7TWF0aC5yb3VuZCgocG9zaXRpb24gLyBmaWxlRGF0YS5ieXRlTGVuZ3RoKSAqIDEwMCl9JSBkb25lYDsKICAgIH0KICB9CgogIC8vIEFsbCBkb25lLgogIHlpZWxkIHsKICAgIHJlc3BvbnNlOiB7CiAgICAgIGFjdGlvbjogJ2NvbXBsZXRlJywKICAgIH0KICB9Owp9CgpzY29wZS5nb29nbGUgPSBzY29wZS5nb29nbGUgfHwge307CnNjb3BlLmdvb2dsZS5jb2xhYiA9IHNjb3BlLmdvb2dsZS5jb2xhYiB8fCB7fTsKc2NvcGUuZ29vZ2xlLmNvbGFiLl9maWxlcyA9IHsKICBfdXBsb2FkRmlsZXMsCiAgX3VwbG9hZEZpbGVzQ29udGludWUsCn07Cn0pKHNlbGYpOwo=",
              "ok": true,
              "headers": [
                [
                  "content-type",
                  "application/javascript"
                ]
              ],
              "status": 200,
              "status_text": ""
            }
          },
          "base_uri": "https://localhost:8080/",
          "height": 41
        }
      },
      "source": [
        "# simple function to upload files from local drive\n",
        "\n",
        "from google.colab import files\n",
        "def getLocalFiles():\n",
        "    _files = files.upload()\n",
        "    if len(_files) >0:\n",
        "       for k,v in _files.items():\n",
        "         open(k,'wb').write(v)\n",
        "getLocalFiles()"
      ],
      "execution_count": 0,
      "outputs": [
        {
          "output_type": "display_data",
          "data": {
            "text/html": [
              "\n",
              "     <input type=\"file\" id=\"files-2edcf7b7-4df0-4e3f-b005-69fb3872bfcc\" name=\"files[]\" multiple disabled />\n",
              "     <output id=\"result-2edcf7b7-4df0-4e3f-b005-69fb3872bfcc\">\n",
              "      Upload widget is only available when the cell has been executed in the\n",
              "      current browser session. Please rerun this cell to enable.\n",
              "      </output>\n",
              "      <script src=\"/nbextensions/google.colab/files.js\"></script> "
            ],
            "text/plain": [
              "<IPython.core.display.HTML object>"
            ]
          },
          "metadata": {
            "tags": []
          }
        }
      ]
    },
    {
      "cell_type": "markdown",
      "metadata": {
        "id": "t3a1GIQuaH3_",
        "colab_type": "text"
      },
      "source": [
        "**Data Transformations**\n",
        "\n",
        "\n",
        "* Here I've created a Class to transform Train & Test Data. And I'm using Compose function to chain in all the transform operations required in the form of list and then pass it on the different sets of data.\n",
        "* I have already set the mean and the standard deviation to 0.1307 & 0.3081 \n",
        "* 2 main parameters normalize(boolean) and rotate(default value = 0).\n"
      ]
    },
    {
      "cell_type": "code",
      "metadata": {
        "id": "mYbs3e8iVWeP",
        "colab_type": "code",
        "colab": {}
      },
      "source": [
        "# # Transformations \n",
        "\n",
        "# class Transformations():\n",
        "\n",
        "#   def __init__(self, normalize=True, rotate = 0):\n",
        "#       self.normalize = normalize\n",
        "#       self.rotate = rotate\n",
        "\n",
        "\n",
        "#   # For Train Data\n",
        "#   def train_transforms(self, tensorToPIL = True):\n",
        "#       self.tensorToPIL = tensorToPIL\n",
        "#       transforms_list = []\n",
        "#       transforms_list.append(transforms.ToTensor())\n",
        "#       if self.normalize: \n",
        "#           transforms_list.append(transforms.Normalize((0.1307, ), (0.3081, )))\n",
        "#       if self.rotate:\n",
        "#           transforms_list.append(transforms.RandomRotation((-1*int(self.rotate), int(self.rotate)), fill=(1,)))\n",
        "#       if self.tensorToPIL:\n",
        "#           transforms_list.append(transforms.ToPILImage())\n",
        "#       return transforms.Compose(transforms_list)\n",
        "\n",
        "\n",
        "#   # For Test Data\n",
        "#   def test_transforms(self, tensorToPIL = True):\n",
        "#       self.tensorToPIL = tensorToPIL\n",
        "#       transforms_list = [transforms.ToTensor()]\n",
        "#       if self.normalize:\n",
        "#           transforms_list.append(transforms.Normalize((0.1307, ),(0.3081, )))\n",
        "#       if self.tensorToPIL:\n",
        "#           transforms_list.append(transforms.ToPILImage())\n",
        "#       return transforms.Compose(transforms_list)\n",
        "\n",
        "\n",
        "\n",
        "# mnist_data = Transformations(normalize = True, rotate = 5)    # set normalize = True\n",
        "# train_trans = mnist_data.train_transforms(tensorToPIL = True)  # Rotation of Train Images\n",
        "# test_trans = mnist_data.test_transforms(tensorToPIL = True)"
      ],
      "execution_count": 0,
      "outputs": []
    },
    {
      "cell_type": "code",
      "metadata": {
        "id": "17V5fNETSWSw",
        "colab_type": "code",
        "colab": {}
      },
      "source": [
        "# Transformations\n",
        "\n",
        "# Train Phase transformations\n",
        "train_transforms = transforms.Compose([\n",
        "                                       transforms.RandomRotation((-7.0, 7.0), fill=(1,)),\n",
        "                                       transforms.ToTensor(),\n",
        "                                       transforms.Normalize((0.1307,), (0.3081,)) \n",
        "                                      #  transforms.ToPILImage()# The mean and std have to be sequences (e.g., tuples), therefore you should add a comma after the values. \n",
        "                                       # Note the difference between (0.1307) and (0.1307,)\n",
        "                                       ])\n",
        "\n",
        "# Test Phase transformations\n",
        "test_transforms = transforms.Compose([\n",
        "                                       transforms.ToTensor(),\n",
        "                                       transforms.Normalize((0.1307,), (0.3081,))\n",
        "                                      #  transforms.ToPILImage()\n",
        "                                       ])\n"
      ],
      "execution_count": 0,
      "outputs": []
    },
    {
      "cell_type": "code",
      "metadata": {
        "id": "YjKsa_TOghQ-",
        "colab_type": "code",
        "colab": {}
      },
      "source": [
        "# Split Test & Train Data\n",
        "train = datasets.MNIST('./data', train = True, download = True, transform = train_transforms)\n",
        "test = datasets.MNIST('./data', train = False, download = True, transform = test_transforms)"
      ],
      "execution_count": 0,
      "outputs": []
    },
    {
      "cell_type": "markdown",
      "metadata": {
        "id": "cIARLXpaulAk",
        "colab_type": "text"
      },
      "source": [
        "**Dataloaders Arguments & Train/Test Dataloaders**"
      ]
    },
    {
      "cell_type": "code",
      "metadata": {
        "id": "khdQSGETuijY",
        "colab_type": "code",
        "colab": {}
      },
      "source": [
        "# DataLoaders\n",
        "\n",
        "class Dataloader:\n",
        "  def __init__(self, shuffle = True, batch_size = 128):\n",
        "      cuda = torch.cuda.is_available()\n",
        "      if cuda:\n",
        "        torch.cuda.manual_seed(seed)\n",
        "      self.dataloader_args = dict(shuffle=shuffle, batch_size=batch_size, num_workers=4, pin_memory=True) #if cuda else dict(shuffle=True, batch_size=64)\n",
        "\n",
        "  def dataset_loader(self, data):\n",
        "      return torch.utils.data.DataLoader(data, **self.dataloader_args) # **dataloader_args get passed when dataset_loader gets called\n",
        "\n",
        "\n",
        "dl = Dataloader()\n",
        "\n",
        "# train dataloader\n",
        "train_loader = dl.dataset_loader(train)\n",
        "\n",
        "# test dataloader\n",
        "test_loader = dl.dataset_loader(test)"
      ],
      "execution_count": 0,
      "outputs": []
    },
    {
      "cell_type": "markdown",
      "metadata": {
        "id": "1MTSvxCciQp2",
        "colab_type": "text"
      },
      "source": [
        "**Data Statistics**"
      ]
    },
    {
      "cell_type": "code",
      "metadata": {
        "id": "M306Y3nfgbP3",
        "colab_type": "code",
        "outputId": "373a14da-38d3-4870-8fb7-a4f628da7970",
        "colab": {
          "base_uri": "https://localhost:8080/",
          "height": 500
        }
      },
      "source": [
        "\n",
        "data_iter = iter(train_loader)\n",
        "images, labels = data_iter.next()\n",
        "\n",
        "print(images.shape) # [64, 1, 28, 28]\n",
        "print(labels.shape) # [64]\n",
        "\n",
        "\n",
        "from matplotlib import pyplot as plt\n",
        "import matplotlib.gridspec as gridspec\n",
        "\n",
        "%matplotlib inline\n",
        "\n",
        "\n",
        "def display_25(images, labels):\n",
        "  figmatrix = plt.figure(figsize=(8, 8))\n",
        "  row, col = 5, 5 # set rows & columns = 5\n",
        "  gs = gridspec.GridSpec(row, col)\n",
        "  gs.update(wspace=0.005, hspace=0.05)\n",
        "\n",
        "  for i in range(1, 26):\n",
        "    plt.subplot(gs[i-1])\n",
        "    plt.tick_params( axis='both', which='both', labelbottom=False, labelleft=False, left=False, bottom=False)\n",
        "    plt.imshow(images[i-1].numpy().squeeze(), cmap='gray_r')\n",
        "    plt.text(2, 6, labels[i-1].numpy(), color=\"green\", fontsize=\"xx-large\")\n",
        "  plt.show()\n",
        "\n",
        "display_25(images[:25], labels[:25])\n",
        "\n"
      ],
      "execution_count": 5,
      "outputs": [
        {
          "output_type": "stream",
          "text": [
            "torch.Size([128, 1, 28, 28])\n",
            "torch.Size([128])\n"
          ],
          "name": "stdout"
        },
        {
          "output_type": "display_data",
          "data": {
            "image/png": "[encoded data removed]",
            "text/plain": [
              "<Figure size 576x576 with 25 Axes>"
            ]
          },
          "metadata": {
            "tags": []
          }
        }
      ]
    },
    {
      "cell_type": "code",
      "metadata": {
        "id": "O2jRSe6E3VbV",
        "colab_type": "code",
        "outputId": "936cd3d4-81b4-4e54-f4e2-82083ad288c7",
        "colab": {
          "base_uri": "https://localhost:8080/",
          "height": 239
        }
      },
      "source": [
        "# Just curious at the orientation of these mnist images\n",
        "figure = plt.figure()\n",
        "num_of_images = 50\n",
        "for i in range(1,num_of_images+1):\n",
        "  plt.subplot(5,10, i)\n",
        "  plt.axis('off')\n",
        "  plt.imshow(images[i-1].numpy().squeeze(), cmap = 'gray_r')"
      ],
      "execution_count": 6,
      "outputs": [
        {
          "output_type": "display_data",
          "data": {
            "image/png": "[encoded data removed]",
            "text/plain": [
              "<Figure size 432x288 with 50 Axes>"
            ]
          },
          "metadata": {
            "tags": [],
            "needs_background": "light"
          }
        }
      ]
    },
    {
      "cell_type": "code",
      "metadata": {
        "id": "cRFrxuxH2wVI",
        "colab_type": "code",
        "colab": {}
      },
      "source": [
        "# Main Model with Batch Normalization\n",
        "class Net(nn.Module):\n",
        "    def __init__(self):\n",
        "      super(Net, self).__init__()\n",
        "\n",
        "      # Conv Block1 \n",
        "      self.convblock1 = nn.Sequential(\n",
        "          nn.Conv2d(in_channels = 1, out_channels = 8, kernel_size = (3,3), padding = 0, bias = False), \n",
        "          nn.ReLU(),\n",
        "          nn.BatchNorm2d(8)) # O/P: 26\n",
        "      \n",
        "      # Conv Block2\n",
        "      self.convblock2 = nn.Sequential(\n",
        "          nn.Conv2d(in_channels = 8, out_channels = 10, kernel_size = (3,3), padding = 0, bias = False),\n",
        "          nn.ReLU(),\n",
        "          nn.BatchNorm2d(10)) # O/P: 24\n",
        "\n",
        "      # MaxPool Layer\n",
        "      self.maxpool = nn.Sequential(nn.MaxPool2d((2,2))) # O/P: 12\n",
        "\n",
        "      # ConvBlock 3\n",
        "      self.convblock3 = nn.Sequential(\n",
        "          nn.Conv2d(in_channels = 10, out_channels = 16, kernel_size = (3,3), padding = 0, bias = False),\n",
        "          nn.ReLU(),\n",
        "          nn.BatchNorm2d(16)) # O/P: 10\n",
        "      \n",
        "      \n",
        "      # ConvBlock 4\n",
        "      self.convblock4 = nn.Sequential(\n",
        "          nn.Conv2d(in_channels = 16, out_channels = 16, kernel_size = (3,3), padding = 0, bias = False),\n",
        "          nn.ReLU(),\n",
        "          nn.BatchNorm2d(16)) # O/P: 8\n",
        "      \n",
        "      # ConvBlock 5\n",
        "      self.convblock5 = nn.Sequential(\n",
        "          nn.Conv2d(in_channels = 16, out_channels = 16, kernel_size = (3,3), padding = 0, bias = False),\n",
        "          nn.ReLU(),\n",
        "          nn.BatchNorm2d(16)) # O/P: 6\n",
        "\n",
        "      # ConvBlock 6\n",
        "      self.convblock6 = nn.Sequential(\n",
        "          nn.Conv2d(in_channels = 16, out_channels = 16, kernel_size = (3,3), padding = 0,  bias = False))\n",
        "          # nn.ReLU(),\n",
        "          # nn.BatchNorm2d(16)) # O/P: 4\n",
        "\n",
        "\n",
        "    # # ConvBlock 7\n",
        "    #   self.convblock7 = nn.Sequential(\n",
        "    #       nn.Conv2d(in_channels = 16, out_channels = 16, kernel_size = (3,3), padding = 0, bias = False))\n",
        "          # nn.ReLU(),\n",
        "          # nn.BatchNorm2d(16)) # O/P: 4\n",
        "\n",
        "\n",
        "    # # ConvBlock 8\n",
        "    #   self.convblock8 = nn.Sequential(\n",
        "    #       nn.Conv2d(in_channels = 16, out_channels = 16, kernel_size = (3,3), padding = 0, bias = False),\n",
        "    #       nn.ReLU(),\n",
        "    #       nn.BatchNorm2d(16)) # O/P: 6\n",
        "    \n",
        "\n",
        "    # GAP\n",
        "      self.gap = nn.Sequential(nn.AvgPool2d(4))\n",
        "\n",
        "    \n",
        "    # Last Layer\n",
        "      self.convblock9 = nn.Sequential(\n",
        "          nn.Conv2d(in_channels = 16, out_channels = 10, kernel_size = (1,1), padding = 0, bias = False))\n",
        "\n",
        "\n",
        "    # Dropout Layer\n",
        "      self.drop = nn.Sequential(nn.Dropout(0.08))\n",
        "\n",
        "\n",
        "\n",
        "    def forward(self,x):\n",
        "      x = self.convblock1(x)\n",
        "      x = self.drop(x)\n",
        "      x = self.convblock2(x)\n",
        "      x = self.drop(x)\n",
        "      x = self.maxpool(x)\n",
        "      x = self.convblock3(x)\n",
        "      x = self.drop(x)\n",
        "      x = self.convblock4(x)\n",
        "      x = self.drop(x)\n",
        "      x = self.convblock5(x)\n",
        "      # x = self.drop(x)\n",
        "      x = self.convblock6(x)\n",
        "      # x = self.drop(x)\n",
        "      # x = self.convblock7(x)\n",
        "      # x = self.convblock8(x)\n",
        "      x = self.gap(x)\n",
        "      x = self.convblock9(x)\n",
        "     \n",
        "      x = x.view(-1, 10)\n",
        "      return F.log_softmax(x, dim = -1)\n",
        "      \n",
        "\n"
      ],
      "execution_count": 0,
      "outputs": []
    },
    {
      "cell_type": "code",
      "metadata": {
        "id": "142jVP2a2wjW",
        "colab_type": "code",
        "outputId": "d629177f-b2bd-4158-8b2e-8f475b0a5e73",
        "colab": {
          "base_uri": "https://localhost:8080/",
          "height": 638
        }
      },
      "source": [
        "# BN Model Summary \n",
        "!pip install torchsummary\n",
        "from torchsummary import summary\n",
        "use_cuda = torch.cuda.is_available()\n",
        "device = torch.device(\"cuda\" if use_cuda else \"cpu\")\n",
        "model = Net().to(device)\n",
        "summary(model, input_size=(1, 28, 28))"
      ],
      "execution_count": 8,
      "outputs": [
        {
          "output_type": "stream",
          "text": [
            "Requirement already satisfied: torchsummary in /usr/local/lib/python3.6/dist-packages (1.5.1)\n",
            "----------------------------------------------------------------\n",
            "        Layer (type)               Output Shape         Param #\n",
            "================================================================\n",
            "            Conv2d-1            [-1, 8, 26, 26]              72\n",
            "              ReLU-2            [-1, 8, 26, 26]               0\n",
            "       BatchNorm2d-3            [-1, 8, 26, 26]              16\n",
            "           Dropout-4            [-1, 8, 26, 26]               0\n",
            "            Conv2d-5           [-1, 10, 24, 24]             720\n",
            "              ReLU-6           [-1, 10, 24, 24]               0\n",
            "       BatchNorm2d-7           [-1, 10, 24, 24]              20\n",
            "           Dropout-8           [-1, 10, 24, 24]               0\n",
            "         MaxPool2d-9           [-1, 10, 12, 12]               0\n",
            "           Conv2d-10           [-1, 16, 10, 10]           1,440\n",
            "             ReLU-11           [-1, 16, 10, 10]               0\n",
            "      BatchNorm2d-12           [-1, 16, 10, 10]              32\n",
            "          Dropout-13           [-1, 16, 10, 10]               0\n",
            "           Conv2d-14             [-1, 16, 8, 8]           2,304\n",
            "             ReLU-15             [-1, 16, 8, 8]               0\n",
            "      BatchNorm2d-16             [-1, 16, 8, 8]              32\n",
            "          Dropout-17             [-1, 16, 8, 8]               0\n",
            "           Conv2d-18             [-1, 16, 6, 6]           2,304\n",
            "             ReLU-19             [-1, 16, 6, 6]               0\n",
            "      BatchNorm2d-20             [-1, 16, 6, 6]              32\n",
            "           Conv2d-21             [-1, 16, 4, 4]           2,304\n",
            "        AvgPool2d-22             [-1, 16, 1, 1]               0\n",
            "           Conv2d-23             [-1, 10, 1, 1]             160\n",
            "================================================================\n",
            "Total params: 9,436\n",
            "Trainable params: 9,436\n",
            "Non-trainable params: 0\n",
            "----------------------------------------------------------------\n",
            "Input size (MB): 0.00\n",
            "Forward/backward pass size (MB): 0.45\n",
            "Params size (MB): 0.04\n",
            "Estimated Total Size (MB): 0.49\n",
            "----------------------------------------------------------------\n"
          ],
          "name": "stdout"
        }
      ]
    },
    {
      "cell_type": "code",
      "metadata": {
        "id": "zTtElIRtBsZL",
        "colab_type": "code",
        "colab": {}
      },
      "source": [
        "from tqdm import tqdm\n",
        "import numpy as np\n",
        "\n",
        "class Test_Train():\n",
        "  def __init__(self):\n",
        "\n",
        "# # This is to hold all the values and plot some graphs to extract few good insights.\n",
        "    self.train_losses = []\n",
        "    self.test_losses = []\n",
        "    self.train_acc = []\n",
        "    self.test_acc = []\n",
        "    self.train_epoch_end = []\n",
        "    self.test_loss_min = np.inf # setting it to infinity(max value)\n",
        "    # when the test loss becomes min I will save the particular model\n",
        "\n",
        "\n",
        "  def train(self, model, device, train_loader, optimizer, epoch,scheduler, L1lambda=None):\n",
        "    model.train()    # prepare model for training\n",
        "    pbar = tqdm(train_loader)\n",
        "    correct = 0\n",
        "    processed = 0\n",
        "    for batch_idx, (data, target) in enumerate(pbar): # passing on data & target values to device\n",
        "      data, target = data.to(device), target.to(device)\n",
        "      optimizer.zero_grad()    # clear the gradients of all optimized variables\n",
        "      \n",
        "      # Predict\n",
        "      y_pred = model(data)   # forward pass\n",
        "\n",
        "      # Calculate loss\n",
        "      loss = F.nll_loss(y_pred, target)\n",
        "\n",
        "      #Implementing L1 Regularization\n",
        "      if L1lambda:\n",
        "        with torch.enable_grad():\n",
        "          l1_loss = 0.\n",
        "          for param in model.parameters():\n",
        "            l1_loss += torch.sum(param.abs())\n",
        "          loss += L1lambda * l1_loss\n",
        "\n",
        "\n",
        "      # # Implementing l2 Regularization\n",
        "      # if L2lambda:\n",
        "      #   with torch.enable_grad():\n",
        "      #     l2_loss = 0\n",
        "      #     for name, param in model.named_parameters():\n",
        "      #         l2_loss = l2_loss + (0.5 * l2_loss * torch.sum(torch.pow(W, 2)))\n",
        "      #     loss = loss + L2Lambda * l2_loss\n",
        "\n",
        "\n",
        "      self.train_losses.append(loss)\n",
        "\n",
        "      # Backpropagation\n",
        "      loss.backward()   # backward pass: compute gradient of the loss with respect to model parameters\n",
        "      optimizer.step()   # perform a single optimization step (parameter update)\n",
        "\n",
        "      # Update pbar-tqdm\n",
        "    \n",
        "      pred = y_pred.argmax(dim=1, keepdim=True)  # get the index of the max log-probability\n",
        "      correct += pred.eq(target.view_as(pred)).sum().item()\n",
        "      processed += len(data)\n",
        "\n",
        "      pbar.set_description(desc= f'Loss={loss.item()} Batch_id={batch_idx} Accuracy={100*correct/processed:0.2f}')\n",
        "      self.train_acc.append(100*correct/processed)\n",
        "      scheduler.step()\n",
        "      self.train_epoch_end.append(self.train_acc[-1])\n",
        "\n",
        "\n",
        "  def test(self, model, device, test_loader,filename):\n",
        "      model.eval()  # prep model for evaluation\n",
        "      test_loss = 0\n",
        "      correct = 0\n",
        "      with torch.no_grad():\n",
        "          for data, target in test_loader:\n",
        "            data, target = data.to(device), target.to(device)\n",
        "            output = model(data)  # forward pass: compute predicted outputs by passing inputs to the model\n",
        "            test_loss += F.nll_loss(output, target, reduction='sum').item()  # sum up batch loss\n",
        "            pred = output.argmax(dim=1, keepdim=True)  # get the index of the max log-probability\n",
        "            correct += pred.eq(target.view_as(pred)).sum().item()\n",
        "\n",
        "      test_loss /= len(test_loader.dataset)\n",
        "      self.test_losses.append(test_loss)\n",
        "\n",
        "      # save model if validation loss has decreased\n",
        "      if test_loss <= self.test_loss_min:\n",
        "          print('Validation loss has  decreased ({:.4f} --> {:.4f}).  Saving model ...'.format(self.test_loss_min, test_loss))\n",
        "          torch.save(model.state_dict(), filename)\n",
        "          self.test_loss_min = test_loss\n",
        "\n",
        "\n",
        "      print('\\nTest set: Average loss: {:.4f}, Accuracy: {}/{} ({:.2f}%)\\n'.format(\n",
        "          test_loss, correct, len(test_loader.dataset),\n",
        "          100. * correct / len(test_loader.dataset)))\n",
        "    \n",
        "      self.test_acc.append(100. * correct / len(test_loader.dataset))\n",
        "\n",
        "    \n",
        "\n",
        "\n"
      ],
      "execution_count": 0,
      "outputs": []
    },
    {
      "cell_type": "markdown",
      "metadata": {
        "id": "bStuYmhx0EoM",
        "colab_type": "text"
      },
      "source": [
        "**Model 1**\n",
        "#without L1 and L2 regularization with BN\n"
      ]
    },
    {
      "cell_type": "code",
      "metadata": {
        "id": "bnfSxD6qDQch",
        "colab_type": "code",
        "colab": {}
      },
      "source": [
        "from torch.optim.lr_scheduler import OneCycleLR\n",
        "\n",
        "\n",
        "def withoutL1_L2_BN():\n",
        "  model =  Net().to(device)\n",
        "  optimizer = optim.SGD(model.parameters(), lr=0.01, momentum=0.9)\n",
        "  #scheduler = StepLR(optimizer, step_size=5, gamma=0.5)\n",
        "  scheduler = torch.optim.lr_scheduler.OneCycleLR(optimizer, max_lr=0.1, steps_per_epoch=len(train_loader), epochs=25)\n",
        "\n",
        "#first model\n",
        "  print('without L1 and L2 regularization with BN')\n",
        "#without L1 and L2 regularization with BN\n",
        "\n",
        "  model1= Test_Train()\n",
        "  global loss1\n",
        "  # global acc1\n",
        "  loss1 = model1.test_losses\n",
        "  global acc1\n",
        "  acc1 = model1.test_acc\n",
        "\n",
        "  EPOCHS = 25  \n",
        "  for epoch in range(1,EPOCHS+1):\n",
        "      print(\"EPOCH:\", epoch)\n",
        "      model1.train(model, device, train_loader, optimizer, epoch, scheduler)\n",
        "      model1.test(model, device, test_loader,\"model1.pt\")\n",
        "\n"
      ],
      "execution_count": 0,
      "outputs": []
    },
    {
      "cell_type": "markdown",
      "metadata": {
        "id": "_wyBeeIs0QhH",
        "colab_type": "text"
      },
      "source": [
        "**Model 2**\n",
        "#with L1 regularization with BN\n"
      ]
    },
    {
      "cell_type": "code",
      "metadata": {
        "id": "jYFTjTuCTscQ",
        "colab_type": "code",
        "colab": {}
      },
      "source": [
        "from torch.optim.lr_scheduler import OneCycleLR\n",
        "\n",
        "def withL1_BN():\n",
        "  model =  Net().to(device)\n",
        "# scheduler = StepLR(optimizer, step_size=5, gamma=0.5)\n",
        "  optimizer = optim.SGD(model.parameters(), lr=0.01, momentum=0.9)\n",
        "  scheduler = torch.optim.lr_scheduler.OneCycleLR(optimizer, max_lr=0.1, steps_per_epoch=len(train_loader), epochs=25)\n",
        "\n",
        "#second model\n",
        "  print('with L1 regularization with BN')\n",
        "#with L1 regularization with BN\n",
        "  model2 = Test_Train()\n",
        "  global loss2\n",
        "  # global acc2\n",
        "  loss2 = model2.test_losses\n",
        "  global acc2 \n",
        "  acc2 = model2.test_acc\n",
        "\n",
        "  EPOCHS = 25\n",
        "  for epoch in range(1,EPOCHS+1):\n",
        "      print(\"EPOCH:\", epoch)\n",
        "      model2.train(model, device, train_loader, optimizer, epoch, scheduler, L1lambda = 1e-5)\n",
        "      model2.test(model, device, test_loader,\"model2.pt\")"
      ],
      "execution_count": 0,
      "outputs": []
    },
    {
      "cell_type": "markdown",
      "metadata": {
        "id": "GhhgosOW0XWH",
        "colab_type": "text"
      },
      "source": [
        "**Model 3**\n",
        "#with L2 regularization with BN\n"
      ]
    },
    {
      "cell_type": "code",
      "metadata": {
        "id": "aJmdpUz12cN3",
        "colab_type": "code",
        "colab": {}
      },
      "source": [
        "#from torch.optim.lr_scheduler import StepLR\n",
        "\n",
        "from torch.optim.lr_scheduler import OneCycleLR\n",
        "\n",
        "def withL2_BN():\n",
        "  model =  Net().to(device)\n",
        "  optimizer = optim.SGD(model.parameters(), lr=0.01, momentum=0.9,weight_decay=1e-4)\n",
        "#scheduler = StepLR(optimizer, step_size=5, gamma=0.5)\n",
        "  scheduler = torch.optim.lr_scheduler.OneCycleLR(optimizer, max_lr=0.1, steps_per_epoch=len(train_loader), epochs=25)\n",
        "\n",
        "#third model\n",
        "  print('with L2 regularization with BN')\n",
        "#with L2 regularization \n",
        "  model3 = Test_Train()\n",
        "  global loss3\n",
        "  # global acc3\n",
        "  loss3 = model3.test_losses\n",
        "  global acc3 \n",
        "  acc3 = model3.test_acc\n",
        "\n",
        "  EPOCHS = 25\n",
        "  for epoch in range(1,EPOCHS+1):\n",
        "      print(\"EPOCH:\", epoch)\n",
        "      model3.train(model, device, train_loader, optimizer, epoch, scheduler)\n",
        "      model3.test(model, device, test_loader,\"model3.pt\")"
      ],
      "execution_count": 0,
      "outputs": []
    },
    {
      "cell_type": "markdown",
      "metadata": {
        "id": "gMPRwkhT0ctp",
        "colab_type": "text"
      },
      "source": [
        "**Model 4**\n",
        "#with both L1 & L2 regularization with BN\n"
      ]
    },
    {
      "cell_type": "code",
      "metadata": {
        "id": "LTMgeAnnzUna",
        "colab_type": "code",
        "colab": {}
      },
      "source": [
        "# model =  Net().to(device)\n",
        "\n",
        "\n",
        "def withL1_L2_BN():\n",
        "  model =  Net().to(device)\n",
        "  optimizer = optim.SGD(model.parameters(), lr=0.01, momentum=0.9,weight_decay=1e-4)\n",
        "# scheduler = StepLR(optimizer, step_size=5, gamma=0.5)\n",
        "  scheduler = torch.optim.lr_scheduler.OneCycleLR(optimizer, max_lr=0.1, steps_per_epoch=len(train_loader), epochs=25)\n",
        "\n",
        "#fourth  model\n",
        "  print('with L1 & L2 regularization with BN')\n",
        "#with both L1 & L2 regularization with BN\n",
        "  model4 = Test_Train()\n",
        "  global loss4\n",
        "  # global acc4\n",
        "  loss4 = model4.test_losses\n",
        "  global acc4 \n",
        "  acc4 = model4.test_acc\n",
        "\n",
        "  EPOCHS = 25\n",
        "  for epoch in range(1,EPOCHS+1):\n",
        "      print(\"EPOCH:\", epoch)\n",
        "      model4.train(model, device, train_loader, optimizer, epoch, scheduler, L1lambda = 1e-5)\n",
        "      model4.test(model, device, test_loader,\"model4.pt\")"
      ],
      "execution_count": 0,
      "outputs": []
    },
    {
      "cell_type": "code",
      "metadata": {
        "id": "0tMvfVbqV597",
        "colab_type": "code",
        "outputId": "829dd7f5-dc88-44d6-98b6-eadf34709b61",
        "colab": {
          "base_uri": "https://localhost:8080/",
          "height": 1000
        }
      },
      "source": [
        "modelTuple = iter(withoutL1_L2_BN(),\n",
        "  withL1_BN())\n",
        "\n",
        "print(modelTuple.__next__())"
      ],
      "execution_count": 14,
      "outputs": [
        {
          "output_type": "stream",
          "text": [
            "\r  0%|          | 0/469 [00:00<?, ?it/s]"
          ],
          "name": "stderr"
        },
        {
          "output_type": "stream",
          "text": [
            "without L1 and L2 regularization with BN\n",
            "EPOCH: 1\n"
          ],
          "name": "stdout"
        },
        {
          "output_type": "stream",
          "text": [
            "Loss=0.02292191982269287 Batch_id=468 Accuracy=87.46: 100%|██████████| 469/469 [00:52<00:00,  9.01it/s]\n",
            "  0%|          | 0/469 [00:00<?, ?it/s]"
          ],
          "name": "stderr"
        },
        {
          "output_type": "stream",
          "text": [
            "Validation loss has  decreased (inf --> 0.0709).  Saving model ...\n",
            "\n",
            "Test set: Average loss: 0.0709, Accuracy: 9772/10000 (97.72%)\n",
            "\n",
            "EPOCH: 2\n"
          ],
          "name": "stdout"
        },
        {
          "output_type": "stream",
          "text": [
            "Loss=0.07932262867689133 Batch_id=468 Accuracy=97.50: 100%|██████████| 469/469 [00:52<00:00,  9.01it/s]\n",
            "  0%|          | 0/469 [00:00<?, ?it/s]"
          ],
          "name": "stderr"
        },
        {
          "output_type": "stream",
          "text": [
            "Validation loss has  decreased (0.0709 --> 0.0451).  Saving model ...\n",
            "\n",
            "Test set: Average loss: 0.0451, Accuracy: 9850/10000 (98.50%)\n",
            "\n",
            "EPOCH: 3\n"
          ],
          "name": "stdout"
        },
        {
          "output_type": "stream",
          "text": [
            "Loss=0.05168589949607849 Batch_id=468 Accuracy=98.05: 100%|██████████| 469/469 [00:52<00:00,  8.91it/s]\n",
            "  0%|          | 0/469 [00:00<?, ?it/s]"
          ],
          "name": "stderr"
        },
        {
          "output_type": "stream",
          "text": [
            "Validation loss has  decreased (0.0451 --> 0.0436).  Saving model ...\n",
            "\n",
            "Test set: Average loss: 0.0436, Accuracy: 9865/10000 (98.65%)\n",
            "\n",
            "EPOCH: 4\n"
          ],
          "name": "stdout"
        },
        {
          "output_type": "stream",
          "text": [
            "Loss=0.02007904462516308 Batch_id=468 Accuracy=98.36: 100%|██████████| 469/469 [00:52<00:00,  8.85it/s]\n",
            "  0%|          | 0/469 [00:00<?, ?it/s]"
          ],
          "name": "stderr"
        },
        {
          "output_type": "stream",
          "text": [
            "Validation loss has  decreased (0.0436 --> 0.0298).  Saving model ...\n",
            "\n",
            "Test set: Average loss: 0.0298, Accuracy: 9904/10000 (99.04%)\n",
            "\n",
            "EPOCH: 5\n"
          ],
          "name": "stdout"
        },
        {
          "output_type": "stream",
          "text": [
            "Loss=0.001288534956984222 Batch_id=468 Accuracy=98.57: 100%|██████████| 469/469 [00:52<00:00,  8.93it/s]\n",
            "  0%|          | 0/469 [00:00<?, ?it/s]"
          ],
          "name": "stderr"
        },
        {
          "output_type": "stream",
          "text": [
            "Validation loss has  decreased (0.0298 --> 0.0298).  Saving model ...\n",
            "\n",
            "Test set: Average loss: 0.0298, Accuracy: 9897/10000 (98.97%)\n",
            "\n",
            "EPOCH: 6\n"
          ],
          "name": "stdout"
        },
        {
          "output_type": "stream",
          "text": [
            "Loss=0.011276359669864178 Batch_id=468 Accuracy=98.61: 100%|██████████| 469/469 [00:56<00:00,  8.37it/s]\n",
            "  0%|          | 0/469 [00:00<?, ?it/s]"
          ],
          "name": "stderr"
        },
        {
          "output_type": "stream",
          "text": [
            "\n",
            "Test set: Average loss: 0.0329, Accuracy: 9896/10000 (98.96%)\n",
            "\n",
            "EPOCH: 7\n"
          ],
          "name": "stdout"
        },
        {
          "output_type": "stream",
          "text": [
            "Loss=0.037323959171772 Batch_id=468 Accuracy=98.80: 100%|██████████| 469/469 [00:52<00:00,  9.01it/s]\n",
            "  0%|          | 0/469 [00:00<?, ?it/s]"
          ],
          "name": "stderr"
        },
        {
          "output_type": "stream",
          "text": [
            "Validation loss has  decreased (0.0298 --> 0.0279).  Saving model ...\n",
            "\n",
            "Test set: Average loss: 0.0279, Accuracy: 9907/10000 (99.07%)\n",
            "\n",
            "EPOCH: 8\n"
          ],
          "name": "stdout"
        },
        {
          "output_type": "stream",
          "text": [
            "Loss=0.0032015491742640734 Batch_id=468 Accuracy=98.85: 100%|██████████| 469/469 [00:51<00:00,  9.04it/s]\n",
            "  0%|          | 0/469 [00:00<?, ?it/s]"
          ],
          "name": "stderr"
        },
        {
          "output_type": "stream",
          "text": [
            "Validation loss has  decreased (0.0279 --> 0.0215).  Saving model ...\n",
            "\n",
            "Test set: Average loss: 0.0215, Accuracy: 9923/10000 (99.23%)\n",
            "\n",
            "EPOCH: 9\n"
          ],
          "name": "stdout"
        },
        {
          "output_type": "stream",
          "text": [
            "Loss=0.03302786126732826 Batch_id=468 Accuracy=98.97: 100%|██████████| 469/469 [00:52<00:00,  9.00it/s]\n",
            "  0%|          | 0/469 [00:00<?, ?it/s]"
          ],
          "name": "stderr"
        },
        {
          "output_type": "stream",
          "text": [
            "\n",
            "Test set: Average loss: 0.0261, Accuracy: 9919/10000 (99.19%)\n",
            "\n",
            "EPOCH: 10\n"
          ],
          "name": "stdout"
        },
        {
          "output_type": "stream",
          "text": [
            "Loss=0.0581214465200901 Batch_id=468 Accuracy=99.03: 100%|██████████| 469/469 [00:51<00:00,  9.10it/s]\n",
            "  0%|          | 0/469 [00:00<?, ?it/s]"
          ],
          "name": "stderr"
        },
        {
          "output_type": "stream",
          "text": [
            "\n",
            "Test set: Average loss: 0.0221, Accuracy: 9927/10000 (99.27%)\n",
            "\n",
            "EPOCH: 11\n"
          ],
          "name": "stdout"
        },
        {
          "output_type": "stream",
          "text": [
            "Loss=0.024595750495791435 Batch_id=468 Accuracy=99.04: 100%|██████████| 469/469 [00:51<00:00,  9.06it/s]\n",
            "  0%|          | 0/469 [00:00<?, ?it/s]"
          ],
          "name": "stderr"
        },
        {
          "output_type": "stream",
          "text": [
            "\n",
            "Test set: Average loss: 0.0220, Accuracy: 9941/10000 (99.41%)\n",
            "\n",
            "EPOCH: 12\n"
          ],
          "name": "stdout"
        },
        {
          "output_type": "stream",
          "text": [
            "Loss=0.02815067023038864 Batch_id=468 Accuracy=99.06: 100%|██████████| 469/469 [00:51<00:00,  9.08it/s]\n",
            "  0%|          | 0/469 [00:00<?, ?it/s]"
          ],
          "name": "stderr"
        },
        {
          "output_type": "stream",
          "text": [
            "\n",
            "Test set: Average loss: 0.0227, Accuracy: 9926/10000 (99.26%)\n",
            "\n",
            "EPOCH: 13\n"
          ],
          "name": "stdout"
        },
        {
          "output_type": "stream",
          "text": [
            "Loss=0.014604606665670872 Batch_id=468 Accuracy=99.14: 100%|██████████| 469/469 [00:51<00:00,  9.04it/s]\n",
            "  0%|          | 0/469 [00:00<?, ?it/s]"
          ],
          "name": "stderr"
        },
        {
          "output_type": "stream",
          "text": [
            "\n",
            "Test set: Average loss: 0.0225, Accuracy: 9925/10000 (99.25%)\n",
            "\n",
            "EPOCH: 14\n"
          ],
          "name": "stdout"
        },
        {
          "output_type": "stream",
          "text": [
            "Loss=0.004627669230103493 Batch_id=468 Accuracy=99.16: 100%|██████████| 469/469 [00:51<00:00,  9.11it/s]\n",
            "  0%|          | 0/469 [00:00<?, ?it/s]"
          ],
          "name": "stderr"
        },
        {
          "output_type": "stream",
          "text": [
            "\n",
            "Test set: Average loss: 0.0228, Accuracy: 9935/10000 (99.35%)\n",
            "\n",
            "EPOCH: 15\n"
          ],
          "name": "stdout"
        },
        {
          "output_type": "stream",
          "text": [
            "Loss=0.002266311552375555 Batch_id=468 Accuracy=99.21: 100%|██████████| 469/469 [00:51<00:00,  9.02it/s]\n",
            "  0%|          | 0/469 [00:00<?, ?it/s]"
          ],
          "name": "stderr"
        },
        {
          "output_type": "stream",
          "text": [
            "Validation loss has  decreased (0.0215 --> 0.0203).  Saving model ...\n",
            "\n",
            "Test set: Average loss: 0.0203, Accuracy: 9930/10000 (99.30%)\n",
            "\n",
            "EPOCH: 16\n"
          ],
          "name": "stdout"
        },
        {
          "output_type": "stream",
          "text": [
            "Loss=0.004912571515887976 Batch_id=468 Accuracy=99.24: 100%|██████████| 469/469 [00:52<00:00,  9.02it/s]\n",
            "  0%|          | 0/469 [00:00<?, ?it/s]"
          ],
          "name": "stderr"
        },
        {
          "output_type": "stream",
          "text": [
            "\n",
            "Test set: Average loss: 0.0248, Accuracy: 9935/10000 (99.35%)\n",
            "\n",
            "EPOCH: 17\n"
          ],
          "name": "stdout"
        },
        {
          "output_type": "stream",
          "text": [
            "Loss=0.0019574170000851154 Batch_id=468 Accuracy=99.28: 100%|██████████| 469/469 [00:55<00:00,  8.46it/s]\n",
            "  0%|          | 0/469 [00:00<?, ?it/s]"
          ],
          "name": "stderr"
        },
        {
          "output_type": "stream",
          "text": [
            "Validation loss has  decreased (0.0203 --> 0.0193).  Saving model ...\n",
            "\n",
            "Test set: Average loss: 0.0193, Accuracy: 9941/10000 (99.41%)\n",
            "\n",
            "EPOCH: 18\n"
          ],
          "name": "stdout"
        },
        {
          "output_type": "stream",
          "text": [
            "Loss=0.005469253286719322 Batch_id=468 Accuracy=99.34: 100%|██████████| 469/469 [00:51<00:00,  9.07it/s]\n",
            "  0%|          | 0/469 [00:00<?, ?it/s]"
          ],
          "name": "stderr"
        },
        {
          "output_type": "stream",
          "text": [
            "Validation loss has  decreased (0.0193 --> 0.0193).  Saving model ...\n",
            "\n",
            "Test set: Average loss: 0.0193, Accuracy: 9945/10000 (99.45%)\n",
            "\n",
            "EPOCH: 19\n"
          ],
          "name": "stdout"
        },
        {
          "output_type": "stream",
          "text": [
            "Loss=0.0564921610057354 Batch_id=468 Accuracy=99.34: 100%|██████████| 469/469 [00:51<00:00,  9.08it/s]\n",
            "  0%|          | 0/469 [00:00<?, ?it/s]"
          ],
          "name": "stderr"
        },
        {
          "output_type": "stream",
          "text": [
            "Validation loss has  decreased (0.0193 --> 0.0183).  Saving model ...\n",
            "\n",
            "Test set: Average loss: 0.0183, Accuracy: 9940/10000 (99.40%)\n",
            "\n",
            "EPOCH: 20\n"
          ],
          "name": "stdout"
        },
        {
          "output_type": "stream",
          "text": [
            "Loss=0.001523698098026216 Batch_id=468 Accuracy=99.37: 100%|██████████| 469/469 [00:51<00:00,  9.03it/s]\n",
            "  0%|          | 0/469 [00:00<?, ?it/s]"
          ],
          "name": "stderr"
        },
        {
          "output_type": "stream",
          "text": [
            "Validation loss has  decreased (0.0183 --> 0.0171).  Saving model ...\n",
            "\n",
            "Test set: Average loss: 0.0171, Accuracy: 9944/10000 (99.44%)\n",
            "\n",
            "EPOCH: 21\n"
          ],
          "name": "stdout"
        },
        {
          "output_type": "stream",
          "text": [
            "Loss=0.0034366787876933813 Batch_id=468 Accuracy=99.51: 100%|██████████| 469/469 [00:51<00:00,  9.03it/s]\n",
            "  0%|          | 0/469 [00:00<?, ?it/s]"
          ],
          "name": "stderr"
        },
        {
          "output_type": "stream",
          "text": [
            "\n",
            "Test set: Average loss: 0.0178, Accuracy: 9943/10000 (99.43%)\n",
            "\n",
            "EPOCH: 22\n"
          ],
          "name": "stdout"
        },
        {
          "output_type": "stream",
          "text": [
            "Loss=0.023390255868434906 Batch_id=468 Accuracy=99.48: 100%|██████████| 469/469 [00:51<00:00,  9.08it/s]\n",
            "  0%|          | 0/469 [00:00<?, ?it/s]"
          ],
          "name": "stderr"
        },
        {
          "output_type": "stream",
          "text": [
            "\n",
            "Test set: Average loss: 0.0171, Accuracy: 9950/10000 (99.50%)\n",
            "\n",
            "EPOCH: 23\n"
          ],
          "name": "stdout"
        },
        {
          "output_type": "stream",
          "text": [
            "Loss=0.006271774414926767 Batch_id=468 Accuracy=99.53: 100%|██████████| 469/469 [00:51<00:00,  9.05it/s]\n",
            "  0%|          | 0/469 [00:00<?, ?it/s]"
          ],
          "name": "stderr"
        },
        {
          "output_type": "stream",
          "text": [
            "Validation loss has  decreased (0.0171 --> 0.0166).  Saving model ...\n",
            "\n",
            "Test set: Average loss: 0.0166, Accuracy: 9947/10000 (99.47%)\n",
            "\n",
            "EPOCH: 24\n"
          ],
          "name": "stdout"
        },
        {
          "output_type": "stream",
          "text": [
            "Loss=0.0010362964821979403 Batch_id=468 Accuracy=99.58: 100%|██████████| 469/469 [00:51<00:00,  9.05it/s]\n",
            "  0%|          | 0/469 [00:00<?, ?it/s]"
          ],
          "name": "stderr"
        },
        {
          "output_type": "stream",
          "text": [
            "Validation loss has  decreased (0.0166 --> 0.0163).  Saving model ...\n",
            "\n",
            "Test set: Average loss: 0.0163, Accuracy: 9950/10000 (99.50%)\n",
            "\n",
            "EPOCH: 25\n"
          ],
          "name": "stdout"
        },
        {
          "output_type": "stream",
          "text": [
            "Loss=0.10043749958276749 Batch_id=468 Accuracy=99.56: 100%|██████████| 469/469 [00:53<00:00,  8.78it/s]\n",
            "  0%|          | 0/469 [00:00<?, ?it/s]"
          ],
          "name": "stderr"
        },
        {
          "output_type": "stream",
          "text": [
            "\n",
            "Test set: Average loss: 0.0163, Accuracy: 9948/10000 (99.48%)\n",
            "\n",
            "with L1 regularization with BN\n",
            "EPOCH: 1\n"
          ],
          "name": "stdout"
        },
        {
          "output_type": "stream",
          "text": [
            "Loss=0.12125478684902191 Batch_id=468 Accuracy=87.83: 100%|██████████| 469/469 [00:52<00:00,  8.85it/s]\n",
            "  0%|          | 0/469 [00:00<?, ?it/s]"
          ],
          "name": "stderr"
        },
        {
          "output_type": "stream",
          "text": [
            "Validation loss has  decreased (inf --> 0.0780).  Saving model ...\n",
            "\n",
            "Test set: Average loss: 0.0780, Accuracy: 9769/10000 (97.69%)\n",
            "\n",
            "EPOCH: 2\n"
          ],
          "name": "stdout"
        },
        {
          "output_type": "stream",
          "text": [
            "Loss=0.0871410071849823 Batch_id=468 Accuracy=97.59: 100%|██████████| 469/469 [00:52<00:00,  8.92it/s]\n",
            "  0%|          | 0/469 [00:00<?, ?it/s]"
          ],
          "name": "stderr"
        },
        {
          "output_type": "stream",
          "text": [
            "Validation loss has  decreased (0.0780 --> 0.0535).  Saving model ...\n",
            "\n",
            "Test set: Average loss: 0.0535, Accuracy: 9828/10000 (98.28%)\n",
            "\n",
            "EPOCH: 3\n"
          ],
          "name": "stdout"
        },
        {
          "output_type": "stream",
          "text": [
            "Loss=0.04257291555404663 Batch_id=468 Accuracy=98.18: 100%|██████████| 469/469 [00:56<00:00,  8.36it/s]\n",
            "  0%|          | 0/469 [00:00<?, ?it/s]"
          ],
          "name": "stderr"
        },
        {
          "output_type": "stream",
          "text": [
            "Validation loss has  decreased (0.0535 --> 0.0334).  Saving model ...\n",
            "\n",
            "Test set: Average loss: 0.0334, Accuracy: 9896/10000 (98.96%)\n",
            "\n",
            "EPOCH: 4\n"
          ],
          "name": "stdout"
        },
        {
          "output_type": "stream",
          "text": [
            "Loss=0.019682224839925766 Batch_id=468 Accuracy=98.36: 100%|██████████| 469/469 [00:53<00:00,  8.82it/s]\n",
            "  0%|          | 0/469 [00:00<?, ?it/s]"
          ],
          "name": "stderr"
        },
        {
          "output_type": "stream",
          "text": [
            "Validation loss has  decreased (0.0334 --> 0.0319).  Saving model ...\n",
            "\n",
            "Test set: Average loss: 0.0319, Accuracy: 9900/10000 (99.00%)\n",
            "\n",
            "EPOCH: 5\n"
          ],
          "name": "stdout"
        },
        {
          "output_type": "stream",
          "text": [
            "Loss=0.07059087604284286 Batch_id=468 Accuracy=98.42: 100%|██████████| 469/469 [00:53<00:00,  8.78it/s]\n",
            "  0%|          | 0/469 [00:00<?, ?it/s]"
          ],
          "name": "stderr"
        },
        {
          "output_type": "stream",
          "text": [
            "Validation loss has  decreased (0.0319 --> 0.0296).  Saving model ...\n",
            "\n",
            "Test set: Average loss: 0.0296, Accuracy: 9905/10000 (99.05%)\n",
            "\n",
            "EPOCH: 6\n"
          ],
          "name": "stdout"
        },
        {
          "output_type": "stream",
          "text": [
            "Loss=0.03743598982691765 Batch_id=468 Accuracy=98.69: 100%|██████████| 469/469 [00:53<00:00,  8.84it/s]\n",
            "  0%|          | 0/469 [00:00<?, ?it/s]"
          ],
          "name": "stderr"
        },
        {
          "output_type": "stream",
          "text": [
            "\n",
            "Test set: Average loss: 0.0420, Accuracy: 9870/10000 (98.70%)\n",
            "\n",
            "EPOCH: 7\n"
          ],
          "name": "stdout"
        },
        {
          "output_type": "stream",
          "text": [
            "Loss=0.013371916487812996 Batch_id=468 Accuracy=98.74: 100%|██████████| 469/469 [00:53<00:00,  8.83it/s]\n",
            "  0%|          | 0/469 [00:00<?, ?it/s]"
          ],
          "name": "stderr"
        },
        {
          "output_type": "stream",
          "text": [
            "Validation loss has  decreased (0.0296 --> 0.0245).  Saving model ...\n",
            "\n",
            "Test set: Average loss: 0.0245, Accuracy: 9916/10000 (99.16%)\n",
            "\n",
            "EPOCH: 8\n"
          ],
          "name": "stdout"
        },
        {
          "output_type": "stream",
          "text": [
            "Loss=0.04835078865289688 Batch_id=468 Accuracy=98.84: 100%|██████████| 469/469 [00:53<00:00,  8.80it/s]\n",
            "  0%|          | 0/469 [00:00<?, ?it/s]"
          ],
          "name": "stderr"
        },
        {
          "output_type": "stream",
          "text": [
            "\n",
            "Test set: Average loss: 0.0302, Accuracy: 9906/10000 (99.06%)\n",
            "\n",
            "EPOCH: 9\n"
          ],
          "name": "stdout"
        },
        {
          "output_type": "stream",
          "text": [
            "Loss=0.044861435890197754 Batch_id=468 Accuracy=98.89: 100%|██████████| 469/469 [00:53<00:00,  8.82it/s]\n",
            "  0%|          | 0/469 [00:00<?, ?it/s]"
          ],
          "name": "stderr"
        },
        {
          "output_type": "stream",
          "text": [
            "\n",
            "Test set: Average loss: 0.0272, Accuracy: 9906/10000 (99.06%)\n",
            "\n",
            "EPOCH: 10\n"
          ],
          "name": "stdout"
        },
        {
          "output_type": "stream",
          "text": [
            "Loss=0.029083330184221268 Batch_id=468 Accuracy=98.95: 100%|██████████| 469/469 [00:52<00:00,  8.86it/s]\n",
            "  0%|          | 0/469 [00:00<?, ?it/s]"
          ],
          "name": "stderr"
        },
        {
          "output_type": "stream",
          "text": [
            "Validation loss has  decreased (0.0245 --> 0.0239).  Saving model ...\n",
            "\n",
            "Test set: Average loss: 0.0239, Accuracy: 9921/10000 (99.21%)\n",
            "\n",
            "EPOCH: 11\n"
          ],
          "name": "stdout"
        },
        {
          "output_type": "stream",
          "text": [
            "Loss=0.03899669274687767 Batch_id=468 Accuracy=98.97: 100%|██████████| 469/469 [00:52<00:00,  8.87it/s]\n",
            "  0%|          | 0/469 [00:00<?, ?it/s]"
          ],
          "name": "stderr"
        },
        {
          "output_type": "stream",
          "text": [
            "Validation loss has  decreased (0.0239 --> 0.0194).  Saving model ...\n",
            "\n",
            "Test set: Average loss: 0.0194, Accuracy: 9937/10000 (99.37%)\n",
            "\n",
            "EPOCH: 12\n"
          ],
          "name": "stdout"
        },
        {
          "output_type": "stream",
          "text": [
            "Loss=0.046579405665397644 Batch_id=468 Accuracy=99.09: 100%|██████████| 469/469 [00:52<00:00,  8.87it/s]\n",
            "  0%|          | 0/469 [00:00<?, ?it/s]"
          ],
          "name": "stderr"
        },
        {
          "output_type": "stream",
          "text": [
            "\n",
            "Test set: Average loss: 0.0266, Accuracy: 9921/10000 (99.21%)\n",
            "\n",
            "EPOCH: 13\n"
          ],
          "name": "stdout"
        },
        {
          "output_type": "stream",
          "text": [
            "Loss=0.017472853884100914 Batch_id=468 Accuracy=99.06: 100%|██████████| 469/469 [00:52<00:00,  8.87it/s]\n",
            "  0%|          | 0/469 [00:00<?, ?it/s]"
          ],
          "name": "stderr"
        },
        {
          "output_type": "stream",
          "text": [
            "\n",
            "Test set: Average loss: 0.0222, Accuracy: 9926/10000 (99.26%)\n",
            "\n",
            "EPOCH: 14\n"
          ],
          "name": "stdout"
        },
        {
          "output_type": "stream",
          "text": [
            "Loss=0.04487469047307968 Batch_id=468 Accuracy=99.20: 100%|██████████| 469/469 [00:56<00:00,  8.37it/s]\n",
            "  0%|          | 0/469 [00:00<?, ?it/s]"
          ],
          "name": "stderr"
        },
        {
          "output_type": "stream",
          "text": [
            "\n",
            "Test set: Average loss: 0.0221, Accuracy: 9935/10000 (99.35%)\n",
            "\n",
            "EPOCH: 15\n"
          ],
          "name": "stdout"
        },
        {
          "output_type": "stream",
          "text": [
            "Loss=0.04260799288749695 Batch_id=468 Accuracy=99.14: 100%|██████████| 469/469 [00:52<00:00,  8.88it/s]\n",
            "  0%|          | 0/469 [00:00<?, ?it/s]"
          ],
          "name": "stderr"
        },
        {
          "output_type": "stream",
          "text": [
            "\n",
            "Test set: Average loss: 0.0206, Accuracy: 9941/10000 (99.41%)\n",
            "\n",
            "EPOCH: 16\n"
          ],
          "name": "stdout"
        },
        {
          "output_type": "stream",
          "text": [
            "Loss=0.06979188323020935 Batch_id=468 Accuracy=99.27: 100%|██████████| 469/469 [00:52<00:00,  8.87it/s]\n",
            "  0%|          | 0/469 [00:00<?, ?it/s]"
          ],
          "name": "stderr"
        },
        {
          "output_type": "stream",
          "text": [
            "\n",
            "Test set: Average loss: 0.0198, Accuracy: 9925/10000 (99.25%)\n",
            "\n",
            "EPOCH: 17\n"
          ],
          "name": "stdout"
        },
        {
          "output_type": "stream",
          "text": [
            "Loss=0.06023865565657616 Batch_id=468 Accuracy=99.28: 100%|██████████| 469/469 [00:52<00:00,  8.92it/s]\n",
            "  0%|          | 0/469 [00:00<?, ?it/s]"
          ],
          "name": "stderr"
        },
        {
          "output_type": "stream",
          "text": [
            "\n",
            "Test set: Average loss: 0.0214, Accuracy: 9933/10000 (99.33%)\n",
            "\n",
            "EPOCH: 18\n"
          ],
          "name": "stdout"
        },
        {
          "output_type": "stream",
          "text": [
            "Loss=0.024857737123966217 Batch_id=468 Accuracy=99.28: 100%|██████████| 469/469 [00:52<00:00,  8.93it/s]\n",
            "  0%|          | 0/469 [00:00<?, ?it/s]"
          ],
          "name": "stderr"
        },
        {
          "output_type": "stream",
          "text": [
            "Validation loss has  decreased (0.0194 --> 0.0187).  Saving model ...\n",
            "\n",
            "Test set: Average loss: 0.0187, Accuracy: 9940/10000 (99.40%)\n",
            "\n",
            "EPOCH: 19\n"
          ],
          "name": "stdout"
        },
        {
          "output_type": "stream",
          "text": [
            "Loss=0.024979036301374435 Batch_id=468 Accuracy=99.34: 100%|██████████| 469/469 [00:53<00:00,  8.74it/s]\n",
            "  0%|          | 0/469 [00:00<?, ?it/s]"
          ],
          "name": "stderr"
        },
        {
          "output_type": "stream",
          "text": [
            "\n",
            "Test set: Average loss: 0.0195, Accuracy: 9941/10000 (99.41%)\n",
            "\n",
            "EPOCH: 20\n"
          ],
          "name": "stdout"
        },
        {
          "output_type": "stream",
          "text": [
            "Loss=0.019313717260956764 Batch_id=468 Accuracy=99.46: 100%|██████████| 469/469 [00:53<00:00,  8.72it/s]\n",
            "  0%|          | 0/469 [00:00<?, ?it/s]"
          ],
          "name": "stderr"
        },
        {
          "output_type": "stream",
          "text": [
            "Validation loss has  decreased (0.0187 --> 0.0179).  Saving model ...\n",
            "\n",
            "Test set: Average loss: 0.0179, Accuracy: 9943/10000 (99.43%)\n",
            "\n",
            "EPOCH: 21\n"
          ],
          "name": "stdout"
        },
        {
          "output_type": "stream",
          "text": [
            "Loss=0.018113374710083008 Batch_id=468 Accuracy=99.45: 100%|██████████| 469/469 [00:53<00:00,  8.79it/s]\n",
            "  0%|          | 0/469 [00:00<?, ?it/s]"
          ],
          "name": "stderr"
        },
        {
          "output_type": "stream",
          "text": [
            "\n",
            "Test set: Average loss: 0.0182, Accuracy: 9942/10000 (99.42%)\n",
            "\n",
            "EPOCH: 22\n"
          ],
          "name": "stdout"
        },
        {
          "output_type": "stream",
          "text": [
            "Loss=0.017551854252815247 Batch_id=468 Accuracy=99.48: 100%|██████████| 469/469 [00:53<00:00,  8.78it/s]\n",
            "  0%|          | 0/469 [00:00<?, ?it/s]"
          ],
          "name": "stderr"
        },
        {
          "output_type": "stream",
          "text": [
            "Validation loss has  decreased (0.0179 --> 0.0165).  Saving model ...\n",
            "\n",
            "Test set: Average loss: 0.0165, Accuracy: 9947/10000 (99.47%)\n",
            "\n",
            "EPOCH: 23\n"
          ],
          "name": "stdout"
        },
        {
          "output_type": "stream",
          "text": [
            "Loss=0.020506367087364197 Batch_id=468 Accuracy=99.58: 100%|██████████| 469/469 [00:53<00:00,  8.76it/s]\n",
            "  0%|          | 0/469 [00:00<?, ?it/s]"
          ],
          "name": "stderr"
        },
        {
          "output_type": "stream",
          "text": [
            "Validation loss has  decreased (0.0165 --> 0.0158).  Saving model ...\n",
            "\n",
            "Test set: Average loss: 0.0158, Accuracy: 9952/10000 (99.52%)\n",
            "\n",
            "EPOCH: 24\n"
          ],
          "name": "stdout"
        },
        {
          "output_type": "stream",
          "text": [
            "Loss=0.0328088141977787 Batch_id=468 Accuracy=99.56: 100%|██████████| 469/469 [00:53<00:00,  8.77it/s]\n",
            "  0%|          | 0/469 [00:00<?, ?it/s]"
          ],
          "name": "stderr"
        },
        {
          "output_type": "stream",
          "text": [
            "\n",
            "Test set: Average loss: 0.0163, Accuracy: 9950/10000 (99.50%)\n",
            "\n",
            "EPOCH: 25\n"
          ],
          "name": "stdout"
        },
        {
          "output_type": "stream",
          "text": [
            "Loss=0.016616161912679672 Batch_id=468 Accuracy=99.58: 100%|██████████| 469/469 [00:57<00:00,  8.12it/s]\n"
          ],
          "name": "stderr"
        },
        {
          "output_type": "stream",
          "text": [
            "\n",
            "Test set: Average loss: 0.0162, Accuracy: 9951/10000 (99.51%)\n",
            "\n"
          ],
          "name": "stdout"
        },
        {
          "output_type": "error",
          "ename": "TypeError",
          "evalue": "ignored",
          "traceback": [
            "\u001b[0;31m---------------------------------------------------------------------------\u001b[0m",
            "\u001b[0;31mTypeError\u001b[0m                                 Traceback (most recent call last)",
            "\u001b[0;32m<ipython-input-14-89160324f95d>\u001b[0m in \u001b[0;36m<module>\u001b[0;34m()\u001b[0m\n\u001b[1;32m      1\u001b[0m modelTuple = iter(withoutL1_L2_BN(),\n\u001b[0;32m----> 2\u001b[0;31m   withL1_BN())\n\u001b[0m\u001b[1;32m      3\u001b[0m \u001b[0;34m\u001b[0m\u001b[0m\n\u001b[1;32m      4\u001b[0m \u001b[0mprint\u001b[0m\u001b[0;34m(\u001b[0m\u001b[0mmodelTuple\u001b[0m\u001b[0;34m.\u001b[0m\u001b[0m__next__\u001b[0m\u001b[0;34m(\u001b[0m\u001b[0;34m)\u001b[0m\u001b[0;34m)\u001b[0m\u001b[0;34m\u001b[0m\u001b[0;34m\u001b[0m\u001b[0m\n",
            "\u001b[0;31mTypeError\u001b[0m: iter(v, w): v must be callable"
          ]
        }
      ]
    },
    {
      "cell_type": "code",
      "metadata": {
        "id": "fcO1DJJCJw4G",
        "colab_type": "code",
        "colab": {
          "base_uri": "https://localhost:8080/",
          "height": 1000
        },
        "outputId": "ddb1029a-068e-43a3-bcd2-2853ecbbc6dc"
      },
      "source": [
        "modelTuple = iter(\n",
        "  withL2_BN(),\n",
        "  withL1_L2_BN())\n",
        "\n",
        "print(modelTuple.__next__())"
      ],
      "execution_count": 15,
      "outputs": [
        {
          "output_type": "stream",
          "text": [
            "\r  0%|          | 0/469 [00:00<?, ?it/s]"
          ],
          "name": "stderr"
        },
        {
          "output_type": "stream",
          "text": [
            "with L2 regularization with BN\n",
            "EPOCH: 1\n"
          ],
          "name": "stdout"
        },
        {
          "output_type": "stream",
          "text": [
            "Loss=0.11668336391448975 Batch_id=468 Accuracy=86.80: 100%|██████████| 469/469 [00:53<00:00,  8.76it/s]\n",
            "  0%|          | 0/469 [00:00<?, ?it/s]"
          ],
          "name": "stderr"
        },
        {
          "output_type": "stream",
          "text": [
            "Validation loss has  decreased (inf --> 0.0573).  Saving model ...\n",
            "\n",
            "Test set: Average loss: 0.0573, Accuracy: 9829/10000 (98.29%)\n",
            "\n",
            "EPOCH: 2\n"
          ],
          "name": "stdout"
        },
        {
          "output_type": "stream",
          "text": [
            "Loss=0.1073051169514656 Batch_id=468 Accuracy=97.55: 100%|██████████| 469/469 [00:54<00:00,  8.59it/s]\n",
            "  0%|          | 0/469 [00:00<?, ?it/s]"
          ],
          "name": "stderr"
        },
        {
          "output_type": "stream",
          "text": [
            "Validation loss has  decreased (0.0573 --> 0.0437).  Saving model ...\n",
            "\n",
            "Test set: Average loss: 0.0437, Accuracy: 9864/10000 (98.64%)\n",
            "\n",
            "EPOCH: 3\n"
          ],
          "name": "stdout"
        },
        {
          "output_type": "stream",
          "text": [
            "Loss=0.022355707362294197 Batch_id=468 Accuracy=98.05: 100%|██████████| 469/469 [00:54<00:00,  8.62it/s]\n",
            "  0%|          | 0/469 [00:00<?, ?it/s]"
          ],
          "name": "stderr"
        },
        {
          "output_type": "stream",
          "text": [
            "Validation loss has  decreased (0.0437 --> 0.0333).  Saving model ...\n",
            "\n",
            "Test set: Average loss: 0.0333, Accuracy: 9896/10000 (98.96%)\n",
            "\n",
            "EPOCH: 4\n"
          ],
          "name": "stdout"
        },
        {
          "output_type": "stream",
          "text": [
            "Loss=0.04082980379462242 Batch_id=468 Accuracy=98.28: 100%|██████████| 469/469 [00:54<00:00,  8.65it/s]\n",
            "  0%|          | 0/469 [00:00<?, ?it/s]"
          ],
          "name": "stderr"
        },
        {
          "output_type": "stream",
          "text": [
            "Validation loss has  decreased (0.0333 --> 0.0321).  Saving model ...\n",
            "\n",
            "Test set: Average loss: 0.0321, Accuracy: 9887/10000 (98.87%)\n",
            "\n",
            "EPOCH: 5\n"
          ],
          "name": "stdout"
        },
        {
          "output_type": "stream",
          "text": [
            "Loss=0.020274030044674873 Batch_id=468 Accuracy=98.40: 100%|██████████| 469/469 [00:53<00:00,  8.69it/s]\n",
            "  0%|          | 0/469 [00:00<?, ?it/s]"
          ],
          "name": "stderr"
        },
        {
          "output_type": "stream",
          "text": [
            "\n",
            "Test set: Average loss: 0.0366, Accuracy: 9872/10000 (98.72%)\n",
            "\n",
            "EPOCH: 6\n"
          ],
          "name": "stdout"
        },
        {
          "output_type": "stream",
          "text": [
            "Loss=0.028384476900100708 Batch_id=468 Accuracy=98.57: 100%|██████████| 469/469 [00:54<00:00,  8.67it/s]\n",
            "  0%|          | 0/469 [00:00<?, ?it/s]"
          ],
          "name": "stderr"
        },
        {
          "output_type": "stream",
          "text": [
            "Validation loss has  decreased (0.0321 --> 0.0302).  Saving model ...\n",
            "\n",
            "Test set: Average loss: 0.0302, Accuracy: 9896/10000 (98.96%)\n",
            "\n",
            "EPOCH: 7\n"
          ],
          "name": "stdout"
        },
        {
          "output_type": "stream",
          "text": [
            "Loss=0.012735642492771149 Batch_id=468 Accuracy=98.68: 100%|██████████| 469/469 [00:53<00:00,  8.70it/s]\n",
            "  0%|          | 0/469 [00:00<?, ?it/s]"
          ],
          "name": "stderr"
        },
        {
          "output_type": "stream",
          "text": [
            "Validation loss has  decreased (0.0302 --> 0.0291).  Saving model ...\n",
            "\n",
            "Test set: Average loss: 0.0291, Accuracy: 9912/10000 (99.12%)\n",
            "\n",
            "EPOCH: 8\n"
          ],
          "name": "stdout"
        },
        {
          "output_type": "stream",
          "text": [
            "Loss=0.022334007546305656 Batch_id=468 Accuracy=98.74: 100%|██████████| 469/469 [00:54<00:00,  8.68it/s]\n",
            "  0%|          | 0/469 [00:00<?, ?it/s]"
          ],
          "name": "stderr"
        },
        {
          "output_type": "stream",
          "text": [
            "Validation loss has  decreased (0.0291 --> 0.0243).  Saving model ...\n",
            "\n",
            "Test set: Average loss: 0.0243, Accuracy: 9925/10000 (99.25%)\n",
            "\n",
            "EPOCH: 9\n"
          ],
          "name": "stdout"
        },
        {
          "output_type": "stream",
          "text": [
            "Loss=0.006619124207645655 Batch_id=468 Accuracy=98.84: 100%|██████████| 469/469 [00:56<00:00,  8.32it/s]\n",
            "  0%|          | 0/469 [00:00<?, ?it/s]"
          ],
          "name": "stderr"
        },
        {
          "output_type": "stream",
          "text": [
            "\n",
            "Test set: Average loss: 0.0307, Accuracy: 9892/10000 (98.92%)\n",
            "\n",
            "EPOCH: 10\n"
          ],
          "name": "stdout"
        },
        {
          "output_type": "stream",
          "text": [
            "Loss=0.004067190457135439 Batch_id=468 Accuracy=98.92: 100%|██████████| 469/469 [00:53<00:00,  8.82it/s]\n",
            "  0%|          | 0/469 [00:00<?, ?it/s]"
          ],
          "name": "stderr"
        },
        {
          "output_type": "stream",
          "text": [
            "Validation loss has  decreased (0.0243 --> 0.0231).  Saving model ...\n",
            "\n",
            "Test set: Average loss: 0.0231, Accuracy: 9921/10000 (99.21%)\n",
            "\n",
            "EPOCH: 11\n"
          ],
          "name": "stdout"
        },
        {
          "output_type": "stream",
          "text": [
            "Loss=0.04166467860341072 Batch_id=468 Accuracy=98.89: 100%|██████████| 469/469 [00:52<00:00,  8.88it/s]\n",
            "  0%|          | 0/469 [00:00<?, ?it/s]"
          ],
          "name": "stderr"
        },
        {
          "output_type": "stream",
          "text": [
            "\n",
            "Test set: Average loss: 0.0262, Accuracy: 9916/10000 (99.16%)\n",
            "\n",
            "EPOCH: 12\n"
          ],
          "name": "stdout"
        },
        {
          "output_type": "stream",
          "text": [
            "Loss=0.013132937252521515 Batch_id=468 Accuracy=99.06: 100%|██████████| 469/469 [00:52<00:00,  8.98it/s]\n",
            "  0%|          | 0/469 [00:00<?, ?it/s]"
          ],
          "name": "stderr"
        },
        {
          "output_type": "stream",
          "text": [
            "\n",
            "Test set: Average loss: 0.0266, Accuracy: 9914/10000 (99.14%)\n",
            "\n",
            "EPOCH: 13\n"
          ],
          "name": "stdout"
        },
        {
          "output_type": "stream",
          "text": [
            "Loss=0.030674897134304047 Batch_id=468 Accuracy=99.00: 100%|██████████| 469/469 [00:52<00:00,  9.01it/s]\n",
            "  0%|          | 0/469 [00:00<?, ?it/s]"
          ],
          "name": "stderr"
        },
        {
          "output_type": "stream",
          "text": [
            "Validation loss has  decreased (0.0231 --> 0.0223).  Saving model ...\n",
            "\n",
            "Test set: Average loss: 0.0223, Accuracy: 9919/10000 (99.19%)\n",
            "\n",
            "EPOCH: 14\n"
          ],
          "name": "stdout"
        },
        {
          "output_type": "stream",
          "text": [
            "Loss=0.08488515764474869 Batch_id=468 Accuracy=99.17: 100%|██████████| 469/469 [00:52<00:00,  9.02it/s]\n",
            "  0%|          | 0/469 [00:00<?, ?it/s]"
          ],
          "name": "stderr"
        },
        {
          "output_type": "stream",
          "text": [
            "\n",
            "Test set: Average loss: 0.0230, Accuracy: 9927/10000 (99.27%)\n",
            "\n",
            "EPOCH: 15\n"
          ],
          "name": "stdout"
        },
        {
          "output_type": "stream",
          "text": [
            "Loss=0.005711791571229696 Batch_id=468 Accuracy=99.09: 100%|██████████| 469/469 [00:53<00:00,  8.80it/s]\n",
            "  0%|          | 0/469 [00:00<?, ?it/s]"
          ],
          "name": "stderr"
        },
        {
          "output_type": "stream",
          "text": [
            "\n",
            "Test set: Average loss: 0.0230, Accuracy: 9928/10000 (99.28%)\n",
            "\n",
            "EPOCH: 16\n"
          ],
          "name": "stdout"
        },
        {
          "output_type": "stream",
          "text": [
            "Loss=0.055147361010313034 Batch_id=468 Accuracy=99.19: 100%|██████████| 469/469 [00:52<00:00,  8.88it/s]\n",
            "  0%|          | 0/469 [00:00<?, ?it/s]"
          ],
          "name": "stderr"
        },
        {
          "output_type": "stream",
          "text": [
            "Validation loss has  decreased (0.0223 --> 0.0213).  Saving model ...\n",
            "\n",
            "Test set: Average loss: 0.0213, Accuracy: 9932/10000 (99.32%)\n",
            "\n",
            "EPOCH: 17\n"
          ],
          "name": "stdout"
        },
        {
          "output_type": "stream",
          "text": [
            "Loss=0.012182033620774746 Batch_id=468 Accuracy=99.19: 100%|██████████| 469/469 [00:52<00:00,  8.92it/s]\n",
            "  0%|          | 0/469 [00:00<?, ?it/s]"
          ],
          "name": "stderr"
        },
        {
          "output_type": "stream",
          "text": [
            "\n",
            "Test set: Average loss: 0.0220, Accuracy: 9925/10000 (99.25%)\n",
            "\n",
            "EPOCH: 18\n"
          ],
          "name": "stdout"
        },
        {
          "output_type": "stream",
          "text": [
            "Loss=0.007915191352367401 Batch_id=468 Accuracy=99.29: 100%|██████████| 469/469 [00:52<00:00,  9.00it/s]\n",
            "  0%|          | 0/469 [00:00<?, ?it/s]"
          ],
          "name": "stderr"
        },
        {
          "output_type": "stream",
          "text": [
            "\n",
            "Test set: Average loss: 0.0216, Accuracy: 9922/10000 (99.22%)\n",
            "\n",
            "EPOCH: 19\n"
          ],
          "name": "stdout"
        },
        {
          "output_type": "stream",
          "text": [
            "Loss=0.006307598669081926 Batch_id=468 Accuracy=99.29: 100%|██████████| 469/469 [00:51<00:00,  9.10it/s]\n",
            "  0%|          | 0/469 [00:00<?, ?it/s]"
          ],
          "name": "stderr"
        },
        {
          "output_type": "stream",
          "text": [
            "Validation loss has  decreased (0.0213 --> 0.0202).  Saving model ...\n",
            "\n",
            "Test set: Average loss: 0.0202, Accuracy: 9932/10000 (99.32%)\n",
            "\n",
            "EPOCH: 20\n"
          ],
          "name": "stdout"
        },
        {
          "output_type": "stream",
          "text": [
            "Loss=0.010446478612720966 Batch_id=468 Accuracy=99.33: 100%|██████████| 469/469 [00:52<00:00,  9.01it/s]\n",
            "  0%|          | 0/469 [00:00<?, ?it/s]"
          ],
          "name": "stderr"
        },
        {
          "output_type": "stream",
          "text": [
            "Validation loss has  decreased (0.0202 --> 0.0150).  Saving model ...\n",
            "\n",
            "Test set: Average loss: 0.0150, Accuracy: 9954/10000 (99.54%)\n",
            "\n",
            "EPOCH: 21\n"
          ],
          "name": "stdout"
        },
        {
          "output_type": "stream",
          "text": [
            "Loss=0.00641232542693615 Batch_id=468 Accuracy=99.39: 100%|██████████| 469/469 [00:51<00:00,  9.11it/s]\n",
            "  0%|          | 0/469 [00:00<?, ?it/s]"
          ],
          "name": "stderr"
        },
        {
          "output_type": "stream",
          "text": [
            "\n",
            "Test set: Average loss: 0.0163, Accuracy: 9946/10000 (99.46%)\n",
            "\n",
            "EPOCH: 22\n"
          ],
          "name": "stdout"
        },
        {
          "output_type": "stream",
          "text": [
            "Loss=0.001462902408093214 Batch_id=468 Accuracy=99.46: 100%|██████████| 469/469 [00:51<00:00,  9.09it/s]\n",
            "  0%|          | 0/469 [00:00<?, ?it/s]"
          ],
          "name": "stderr"
        },
        {
          "output_type": "stream",
          "text": [
            "\n",
            "Test set: Average loss: 0.0169, Accuracy: 9946/10000 (99.46%)\n",
            "\n",
            "EPOCH: 23\n"
          ],
          "name": "stdout"
        },
        {
          "output_type": "stream",
          "text": [
            "Loss=0.009107827208936214 Batch_id=468 Accuracy=99.54: 100%|██████████| 469/469 [00:51<00:00,  9.18it/s]\n",
            "  0%|          | 0/469 [00:00<?, ?it/s]"
          ],
          "name": "stderr"
        },
        {
          "output_type": "stream",
          "text": [
            "\n",
            "Test set: Average loss: 0.0161, Accuracy: 9947/10000 (99.47%)\n",
            "\n",
            "EPOCH: 24\n"
          ],
          "name": "stdout"
        },
        {
          "output_type": "stream",
          "text": [
            "Loss=0.004037111531943083 Batch_id=468 Accuracy=99.57: 100%|██████████| 469/469 [00:51<00:00,  9.19it/s]\n",
            "  0%|          | 0/469 [00:00<?, ?it/s]"
          ],
          "name": "stderr"
        },
        {
          "output_type": "stream",
          "text": [
            "\n",
            "Test set: Average loss: 0.0161, Accuracy: 9949/10000 (99.49%)\n",
            "\n",
            "EPOCH: 25\n"
          ],
          "name": "stdout"
        },
        {
          "output_type": "stream",
          "text": [
            "Loss=0.007873631082475185 Batch_id=468 Accuracy=99.58: 100%|██████████| 469/469 [00:51<00:00,  9.19it/s]\n",
            "  0%|          | 0/469 [00:00<?, ?it/s]"
          ],
          "name": "stderr"
        },
        {
          "output_type": "stream",
          "text": [
            "\n",
            "Test set: Average loss: 0.0159, Accuracy: 9948/10000 (99.48%)\n",
            "\n",
            "with L1 & L2 regularization with BN\n",
            "EPOCH: 1\n"
          ],
          "name": "stdout"
        },
        {
          "output_type": "stream",
          "text": [
            "Loss=0.022707758471369743 Batch_id=468 Accuracy=87.18: 100%|██████████| 469/469 [00:52<00:00,  8.93it/s]\n",
            "  0%|          | 0/469 [00:00<?, ?it/s]"
          ],
          "name": "stderr"
        },
        {
          "output_type": "stream",
          "text": [
            "Validation loss has  decreased (inf --> 0.0632).  Saving model ...\n",
            "\n",
            "Test set: Average loss: 0.0632, Accuracy: 9811/10000 (98.11%)\n",
            "\n",
            "EPOCH: 2\n"
          ],
          "name": "stdout"
        },
        {
          "output_type": "stream",
          "text": [
            "Loss=0.07968302816152573 Batch_id=468 Accuracy=97.66: 100%|██████████| 469/469 [00:53<00:00,  8.79it/s]\n",
            "  0%|          | 0/469 [00:00<?, ?it/s]"
          ],
          "name": "stderr"
        },
        {
          "output_type": "stream",
          "text": [
            "Validation loss has  decreased (0.0632 --> 0.0495).  Saving model ...\n",
            "\n",
            "Test set: Average loss: 0.0495, Accuracy: 9842/10000 (98.42%)\n",
            "\n",
            "EPOCH: 3\n"
          ],
          "name": "stdout"
        },
        {
          "output_type": "stream",
          "text": [
            "Loss=0.03758994862437248 Batch_id=468 Accuracy=98.10: 100%|██████████| 469/469 [00:53<00:00,  8.74it/s]\n",
            "  0%|          | 0/469 [00:00<?, ?it/s]"
          ],
          "name": "stderr"
        },
        {
          "output_type": "stream",
          "text": [
            "Validation loss has  decreased (0.0495 --> 0.0380).  Saving model ...\n",
            "\n",
            "Test set: Average loss: 0.0380, Accuracy: 9878/10000 (98.78%)\n",
            "\n",
            "EPOCH: 4\n"
          ],
          "name": "stdout"
        },
        {
          "output_type": "stream",
          "text": [
            "Loss=0.07455630600452423 Batch_id=468 Accuracy=98.38: 100%|██████████| 469/469 [00:53<00:00,  8.75it/s]\n",
            "  0%|          | 0/469 [00:00<?, ?it/s]"
          ],
          "name": "stderr"
        },
        {
          "output_type": "stream",
          "text": [
            "\n",
            "Test set: Average loss: 0.0440, Accuracy: 9852/10000 (98.52%)\n",
            "\n",
            "EPOCH: 5\n"
          ],
          "name": "stdout"
        },
        {
          "output_type": "stream",
          "text": [
            "Loss=0.03504202887415886 Batch_id=468 Accuracy=98.35: 100%|██████████| 469/469 [00:55<00:00,  8.49it/s]\n",
            "  0%|          | 0/469 [00:00<?, ?it/s]"
          ],
          "name": "stderr"
        },
        {
          "output_type": "stream",
          "text": [
            "\n",
            "Test set: Average loss: 0.0413, Accuracy: 9872/10000 (98.72%)\n",
            "\n",
            "EPOCH: 6\n"
          ],
          "name": "stdout"
        },
        {
          "output_type": "stream",
          "text": [
            "Loss=0.021614860743284225 Batch_id=468 Accuracy=98.62: 100%|██████████| 469/469 [00:56<00:00,  8.36it/s]\n",
            "  0%|          | 0/469 [00:00<?, ?it/s]"
          ],
          "name": "stderr"
        },
        {
          "output_type": "stream",
          "text": [
            "Validation loss has  decreased (0.0380 --> 0.0312).  Saving model ...\n",
            "\n",
            "Test set: Average loss: 0.0312, Accuracy: 9888/10000 (98.88%)\n",
            "\n",
            "EPOCH: 7\n"
          ],
          "name": "stdout"
        },
        {
          "output_type": "stream",
          "text": [
            "Loss=0.03588635474443436 Batch_id=468 Accuracy=98.69: 100%|██████████| 469/469 [00:55<00:00,  8.43it/s]\n",
            "  0%|          | 0/469 [00:00<?, ?it/s]"
          ],
          "name": "stderr"
        },
        {
          "output_type": "stream",
          "text": [
            "Validation loss has  decreased (0.0312 --> 0.0306).  Saving model ...\n",
            "\n",
            "Test set: Average loss: 0.0306, Accuracy: 9910/10000 (99.10%)\n",
            "\n",
            "EPOCH: 8\n"
          ],
          "name": "stdout"
        },
        {
          "output_type": "stream",
          "text": [
            "Loss=0.03171152621507645 Batch_id=468 Accuracy=98.72: 100%|██████████| 469/469 [00:53<00:00,  8.78it/s]\n",
            "  0%|          | 0/469 [00:00<?, ?it/s]"
          ],
          "name": "stderr"
        },
        {
          "output_type": "stream",
          "text": [
            "Validation loss has  decreased (0.0306 --> 0.0271).  Saving model ...\n",
            "\n",
            "Test set: Average loss: 0.0271, Accuracy: 9909/10000 (99.09%)\n",
            "\n",
            "EPOCH: 9\n"
          ],
          "name": "stdout"
        },
        {
          "output_type": "stream",
          "text": [
            "Loss=0.04074520617723465 Batch_id=468 Accuracy=98.84: 100%|██████████| 469/469 [00:53<00:00,  8.76it/s]\n",
            "  0%|          | 0/469 [00:00<?, ?it/s]"
          ],
          "name": "stderr"
        },
        {
          "output_type": "stream",
          "text": [
            "\n",
            "Test set: Average loss: 0.0279, Accuracy: 9909/10000 (99.09%)\n",
            "\n",
            "EPOCH: 10\n"
          ],
          "name": "stdout"
        },
        {
          "output_type": "stream",
          "text": [
            "Loss=0.048973239958286285 Batch_id=468 Accuracy=98.85: 100%|██████████| 469/469 [00:53<00:00,  8.84it/s]\n",
            "  0%|          | 0/469 [00:00<?, ?it/s]"
          ],
          "name": "stderr"
        },
        {
          "output_type": "stream",
          "text": [
            "Validation loss has  decreased (0.0271 --> 0.0264).  Saving model ...\n",
            "\n",
            "Test set: Average loss: 0.0264, Accuracy: 9922/10000 (99.22%)\n",
            "\n",
            "EPOCH: 11\n"
          ],
          "name": "stdout"
        },
        {
          "output_type": "stream",
          "text": [
            "Loss=0.10084357857704163 Batch_id=468 Accuracy=98.92: 100%|██████████| 469/469 [00:53<00:00,  8.84it/s]\n",
            "  0%|          | 0/469 [00:00<?, ?it/s]"
          ],
          "name": "stderr"
        },
        {
          "output_type": "stream",
          "text": [
            "\n",
            "Test set: Average loss: 0.0290, Accuracy: 9903/10000 (99.03%)\n",
            "\n",
            "EPOCH: 12\n"
          ],
          "name": "stdout"
        },
        {
          "output_type": "stream",
          "text": [
            "Loss=0.027557214722037315 Batch_id=468 Accuracy=98.95: 100%|██████████| 469/469 [00:52<00:00,  8.87it/s]\n",
            "  0%|          | 0/469 [00:00<?, ?it/s]"
          ],
          "name": "stderr"
        },
        {
          "output_type": "stream",
          "text": [
            "\n",
            "Test set: Average loss: 0.0271, Accuracy: 9912/10000 (99.12%)\n",
            "\n",
            "EPOCH: 13\n"
          ],
          "name": "stdout"
        },
        {
          "output_type": "stream",
          "text": [
            "Loss=0.04309249296784401 Batch_id=468 Accuracy=99.04: 100%|██████████| 469/469 [00:52<00:00,  8.86it/s]\n",
            "  0%|          | 0/469 [00:00<?, ?it/s]"
          ],
          "name": "stderr"
        },
        {
          "output_type": "stream",
          "text": [
            "\n",
            "Test set: Average loss: 0.0302, Accuracy: 9907/10000 (99.07%)\n",
            "\n",
            "EPOCH: 14\n"
          ],
          "name": "stdout"
        },
        {
          "output_type": "stream",
          "text": [
            "Loss=0.025399520993232727 Batch_id=468 Accuracy=99.02: 100%|██████████| 469/469 [00:52<00:00,  8.87it/s]\n",
            "  0%|          | 0/469 [00:00<?, ?it/s]"
          ],
          "name": "stderr"
        },
        {
          "output_type": "stream",
          "text": [
            "\n",
            "Test set: Average loss: 0.0290, Accuracy: 9908/10000 (99.08%)\n",
            "\n",
            "EPOCH: 15\n"
          ],
          "name": "stdout"
        },
        {
          "output_type": "stream",
          "text": [
            "Loss=0.014540489763021469 Batch_id=468 Accuracy=99.05: 100%|██████████| 469/469 [00:52<00:00,  8.92it/s]\n",
            "  0%|          | 0/469 [00:00<?, ?it/s]"
          ],
          "name": "stderr"
        },
        {
          "output_type": "stream",
          "text": [
            "Validation loss has  decreased (0.0264 --> 0.0241).  Saving model ...\n",
            "\n",
            "Test set: Average loss: 0.0241, Accuracy: 9927/10000 (99.27%)\n",
            "\n",
            "EPOCH: 16\n"
          ],
          "name": "stdout"
        },
        {
          "output_type": "stream",
          "text": [
            "Loss=0.04545487090945244 Batch_id=468 Accuracy=99.10: 100%|██████████| 469/469 [00:55<00:00,  8.46it/s]\n",
            "  0%|          | 0/469 [00:00<?, ?it/s]"
          ],
          "name": "stderr"
        },
        {
          "output_type": "stream",
          "text": [
            "\n",
            "Test set: Average loss: 0.0274, Accuracy: 9915/10000 (99.15%)\n",
            "\n",
            "EPOCH: 17\n"
          ],
          "name": "stdout"
        },
        {
          "output_type": "stream",
          "text": [
            "Loss=0.04418930411338806 Batch_id=468 Accuracy=99.16: 100%|██████████| 469/469 [00:52<00:00,  8.92it/s]\n",
            "  0%|          | 0/469 [00:00<?, ?it/s]"
          ],
          "name": "stderr"
        },
        {
          "output_type": "stream",
          "text": [
            "\n",
            "Test set: Average loss: 0.0241, Accuracy: 9927/10000 (99.27%)\n",
            "\n",
            "EPOCH: 18\n"
          ],
          "name": "stdout"
        },
        {
          "output_type": "stream",
          "text": [
            "Loss=0.03173389285802841 Batch_id=468 Accuracy=99.22: 100%|██████████| 469/469 [00:51<00:00,  9.07it/s]\n",
            "  0%|          | 0/469 [00:00<?, ?it/s]"
          ],
          "name": "stderr"
        },
        {
          "output_type": "stream",
          "text": [
            "Validation loss has  decreased (0.0241 --> 0.0208).  Saving model ...\n",
            "\n",
            "Test set: Average loss: 0.0208, Accuracy: 9941/10000 (99.41%)\n",
            "\n",
            "EPOCH: 19\n"
          ],
          "name": "stdout"
        },
        {
          "output_type": "stream",
          "text": [
            "Loss=0.02304164692759514 Batch_id=468 Accuracy=99.25: 100%|██████████| 469/469 [00:51<00:00,  9.07it/s]\n",
            "  0%|          | 0/469 [00:00<?, ?it/s]"
          ],
          "name": "stderr"
        },
        {
          "output_type": "stream",
          "text": [
            "\n",
            "Test set: Average loss: 0.0222, Accuracy: 9932/10000 (99.32%)\n",
            "\n",
            "EPOCH: 20\n"
          ],
          "name": "stdout"
        },
        {
          "output_type": "stream",
          "text": [
            "Loss=0.028238674625754356 Batch_id=468 Accuracy=99.28: 100%|██████████| 469/469 [00:51<00:00,  9.06it/s]\n",
            "  0%|          | 0/469 [00:00<?, ?it/s]"
          ],
          "name": "stderr"
        },
        {
          "output_type": "stream",
          "text": [
            "\n",
            "Test set: Average loss: 0.0212, Accuracy: 9941/10000 (99.41%)\n",
            "\n",
            "EPOCH: 21\n"
          ],
          "name": "stdout"
        },
        {
          "output_type": "stream",
          "text": [
            "Loss=0.0193658247590065 Batch_id=468 Accuracy=99.42: 100%|██████████| 469/469 [00:51<00:00,  9.07it/s]\n",
            "  0%|          | 0/469 [00:00<?, ?it/s]"
          ],
          "name": "stderr"
        },
        {
          "output_type": "stream",
          "text": [
            "Validation loss has  decreased (0.0208 --> 0.0181).  Saving model ...\n",
            "\n",
            "Test set: Average loss: 0.0181, Accuracy: 9946/10000 (99.46%)\n",
            "\n",
            "EPOCH: 22\n"
          ],
          "name": "stdout"
        },
        {
          "output_type": "stream",
          "text": [
            "Loss=0.09436415880918503 Batch_id=468 Accuracy=99.48: 100%|██████████| 469/469 [00:52<00:00,  8.99it/s]\n",
            "  0%|          | 0/469 [00:00<?, ?it/s]"
          ],
          "name": "stderr"
        },
        {
          "output_type": "stream",
          "text": [
            "\n",
            "Test set: Average loss: 0.0186, Accuracy: 9937/10000 (99.37%)\n",
            "\n",
            "EPOCH: 23\n"
          ],
          "name": "stdout"
        },
        {
          "output_type": "stream",
          "text": [
            "Loss=0.01083974726498127 Batch_id=468 Accuracy=99.52: 100%|██████████| 469/469 [00:51<00:00,  9.09it/s]\n",
            "  0%|          | 0/469 [00:00<?, ?it/s]"
          ],
          "name": "stderr"
        },
        {
          "output_type": "stream",
          "text": [
            "Validation loss has  decreased (0.0181 --> 0.0169).  Saving model ...\n",
            "\n",
            "Test set: Average loss: 0.0169, Accuracy: 9945/10000 (99.45%)\n",
            "\n",
            "EPOCH: 24\n"
          ],
          "name": "stdout"
        },
        {
          "output_type": "stream",
          "text": [
            "Loss=0.015392791479825974 Batch_id=468 Accuracy=99.55: 100%|██████████| 469/469 [00:51<00:00,  9.05it/s]\n",
            "  0%|          | 0/469 [00:00<?, ?it/s]"
          ],
          "name": "stderr"
        },
        {
          "output_type": "stream",
          "text": [
            "Validation loss has  decreased (0.0169 --> 0.0169).  Saving model ...\n",
            "\n",
            "Test set: Average loss: 0.0169, Accuracy: 9946/10000 (99.46%)\n",
            "\n",
            "EPOCH: 25\n"
          ],
          "name": "stdout"
        },
        {
          "output_type": "stream",
          "text": [
            "Loss=0.11771073192358017 Batch_id=468 Accuracy=99.55: 100%|██████████| 469/469 [00:51<00:00,  9.13it/s]\n"
          ],
          "name": "stderr"
        },
        {
          "output_type": "stream",
          "text": [
            "Validation loss has  decreased (0.0169 --> 0.0164).  Saving model ...\n",
            "\n",
            "Test set: Average loss: 0.0164, Accuracy: 9947/10000 (99.47%)\n",
            "\n"
          ],
          "name": "stdout"
        },
        {
          "output_type": "error",
          "ename": "TypeError",
          "evalue": "ignored",
          "traceback": [
            "\u001b[0;31m---------------------------------------------------------------------------\u001b[0m",
            "\u001b[0;31mTypeError\u001b[0m                                 Traceback (most recent call last)",
            "\u001b[0;32m<ipython-input-15-7080d30bfa4d>\u001b[0m in \u001b[0;36m<module>\u001b[0;34m()\u001b[0m\n\u001b[1;32m      1\u001b[0m modelTuple = iter(\n\u001b[1;32m      2\u001b[0m   \u001b[0mwithL2_BN\u001b[0m\u001b[0;34m(\u001b[0m\u001b[0;34m)\u001b[0m\u001b[0;34m,\u001b[0m\u001b[0;34m\u001b[0m\u001b[0;34m\u001b[0m\u001b[0m\n\u001b[0;32m----> 3\u001b[0;31m   withL1_L2_BN())\n\u001b[0m\u001b[1;32m      4\u001b[0m \u001b[0;34m\u001b[0m\u001b[0m\n\u001b[1;32m      5\u001b[0m \u001b[0mprint\u001b[0m\u001b[0;34m(\u001b[0m\u001b[0mmodelTuple\u001b[0m\u001b[0;34m.\u001b[0m\u001b[0m__next__\u001b[0m\u001b[0;34m(\u001b[0m\u001b[0;34m)\u001b[0m\u001b[0;34m)\u001b[0m\u001b[0;34m\u001b[0m\u001b[0;34m\u001b[0m\u001b[0m\n",
            "\u001b[0;31mTypeError\u001b[0m: iter(v, w): v must be callable"
          ]
        }
      ]
    },
    {
      "cell_type": "code",
      "metadata": {
        "id": "T6M0s2Dgzh3D",
        "colab_type": "code",
        "outputId": "6500f617-32e9-46e5-b4d9-95c756c9551a",
        "colab": {
          "base_uri": "https://localhost:8080/",
          "height": 621
        }
      },
      "source": [
        "\n",
        "    # without L1/L2 with BN\n",
        "    # without L1/L2 with GBN\n",
        "    # with L1 with BN\n",
        "    # with L1 with GBN\n",
        "    # with L2 with BN\n",
        "    # with L2 with GBN\n",
        "    # with L1 and L2 with BN\n",
        "    # with L1 and L2 with GBN\n",
        "\n",
        "# Validation Accuracy \n",
        "\n",
        "import matplotlib.pyplot as plt\n",
        "\n",
        "plt.figure(figsize=(15, 10))\n",
        "ax = plt.subplot(111)\n",
        "ax.plot(acc1)\n",
        "ax.plot(acc2)\n",
        "ax.plot(acc3)\n",
        "ax.plot(acc4)\n",
        "ax.set(title=\"Model Validation Accuracy of 4 Models with Batch-Normalization\", xlabel=\"Epoch\", ylabel=\"Accuracy\")\n",
        "ax.legend(['without L1 and L2', 'with L1', 'with L2', 'with L1 and L2'], loc='best')\n",
        "plt.savefig(\"Accuracyof4modelswithBN.png\")\n",
        "plt.show()\n",
        "\n"
      ],
      "execution_count": 16,
      "outputs": [
        {
          "output_type": "display_data",
          "data": {
            "image/png": "[encoded data removed]",
            "text/plain": [
              "<Figure size 1080x720 with 1 Axes>"
            ]
          },
          "metadata": {
            "tags": [],
            "needs_background": "light"
          }
        }
      ]
    },
    {
      "cell_type": "code",
      "metadata": {
        "id": "QMKKmrj3i7Rp",
        "colab_type": "code",
        "colab": {
          "base_uri": "https://localhost:8080/",
          "height": 621
        },
        "outputId": "bfe897b0-7bf6-492f-8a7f-4bee22bee35e"
      },
      "source": [
        "# Validation Loss \n",
        "plt.figure(figsize = (15,10))\n",
        "ax = plt.subplot(111)\n",
        "ax.plot(loss1)\n",
        "ax.plot(loss2)\n",
        "ax.plot(loss3)\n",
        "ax.plot(loss4)\n",
        "ax.set(title='Validation Losses of 4 Models', xlabel='Epoch', ylabel = 'Loss')\n",
        "ax.legend(['without L1 & L2', 'with L1', 'with L2', 'with L1 & L2'], loc = 'best')\n",
        "plt.savefig('ValidationLossesBN.png')\n",
        "plt.show()\n"
      ],
      "execution_count": 17,
      "outputs": [
        {
          "output_type": "display_data",
          "data": {
            "image/png": "[encoded data removed]",
            "text/plain": [
              "<Figure size 1080x720 with 1 Axes>"
            ]
          },
          "metadata": {
            "tags": [],
            "needs_background": "light"
          }
        }
      ]
    },
    {
      "cell_type": "code",
      "metadata": {
        "id": "OICF0DG90i_9",
        "colab_type": "code",
        "colab": {}
      },
      "source": [
        "# Misclassified Images\n",
        "def misclassifiedOnes(model, filename):\n",
        "  model = model.to(device)\n",
        "  dataiter = iter(test_loader) \n",
        "  count = 0\n",
        "  fig = plt.figure(figsize=(13,13))\n",
        "\n",
        "  while count<25:\n",
        "      images, labels = dataiter.next()\n",
        "      images, labels = images.to(device), labels.to(device)\n",
        "    \n",
        "      output = model(images) \n",
        "      _, pred = torch.max(output, 1)   # convert output probabilities to predicted class\n",
        "      images = images.cpu().numpy() # conv images to numpy format\n",
        "\n",
        "      for idx in np.arange(128):\n",
        "        if pred[idx]!=labels[idx]:\n",
        "          ax = fig.add_subplot(5, 5, count+1, xticks=[], yticks=[])\n",
        "          count=count+1\n",
        "          ax.imshow(np.squeeze(images[idx]), cmap='cool')\n",
        "          ax.set_title(\"Pred-{} (Target-{})\".format(str(pred[idx].item()), str(labels[idx].item())), color=\"yellow\")\n",
        "          if count==25:\n",
        "            break\n",
        "      plt.savefig(filename)\n",
        "   \n"
      ],
      "execution_count": 0,
      "outputs": []
    },
    {
      "cell_type": "code",
      "metadata": {
        "id": "7zP4BLLX9pvj",
        "colab_type": "code",
        "outputId": "deb7a034-219a-438b-fb6a-e0030ea13bf3",
        "colab": {
          "base_uri": "https://localhost:8080/",
          "height": 790
        }
      },
      "source": [
        "print('Misclassifed Images from Model1')\n",
        "print('*'*30)\n",
        "\n",
        "model.load_state_dict(torch.load(\"model1.pt\")) \n",
        "misclassifiedOnes(model,'withoutL1_L2_BN.png')"
      ],
      "execution_count": 19,
      "outputs": [
        {
          "output_type": "stream",
          "text": [
            "Misclassifed Images from Model1\n",
            "******************************\n"
          ],
          "name": "stdout"
        },
        {
          "output_type": "display_data",
          "data": {
            "image/png": "[encoded data removed]",
            "text/plain": [
              "<Figure size 936x936 with 25 Axes>"
            ]
          },
          "metadata": {
            "tags": []
          }
        }
      ]
    },
    {
      "cell_type": "code",
      "metadata": {
        "id": "7cKehoUB9oiM",
        "colab_type": "code",
        "outputId": "1e914aff-c7c1-4e11-cb1d-7a1878c7675e",
        "colab": {
          "base_uri": "https://localhost:8080/",
          "height": 790
        }
      },
      "source": [
        "print('Misclassifed Images from Model2')\n",
        "print('*'*30)\n",
        "\n",
        "model.load_state_dict(torch.load(\"model2.pt\")) \n",
        "misclassifiedOnes(model,'withL1_BN.png')"
      ],
      "execution_count": 20,
      "outputs": [
        {
          "output_type": "stream",
          "text": [
            "Misclassifed Images from Model2\n",
            "******************************\n"
          ],
          "name": "stdout"
        },
        {
          "output_type": "display_data",
          "data": {
            "image/png": "[encoded data removed]",
            "text/plain": [
              "<Figure size 936x936 with 25 Axes>"
            ]
          },
          "metadata": {
            "tags": []
          }
        }
      ]
    },
    {
      "cell_type": "code",
      "metadata": {
        "id": "Lv6-KKco-EX2",
        "colab_type": "code",
        "outputId": "f64f359c-4143-45d4-85c5-33a77cab4b54",
        "colab": {
          "base_uri": "https://localhost:8080/",
          "height": 790
        }
      },
      "source": [
        "print('Misclassifed Images from Model3')\n",
        "print('*'*30)\n",
        "model.load_state_dict(torch.load(\"model3.pt\")) \n",
        "misclassifiedOnes(model,'withL2_BN.png')"
      ],
      "execution_count": 21,
      "outputs": [
        {
          "output_type": "stream",
          "text": [
            "Misclassifed Images from Model3\n",
            "******************************\n"
          ],
          "name": "stdout"
        },
        {
          "output_type": "display_data",
          "data": {
            "image/png": "[encoded data removed]",
            "text/plain": [
              "<Figure size 936x936 with 25 Axes>"
            ]
          },
          "metadata": {
            "tags": []
          }
        }
      ]
    },
    {
      "cell_type": "code",
      "metadata": {
        "id": "oP7SN2Vo-FYm",
        "colab_type": "code",
        "outputId": "4eedcbc7-4a83-475b-c858-3342de4f67bb",
        "colab": {
          "base_uri": "https://localhost:8080/",
          "height": 790
        }
      },
      "source": [
        "print('Misclassifed Images from Model4')\n",
        "print('*'*30)\n",
        "\n",
        "model.load_state_dict(torch.load(\"model4.pt\")) \n",
        "misclassifiedOnes(model,'withL1_L2_BN.png')"
      ],
      "execution_count": 22,
      "outputs": [
        {
          "output_type": "stream",
          "text": [
            "Misclassifed Images from Model4\n",
            "******************************\n"
          ],
          "name": "stdout"
        },
        {
          "output_type": "display_data",
          "data": {
            "image/png": "[encoded data removed]",
            "text/plain": [
              "<Figure size 936x936 with 25 Axes>"
            ]
          },
          "metadata": {
            "tags": []
          }
        }
      ]
    },
    {
      "cell_type": "code",
      "metadata": {
        "id": "CIMgvaywlFMj",
        "colab_type": "code",
        "colab": {}
      },
      "source": [
        "# DataLoaders\n",
        "\n",
        "class Dataloader:\n",
        "  def __init__(self, shuffle = True, batch_size = 64):\n",
        "      cuda = torch.cuda.is_available()\n",
        "      if cuda:\n",
        "        torch.cuda.manual_seed(seed)\n",
        "      self.dataloader_args = dict(shuffle=shuffle, batch_size=batch_size, num_workers=4, pin_memory=True) #if cuda else dict(shuffle=True, batch_size=64)\n",
        "\n",
        "  def dataset_loader(self, data):\n",
        "      return torch.utils.data.DataLoader(data, **self.dataloader_args) # **dataloader_args get passed when dataset_loader gets called\n",
        "\n",
        "\n",
        "dl = Dataloader()\n",
        "\n",
        "# train dataloader\n",
        "train_loader = dl.dataset_loader(train)\n",
        "\n",
        "# test dataloader\n",
        "test_loader = dl.dataset_loader(test)"
      ],
      "execution_count": 0,
      "outputs": []
    },
    {
      "cell_type": "code",
      "metadata": {
        "id": "YFeJZGTRFq8Y",
        "colab_type": "code",
        "colab": {}
      },
      "source": [
        "# Main Model with Ghost Batch Normalization\n",
        "class Net(nn.Module):\n",
        "    def __init__(self):\n",
        "      super(Net, self).__init__()\n",
        "\n",
        "      # Conv Block1 \n",
        "      self.convblock1 = nn.Sequential(\n",
        "          nn.Conv2d(in_channels = 1, out_channels = 8, kernel_size = (3,3), padding = 0, bias = False), \n",
        "          nn.ReLU(),\n",
        "          GhostBatchNorm(8,2)) # O/P: 26\n",
        "      \n",
        "      # Conv Block2\n",
        "      self.convblock2 = nn.Sequential(\n",
        "          nn.Conv2d(in_channels = 8, out_channels = 10, kernel_size = (3,3), padding = 0, bias = False),\n",
        "          nn.ReLU(),\n",
        "          GhostBatchNorm(10,2)) # O/P: 24\n",
        "\n",
        "      # MaxPool Layer\n",
        "      self.maxpool = nn.Sequential(nn.MaxPool2d((2,2))) # O/P: 12\n",
        "\n",
        "      # ConvBlock 3\n",
        "      self.convblock3 = nn.Sequential(\n",
        "          nn.Conv2d(in_channels = 10, out_channels = 16, kernel_size = (3,3), padding = 0, bias = False),\n",
        "          nn.ReLU(),\n",
        "          GhostBatchNorm(16,2)) # O/P: 10\n",
        "      \n",
        "      \n",
        "      # ConvBlock 4\n",
        "      self.convblock4 = nn.Sequential(\n",
        "          nn.Conv2d(in_channels = 16, out_channels = 16, kernel_size = (3,3), padding = 0, bias = False),\n",
        "          nn.ReLU(),\n",
        "          GhostBatchNorm(16,2)) # O/P: 8\n",
        "      \n",
        "      # ConvBlock 5\n",
        "      self.convblock5 = nn.Sequential(\n",
        "          nn.Conv2d(in_channels = 16, out_channels = 16, kernel_size = (3,3), padding = 0, bias = False),\n",
        "          nn.ReLU(),\n",
        "          GhostBatchNorm(16,2)) # O/P: 6\n",
        "\n",
        "      # ConvBlock 6\n",
        "      self.convblock6 = nn.Sequential(\n",
        "          nn.Conv2d(in_channels = 16, out_channels = 16, kernel_size = (3,3), padding = 0,  bias = False))\n",
        "          # nn.ReLU(),\n",
        "          # nn.BatchNorm2d(16)) # O/P: 4\n",
        "\n",
        "\n",
        "    # # ConvBlock 7\n",
        "    #   self.convblock7 = nn.Sequential(\n",
        "    #       nn.Conv2d(in_channels = 16, out_channels = 16, kernel_size = (3,3), padding = 0, bias = False))\n",
        "          # nn.ReLU(),\n",
        "          # nn.BatchNorm2d(16)) # O/P: 4\n",
        "\n",
        "\n",
        "    # # ConvBlock 8\n",
        "    #   self.convblock8 = nn.Sequential(\n",
        "    #       nn.Conv2d(in_channels = 16, out_channels = 16, kernel_size = (3,3), padding = 0, bias = False),\n",
        "    #       nn.ReLU(),\n",
        "    #       nn.BatchNorm2d(16)) # O/P: 6\n",
        "    \n",
        "\n",
        "    # GAP\n",
        "      self.gap = nn.Sequential(nn.AvgPool2d(4))\n",
        "\n",
        "    \n",
        "    # Last Layer\n",
        "      self.convblock9 = nn.Sequential(\n",
        "          nn.Conv2d(in_channels = 16, out_channels = 10, kernel_size = (1,1), padding = 0, bias = False))\n",
        "\n",
        "\n",
        "    # Dropout Layer\n",
        "      self.drop = nn.Sequential(nn.Dropout(0.08))\n",
        "\n",
        "\n",
        "\n",
        "    def forward(self,x):\n",
        "      x = self.convblock1(x)\n",
        "      x = self.drop(x)\n",
        "      x = self.convblock2(x)\n",
        "      x = self.drop(x)\n",
        "      x = self.maxpool(x)\n",
        "      x = self.convblock3(x)\n",
        "      x = self.drop(x)\n",
        "      x = self.convblock4(x)\n",
        "      x = self.drop(x)\n",
        "      x = self.convblock5(x)\n",
        "      # x = self.drop(x)\n",
        "      x = self.convblock6(x)\n",
        "      # x = self.drop(x)\n",
        "      # x = self.convblock7(x)\n",
        "      # x = self.convblock8(x)\n",
        "      x = self.gap(x)\n",
        "      x = self.convblock9(x)\n",
        "     \n",
        "      x = x.view(-1, 10)\n",
        "      return F.log_softmax(x, dim = -1)\n",
        "      \n",
        "\n",
        "\n",
        "# Ghost Batch Normalization\n",
        "\n",
        "\n",
        "class BatchNorm(nn.BatchNorm2d):\n",
        "    def __init__(self, num_features, eps=1e-05, momentum=0.1, weight=True, bias=True):\n",
        "        super().__init__(num_features, eps=eps, momentum=momentum)\n",
        "        self.weight.data.fill_(1.0) # fill_() helps you filling up the tensor with a particular data\n",
        "        self.bias.data.fill_(0.0)\n",
        "        self.weight.requires_grad = weight\n",
        "        self.bias.requires_grad = bias\n",
        "\n",
        "\n",
        "class GhostBatchNorm(BatchNorm):\n",
        "    def __init__(self, num_features, num_splits, **kw):\n",
        "        super().__init__(num_features, **kw)\n",
        "        self.num_splits = num_splits\n",
        "        self.register_buffer('running_mean', torch.zeros(num_features * self.num_splits))\n",
        "        self.register_buffer('running_var', torch.ones(num_features * self.num_splits))\n",
        "\n",
        "    def train(self, mode=True):\n",
        "        if (self.training is True) and (mode is False):  # lazily collate stats when we are going to use them\n",
        "            self.running_mean = torch.mean(self.running_mean.view(self.num_splits, self.num_features), dim=0).repeat(\n",
        "                self.num_splits)\n",
        "            self.running_var = torch.mean(self.running_var.view(self.num_splits, self.num_features), dim=0).repeat(\n",
        "                self.num_splits)\n",
        "        return super().train(mode)\n",
        "\n",
        "    def forward(self, input):\n",
        "        N, C, H, W = input.shape\n",
        "        if self.training or not self.track_running_stats:\n",
        "            return F.batch_norm(\n",
        "                input.view(-1, C * self.num_splits, H, W), self.running_mean, self.running_var,\n",
        "                self.weight.repeat(self.num_splits), self.bias.repeat(self.num_splits),\n",
        "                True, self.momentum, self.eps).view(N, C, H, W)\n",
        "        else:\n",
        "            return F.batch_norm(\n",
        "                input, self.running_mean[:self.num_features], self.running_var[:self.num_features],\n",
        "                self.weight, self.bias, False, self.momentum, self.eps)\n",
        "\n",
        "\n"
      ],
      "execution_count": 0,
      "outputs": []
    },
    {
      "cell_type": "code",
      "metadata": {
        "id": "0qfJkTHtF0Kk",
        "colab_type": "code",
        "outputId": "b3904f38-e3f1-4ac9-f3e3-36e6fe73d577",
        "colab": {
          "base_uri": "https://localhost:8080/",
          "height": 638
        }
      },
      "source": [
        "# GBN Model Summary \n",
        "!pip install torchsummary\n",
        "from torchsummary import summary\n",
        "use_cuda = torch.cuda.is_available()\n",
        "device = torch.device(\"cuda\" if use_cuda else \"cpu\")\n",
        "modelGBN = Net().to(device)\n",
        "summary(modelGBN, input_size=(1, 28, 28))"
      ],
      "execution_count": 50,
      "outputs": [
        {
          "output_type": "stream",
          "text": [
            "Requirement already satisfied: torchsummary in /usr/local/lib/python3.6/dist-packages (1.5.1)\n",
            "----------------------------------------------------------------\n",
            "        Layer (type)               Output Shape         Param #\n",
            "================================================================\n",
            "            Conv2d-1            [-1, 8, 26, 26]              72\n",
            "              ReLU-2            [-1, 8, 26, 26]               0\n",
            "    GhostBatchNorm-3            [-1, 8, 26, 26]              16\n",
            "           Dropout-4            [-1, 8, 26, 26]               0\n",
            "            Conv2d-5           [-1, 10, 24, 24]             720\n",
            "              ReLU-6           [-1, 10, 24, 24]               0\n",
            "    GhostBatchNorm-7           [-1, 10, 24, 24]              20\n",
            "           Dropout-8           [-1, 10, 24, 24]               0\n",
            "         MaxPool2d-9           [-1, 10, 12, 12]               0\n",
            "           Conv2d-10           [-1, 16, 10, 10]           1,440\n",
            "             ReLU-11           [-1, 16, 10, 10]               0\n",
            "   GhostBatchNorm-12           [-1, 16, 10, 10]              32\n",
            "          Dropout-13           [-1, 16, 10, 10]               0\n",
            "           Conv2d-14             [-1, 16, 8, 8]           2,304\n",
            "             ReLU-15             [-1, 16, 8, 8]               0\n",
            "   GhostBatchNorm-16             [-1, 16, 8, 8]              32\n",
            "          Dropout-17             [-1, 16, 8, 8]               0\n",
            "           Conv2d-18             [-1, 16, 6, 6]           2,304\n",
            "             ReLU-19             [-1, 16, 6, 6]               0\n",
            "   GhostBatchNorm-20             [-1, 16, 6, 6]              32\n",
            "           Conv2d-21             [-1, 16, 4, 4]           2,304\n",
            "        AvgPool2d-22             [-1, 16, 1, 1]               0\n",
            "           Conv2d-23             [-1, 10, 1, 1]             160\n",
            "================================================================\n",
            "Total params: 9,436\n",
            "Trainable params: 9,436\n",
            "Non-trainable params: 0\n",
            "----------------------------------------------------------------\n",
            "Input size (MB): 0.00\n",
            "Forward/backward pass size (MB): 0.45\n",
            "Params size (MB): 0.04\n",
            "Estimated Total Size (MB): 0.49\n",
            "----------------------------------------------------------------\n"
          ],
          "name": "stdout"
        }
      ]
    },
    {
      "cell_type": "code",
      "metadata": {
        "id": "sWFXRrRbLYHj",
        "colab_type": "code",
        "colab": {}
      },
      "source": [
        "from tqdm import tqdm\n",
        "import numpy as np\n",
        "\n",
        "class Test_Train():\n",
        "  def __init__(self):\n",
        "\n",
        "# # This is to hold all the values and plot some graphs to extract few good insights.\n",
        "    self.train_losses = []\n",
        "    self.test_losses = []\n",
        "    self.train_acc = []\n",
        "    self.test_acc = []\n",
        "    self.train_epoch_end = []\n",
        "    self.test_loss_min = np.inf # setting it to infinity(max value)\n",
        "    # when the test loss becomes min I will save the particular model\n",
        "\n",
        "\n",
        "  def train(self, model, device, train_loader, optimizer, epoch,scheduler, L1lambda=None, L2lambda=None):\n",
        "    modelGBN.train()    # prepare model for training\n",
        "    pbar = tqdm(train_loader)\n",
        "    correct = 0\n",
        "    processed = 0\n",
        "    for batch_idx, (data, target) in enumerate(pbar): # passing on data & target values to device\n",
        "      data, target = data.to(device), target.to(device)\n",
        "      optimizer.zero_grad()    # clear the gradients of all optimized variables\n",
        "      \n",
        "      # Predict\n",
        "      y_pred = modelGBN(data)   # forward pass\n",
        "\n",
        "      # Calculate loss\n",
        "      loss = F.nll_loss(y_pred, target)\n",
        "\n",
        "      #Implementing L1 Regularization\n",
        "      if L1lambda:\n",
        "        with torch.enable_grad():\n",
        "          l1_loss = 0.\n",
        "          for param in model.parameters():\n",
        "            l1_loss += torch.sum(param.abs())\n",
        "          loss += L1lambda * l1_loss\n",
        "\n",
        "\n",
        "      # Implementing l2 Regularization\n",
        "      if L2lambda:\n",
        "        with torch.enable_grad():\n",
        "          l2_loss = 0\n",
        "          for name, param in model.named_parameters():\n",
        "              l2_loss = l2_loss + (0.5 * l2_loss * torch.sum(torch.pow(W, 2)))\n",
        "          loss = loss + L2Lambda * l2_loss\n",
        "\n",
        "\n",
        "      self.train_losses.append(loss)\n",
        "\n",
        "      # Backpropagation\n",
        "      loss.backward()   # backward pass: compute gradient of the loss with respect to model parameters\n",
        "      optimizer.step()   # perform a single optimization step (parameter update)\n",
        "\n",
        "      # Update pbar-tqdm\n",
        "    \n",
        "      pred = y_pred.argmax(dim=1, keepdim=True)  # get the index of the max log-probability\n",
        "      correct += pred.eq(target.view_as(pred)).sum().item()\n",
        "      processed += len(data)\n",
        "\n",
        "      pbar.set_description(desc= f'Loss={loss.item()} Batch_id={batch_idx} Accuracy={100*correct/processed:0.2f}')\n",
        "      self.train_acc.append(100*correct/processed)\n",
        "      scheduler.step()\n",
        "      self.train_epoch_end.append(self.train_acc[-1])\n",
        "\n",
        "\n",
        "  def test(self, model, device, test_loader,filename):\n",
        "      modelGBN.eval()  # prep model for evaluation\n",
        "      test_loss = 0\n",
        "      correct = 0\n",
        "      with torch.no_grad():\n",
        "          for data, target in test_loader:\n",
        "            data, target = data.to(device), target.to(device)\n",
        "            output = model(data)  # forward pass: compute predicted outputs by passing inputs to the model\n",
        "            test_loss += F.nll_loss(output, target, reduction='sum').item()  # sum up batch loss\n",
        "            pred = output.argmax(dim=1, keepdim=True)  # get the index of the max log-probability\n",
        "            correct += pred.eq(target.view_as(pred)).sum().item()\n",
        "\n",
        "      test_loss /= len(test_loader.dataset)\n",
        "      self.test_losses.append(test_loss)\n",
        "\n",
        "      print('\\nTest set: Average loss: {:.4f}, Accuracy: {}/{} ({:.2f}%)\\n'.format(\n",
        "          test_loss, correct, len(test_loader.dataset),\n",
        "          100. * correct / len(test_loader.dataset)))\n",
        "    \n",
        "      self.test_acc.append(100. * correct / len(test_loader.dataset))\n",
        "\n",
        "    # save model if validation loss has decreased\n",
        "      if test_loss <= self.test_loss_min:\n",
        "          print('Validation loss has  decreased ({:.4f} --> {:.4f}).  Saving model ...'.format(self.test_loss_min, test_loss))\n",
        "          torch.save(model.state_dict(), filename)\n",
        "      self.valid_loss_min = test_loss"
      ],
      "execution_count": 0,
      "outputs": []
    },
    {
      "cell_type": "markdown",
      "metadata": {
        "id": "85ojekZt5cCo",
        "colab_type": "text"
      },
      "source": [
        "Model 5"
      ]
    },
    {
      "cell_type": "code",
      "metadata": {
        "id": "Lg-dCyNNtuYP",
        "colab_type": "code",
        "colab": {}
      },
      "source": [
        "# Model 5\n",
        "\n",
        "def withoutL1_L2_GBN():\n",
        "  model =  Net().to(device)\n",
        "  optimizer = optim.SGD(model.parameters(), lr=0.01, momentum=0.9)\n",
        "  #scheduler = StepLR(optimizer, step_size=5, gamma=0.5)\n",
        "  scheduler = torch.optim.lr_scheduler.OneCycleLR(optimizer, max_lr=0.1, steps_per_epoch=len(train_loader), epochs=25)\n",
        "\n",
        "#first model\n",
        "  print('without L1 and L2 regularization with GBN')\n",
        "#without L1 and L2 regularization with GBN\n",
        "\n",
        "  model5= Test_Train()\n",
        "  global loss5\n",
        "  global acc5\n",
        "  loss5 = model5.test_losses\n",
        "  acc5 = model5.test_acc\n",
        "\n",
        "  EPOCHS = 25  \n",
        "  for epoch in range(1,EPOCHS+1):\n",
        "      print(\"EPOCH:\", epoch)\n",
        "      model5.train(model, device, train_loader, optimizer, epoch, scheduler)\n",
        "      model5.test(model, device, test_loader,\"model5.pt\")\n",
        "\n"
      ],
      "execution_count": 0,
      "outputs": []
    },
    {
      "cell_type": "markdown",
      "metadata": {
        "id": "HBxxDqW35fCP",
        "colab_type": "text"
      },
      "source": [
        "Model 6"
      ]
    },
    {
      "cell_type": "code",
      "metadata": {
        "id": "tS3vjGdpt0Az",
        "colab_type": "code",
        "colab": {}
      },
      "source": [
        "# Model 6\n",
        "from torch.optim.lr_scheduler import OneCycleLR\n",
        "\n",
        "def withL1_GBN():\n",
        "  model =  Net().to(device)\n",
        "# scheduler = StepLR(optimizer, step_size=5, gamma=0.5)\n",
        "  optimizer = optim.SGD(model.parameters(), lr=0.01, momentum=0.9)\n",
        "  scheduler = torch.optim.lr_scheduler.OneCycleLR(optimizer, max_lr=0.1, steps_per_epoch=len(train_loader), epochs=25)\n",
        "\n",
        "#sixth model\n",
        "  print('with L1 regularization with GBN')\n",
        "#with L1 regularization with BN\n",
        "  model6 = Test_Train()\n",
        "  global loss6\n",
        "  global acc6\n",
        "  loss6 = model6.test_losses\n",
        "  acc6 = model6.test_acc\n",
        "\n",
        "  EPOCHS = 25\n",
        "  for epoch in range(1,EPOCHS+1):\n",
        "      print(\"EPOCH:\", epoch)\n",
        "      model6.train(model, device, train_loader, optimizer, epoch, scheduler, L1lambda = 1e-5)\n",
        "      model6.test(model, device, test_loader,\"model6.pt\")"
      ],
      "execution_count": 0,
      "outputs": []
    },
    {
      "cell_type": "markdown",
      "metadata": {
        "id": "4WorTZzJ5tWS",
        "colab_type": "text"
      },
      "source": [
        "Model 7"
      ]
    },
    {
      "cell_type": "code",
      "metadata": {
        "id": "KdXJFlOqt5KS",
        "colab_type": "code",
        "colab": {}
      },
      "source": [
        "#from torch.optim.lr_scheduler import StepLR\n",
        "\n",
        "from torch.optim.lr_scheduler import OneCycleLR\n",
        "\n",
        "def withL2_GBN():\n",
        "  model =  Net().to(device)\n",
        "  optimizer = optim.SGD(model.parameters(), lr=0.01, momentum=0.9,weight_decay=1e-4)\n",
        "#scheduler = StepLR(optimizer, step_size=5, gamma=0.5)\n",
        "  scheduler = torch.optim.lr_scheduler.OneCycleLR(optimizer, max_lr=0.1, steps_per_epoch=len(train_loader), epochs=25)\n",
        "\n",
        "#seventh model\n",
        "  print('with L2 regularization with GBN')\n",
        "#with L2 regularization \n",
        "  model7 = Test_Train()\n",
        "  global loss7\n",
        "  global acc7\n",
        "  loss7 = model7.test_losses\n",
        "  acc7 = model7.test_acc\n",
        "\n",
        "  EPOCHS = 25\n",
        "  for epoch in range(1,EPOCHS+1):\n",
        "      print(\"EPOCH:\", epoch)\n",
        "      model7.train(model, device, train_loader, optimizer, epoch, scheduler)\n",
        "      model7.test(model, device, test_loader,\"model7.pt\")"
      ],
      "execution_count": 0,
      "outputs": []
    },
    {
      "cell_type": "markdown",
      "metadata": {
        "id": "eFI0xoW55lbo",
        "colab_type": "text"
      },
      "source": [
        "Model 8"
      ]
    },
    {
      "cell_type": "code",
      "metadata": {
        "id": "8-n0QJk7usul",
        "colab_type": "code",
        "colab": {}
      },
      "source": [
        "\n",
        "\n",
        "def withL1_L2_GBN():\n",
        "  model =  Net().to(device)\n",
        "  optimizer = optim.SGD(model.parameters(), lr=0.01, momentum=0.9,weight_decay=1e-4)\n",
        "# scheduler = StepLR(optimizer, step_size=5, gamma=0.5)\n",
        "  scheduler = torch.optim.lr_scheduler.OneCycleLR(optimizer, max_lr=0.1, steps_per_epoch=len(train_loader), epochs=25)\n",
        "\n",
        "#eighth  model\n",
        "  print('with L1 & L2 regularization with GBN')\n",
        "#with both L1 & L2 regularization with BN\n",
        "  model8 = Test_Train()\n",
        "  global loss8\n",
        "  global acc8\n",
        "  loss8 = model8.test_losses\n",
        "  acc8 = model8.test_acc\n",
        "\n",
        "  EPOCHS = 25\n",
        "  for epoch in range(1,EPOCHS+1):\n",
        "      print(\"EPOCH:\", epoch)\n",
        "      model8.train(model, device, train_loader, optimizer, epoch, scheduler, L1lambda = 1e-5)\n",
        "      model8.test(model, device, test_loader,\"model8.pt\")"
      ],
      "execution_count": 0,
      "outputs": []
    },
    {
      "cell_type": "code",
      "metadata": {
        "id": "lC7VFe3zvEBY",
        "colab_type": "code",
        "outputId": "174608d4-bcdd-406b-db5c-c3d88fc4a927",
        "colab": {
          "base_uri": "https://localhost:8080/",
          "height": 1000
        }
      },
      "source": [
        "modelTuple = iter(withoutL1_L2_GBN(),\n",
        "  withL1_GBN())\n",
        "\n",
        "print(modelTuple.__next__())"
      ],
      "execution_count": 58,
      "outputs": [
        {
          "output_type": "stream",
          "text": [
            "\r  0%|          | 0/938 [00:00<?, ?it/s]"
          ],
          "name": "stderr"
        },
        {
          "output_type": "stream",
          "text": [
            "without L1 and L2 regularization with GBN\n",
            "EPOCH: 1\n"
          ],
          "name": "stdout"
        },
        {
          "output_type": "stream",
          "text": [
            "Loss=2.300203800201416 Batch_id=937 Accuracy=8.49: 100%|██████████| 938/938 [01:00<00:00, 15.59it/s]\n",
            "  0%|          | 0/938 [00:00<?, ?it/s]"
          ],
          "name": "stderr"
        },
        {
          "output_type": "stream",
          "text": [
            "\n",
            "Test set: Average loss: 2.3080, Accuracy: 788/10000 (7.88%)\n",
            "\n",
            "Validation loss has  decreased (inf --> 2.3080).  Saving model ...\n",
            "EPOCH: 2\n"
          ],
          "name": "stdout"
        },
        {
          "output_type": "stream",
          "text": [
            "Loss=2.3132433891296387 Batch_id=937 Accuracy=8.35: 100%|██████████| 938/938 [01:02<00:00, 15.02it/s]\n",
            "  0%|          | 0/938 [00:00<?, ?it/s]"
          ],
          "name": "stderr"
        },
        {
          "output_type": "stream",
          "text": [
            "\n",
            "Test set: Average loss: 2.3076, Accuracy: 798/10000 (7.98%)\n",
            "\n",
            "Validation loss has  decreased (inf --> 2.3076).  Saving model ...\n",
            "EPOCH: 3\n"
          ],
          "name": "stdout"
        },
        {
          "output_type": "stream",
          "text": [
            "Loss=2.288466691970825 Batch_id=937 Accuracy=8.39: 100%|██████████| 938/938 [01:00<00:00, 15.54it/s]\n",
            "  0%|          | 0/938 [00:00<?, ?it/s]"
          ],
          "name": "stderr"
        },
        {
          "output_type": "stream",
          "text": [
            "\n",
            "Test set: Average loss: 2.3074, Accuracy: 795/10000 (7.95%)\n",
            "\n",
            "Validation loss has  decreased (inf --> 2.3074).  Saving model ...\n",
            "EPOCH: 4\n"
          ],
          "name": "stdout"
        },
        {
          "output_type": "stream",
          "text": [
            "Loss=2.3181402683258057 Batch_id=937 Accuracy=8.55: 100%|██████████| 938/938 [01:00<00:00, 15.63it/s]\n",
            "  0%|          | 0/938 [00:00<?, ?it/s]"
          ],
          "name": "stderr"
        },
        {
          "output_type": "stream",
          "text": [
            "\n",
            "Test set: Average loss: 2.3075, Accuracy: 800/10000 (8.00%)\n",
            "\n",
            "Validation loss has  decreased (inf --> 2.3075).  Saving model ...\n",
            "EPOCH: 5\n"
          ],
          "name": "stdout"
        },
        {
          "output_type": "stream",
          "text": [
            "Loss=2.301658868789673 Batch_id=937 Accuracy=8.31: 100%|██████████| 938/938 [01:00<00:00, 15.60it/s]\n",
            "  0%|          | 0/938 [00:00<?, ?it/s]"
          ],
          "name": "stderr"
        },
        {
          "output_type": "stream",
          "text": [
            "\n",
            "Test set: Average loss: 2.3087, Accuracy: 772/10000 (7.72%)\n",
            "\n",
            "Validation loss has  decreased (inf --> 2.3087).  Saving model ...\n",
            "EPOCH: 6\n"
          ],
          "name": "stdout"
        },
        {
          "output_type": "stream",
          "text": [
            "Loss=2.299327850341797 Batch_id=937 Accuracy=8.23: 100%|██████████| 938/938 [00:59<00:00, 15.71it/s]\n",
            "  0%|          | 0/938 [00:00<?, ?it/s]"
          ],
          "name": "stderr"
        },
        {
          "output_type": "stream",
          "text": [
            "\n",
            "Test set: Average loss: 2.3077, Accuracy: 807/10000 (8.07%)\n",
            "\n",
            "Validation loss has  decreased (inf --> 2.3077).  Saving model ...\n",
            "EPOCH: 7\n"
          ],
          "name": "stdout"
        },
        {
          "output_type": "stream",
          "text": [
            "Loss=2.2971584796905518 Batch_id=937 Accuracy=8.35: 100%|██████████| 938/938 [00:59<00:00, 15.72it/s]\n",
            "  0%|          | 0/938 [00:00<?, ?it/s]"
          ],
          "name": "stderr"
        },
        {
          "output_type": "stream",
          "text": [
            "\n",
            "Test set: Average loss: 2.3078, Accuracy: 755/10000 (7.55%)\n",
            "\n",
            "Validation loss has  decreased (inf --> 2.3078).  Saving model ...\n",
            "EPOCH: 8\n"
          ],
          "name": "stdout"
        },
        {
          "output_type": "stream",
          "text": [
            "Loss=2.325138807296753 Batch_id=937 Accuracy=8.36: 100%|██████████| 938/938 [00:59<00:00, 15.66it/s]\n",
            "  0%|          | 0/938 [00:00<?, ?it/s]"
          ],
          "name": "stderr"
        },
        {
          "output_type": "stream",
          "text": [
            "\n",
            "Test set: Average loss: 2.3089, Accuracy: 808/10000 (8.08%)\n",
            "\n",
            "Validation loss has  decreased (inf --> 2.3089).  Saving model ...\n",
            "EPOCH: 9\n"
          ],
          "name": "stdout"
        },
        {
          "output_type": "stream",
          "text": [
            "Loss=2.3313517570495605 Batch_id=937 Accuracy=8.52: 100%|██████████| 938/938 [00:58<00:00, 16.02it/s]\n",
            "  0%|          | 0/938 [00:00<?, ?it/s]"
          ],
          "name": "stderr"
        },
        {
          "output_type": "stream",
          "text": [
            "\n",
            "Test set: Average loss: 2.3091, Accuracy: 765/10000 (7.65%)\n",
            "\n",
            "Validation loss has  decreased (inf --> 2.3091).  Saving model ...\n",
            "EPOCH: 10\n"
          ],
          "name": "stdout"
        },
        {
          "output_type": "stream",
          "text": [
            "Loss=2.3191981315612793 Batch_id=937 Accuracy=8.31: 100%|██████████| 938/938 [00:58<00:00, 15.95it/s]\n",
            "  0%|          | 0/938 [00:00<?, ?it/s]"
          ],
          "name": "stderr"
        },
        {
          "output_type": "stream",
          "text": [
            "\n",
            "Test set: Average loss: 2.3085, Accuracy: 780/10000 (7.80%)\n",
            "\n",
            "Validation loss has  decreased (inf --> 2.3085).  Saving model ...\n",
            "EPOCH: 11\n"
          ],
          "name": "stdout"
        },
        {
          "output_type": "stream",
          "text": [
            "Loss=2.3283965587615967 Batch_id=937 Accuracy=8.43: 100%|██████████| 938/938 [01:00<00:00, 15.50it/s]\n",
            "  0%|          | 0/938 [00:00<?, ?it/s]"
          ],
          "name": "stderr"
        },
        {
          "output_type": "stream",
          "text": [
            "\n",
            "Test set: Average loss: 2.3097, Accuracy: 795/10000 (7.95%)\n",
            "\n",
            "Validation loss has  decreased (inf --> 2.3097).  Saving model ...\n",
            "EPOCH: 12\n"
          ],
          "name": "stdout"
        },
        {
          "output_type": "stream",
          "text": [
            "Loss=2.2616307735443115 Batch_id=937 Accuracy=8.38: 100%|██████████| 938/938 [00:59<00:00, 15.79it/s]\n",
            "  0%|          | 0/938 [00:00<?, ?it/s]"
          ],
          "name": "stderr"
        },
        {
          "output_type": "stream",
          "text": [
            "\n",
            "Test set: Average loss: 2.3080, Accuracy: 762/10000 (7.62%)\n",
            "\n",
            "Validation loss has  decreased (inf --> 2.3080).  Saving model ...\n",
            "EPOCH: 13\n"
          ],
          "name": "stdout"
        },
        {
          "output_type": "stream",
          "text": [
            "Loss=2.325197458267212 Batch_id=937 Accuracy=8.48: 100%|██████████| 938/938 [01:00<00:00, 15.62it/s]\n",
            "  0%|          | 0/938 [00:00<?, ?it/s]"
          ],
          "name": "stderr"
        },
        {
          "output_type": "stream",
          "text": [
            "\n",
            "Test set: Average loss: 2.3091, Accuracy: 758/10000 (7.58%)\n",
            "\n",
            "Validation loss has  decreased (inf --> 2.3091).  Saving model ...\n",
            "EPOCH: 14\n"
          ],
          "name": "stdout"
        },
        {
          "output_type": "stream",
          "text": [
            "Loss=2.292621612548828 Batch_id=937 Accuracy=8.36: 100%|██████████| 938/938 [01:03<00:00, 14.75it/s]\n",
            "  0%|          | 0/938 [00:00<?, ?it/s]"
          ],
          "name": "stderr"
        },
        {
          "output_type": "stream",
          "text": [
            "\n",
            "Test set: Average loss: 2.3082, Accuracy: 748/10000 (7.48%)\n",
            "\n",
            "Validation loss has  decreased (inf --> 2.3082).  Saving model ...\n",
            "EPOCH: 15\n"
          ],
          "name": "stdout"
        },
        {
          "output_type": "stream",
          "text": [
            "Loss=2.324239730834961 Batch_id=937 Accuracy=8.67: 100%|██████████| 938/938 [00:59<00:00, 15.81it/s]\n",
            "  0%|          | 0/938 [00:00<?, ?it/s]"
          ],
          "name": "stderr"
        },
        {
          "output_type": "stream",
          "text": [
            "\n",
            "Test set: Average loss: 2.3094, Accuracy: 837/10000 (8.37%)\n",
            "\n",
            "Validation loss has  decreased (inf --> 2.3094).  Saving model ...\n",
            "EPOCH: 16\n"
          ],
          "name": "stdout"
        },
        {
          "output_type": "stream",
          "text": [
            "Loss=2.262932538986206 Batch_id=937 Accuracy=8.29: 100%|██████████| 938/938 [01:00<00:00, 15.63it/s]\n",
            "  0%|          | 0/938 [00:00<?, ?it/s]"
          ],
          "name": "stderr"
        },
        {
          "output_type": "stream",
          "text": [
            "\n",
            "Test set: Average loss: 2.3086, Accuracy: 761/10000 (7.61%)\n",
            "\n",
            "Validation loss has  decreased (inf --> 2.3086).  Saving model ...\n",
            "EPOCH: 17\n"
          ],
          "name": "stdout"
        },
        {
          "output_type": "stream",
          "text": [
            "Loss=2.3083438873291016 Batch_id=937 Accuracy=8.31: 100%|██████████| 938/938 [01:01<00:00, 15.34it/s]\n",
            "  0%|          | 0/938 [00:00<?, ?it/s]"
          ],
          "name": "stderr"
        },
        {
          "output_type": "stream",
          "text": [
            "\n",
            "Test set: Average loss: 2.3073, Accuracy: 774/10000 (7.74%)\n",
            "\n",
            "Validation loss has  decreased (inf --> 2.3073).  Saving model ...\n",
            "EPOCH: 18\n"
          ],
          "name": "stdout"
        },
        {
          "output_type": "stream",
          "text": [
            "Loss=2.3154172897338867 Batch_id=937 Accuracy=8.39: 100%|██████████| 938/938 [01:01<00:00, 15.13it/s]\n",
            "  0%|          | 0/938 [00:00<?, ?it/s]"
          ],
          "name": "stderr"
        },
        {
          "output_type": "stream",
          "text": [
            "\n",
            "Test set: Average loss: 2.3082, Accuracy: 749/10000 (7.49%)\n",
            "\n",
            "Validation loss has  decreased (inf --> 2.3082).  Saving model ...\n",
            "EPOCH: 19\n"
          ],
          "name": "stdout"
        },
        {
          "output_type": "stream",
          "text": [
            "Loss=2.2980926036834717 Batch_id=937 Accuracy=8.38: 100%|██████████| 938/938 [01:02<00:00, 15.00it/s]\n",
            "  0%|          | 0/938 [00:00<?, ?it/s]"
          ],
          "name": "stderr"
        },
        {
          "output_type": "stream",
          "text": [
            "\n",
            "Test set: Average loss: 2.3079, Accuracy: 740/10000 (7.40%)\n",
            "\n",
            "Validation loss has  decreased (inf --> 2.3079).  Saving model ...\n",
            "EPOCH: 20\n"
          ],
          "name": "stdout"
        },
        {
          "output_type": "stream",
          "text": [
            "Loss=2.3031668663024902 Batch_id=937 Accuracy=8.46: 100%|██████████| 938/938 [01:01<00:00, 15.21it/s]\n",
            "  0%|          | 0/938 [00:00<?, ?it/s]"
          ],
          "name": "stderr"
        },
        {
          "output_type": "stream",
          "text": [
            "\n",
            "Test set: Average loss: 2.3082, Accuracy: 750/10000 (7.50%)\n",
            "\n",
            "Validation loss has  decreased (inf --> 2.3082).  Saving model ...\n",
            "EPOCH: 21\n"
          ],
          "name": "stdout"
        },
        {
          "output_type": "stream",
          "text": [
            "Loss=2.308906316757202 Batch_id=937 Accuracy=8.23: 100%|██████████| 938/938 [01:07<00:00, 13.92it/s]\n",
            "  0%|          | 0/938 [00:00<?, ?it/s]"
          ],
          "name": "stderr"
        },
        {
          "output_type": "stream",
          "text": [
            "\n",
            "Test set: Average loss: 2.3073, Accuracy: 809/10000 (8.09%)\n",
            "\n",
            "Validation loss has  decreased (inf --> 2.3073).  Saving model ...\n",
            "EPOCH: 22\n"
          ],
          "name": "stdout"
        },
        {
          "output_type": "stream",
          "text": [
            "Loss=2.324078321456909 Batch_id=937 Accuracy=8.34: 100%|██████████| 938/938 [01:00<00:00, 15.51it/s]\n",
            "  0%|          | 0/938 [00:00<?, ?it/s]"
          ],
          "name": "stderr"
        },
        {
          "output_type": "stream",
          "text": [
            "\n",
            "Test set: Average loss: 2.3073, Accuracy: 806/10000 (8.06%)\n",
            "\n",
            "Validation loss has  decreased (inf --> 2.3073).  Saving model ...\n",
            "EPOCH: 23\n"
          ],
          "name": "stdout"
        },
        {
          "output_type": "stream",
          "text": [
            "Loss=2.30529522895813 Batch_id=937 Accuracy=8.37: 100%|██████████| 938/938 [01:00<00:00, 15.42it/s]\n",
            "  0%|          | 0/938 [00:00<?, ?it/s]"
          ],
          "name": "stderr"
        },
        {
          "output_type": "stream",
          "text": [
            "\n",
            "Test set: Average loss: 2.3083, Accuracy: 801/10000 (8.01%)\n",
            "\n",
            "Validation loss has  decreased (inf --> 2.3083).  Saving model ...\n",
            "EPOCH: 24\n"
          ],
          "name": "stdout"
        },
        {
          "output_type": "stream",
          "text": [
            "Loss=2.288550853729248 Batch_id=937 Accuracy=8.54: 100%|██████████| 938/938 [01:00<00:00, 15.55it/s]\n",
            "  0%|          | 0/938 [00:00<?, ?it/s]"
          ],
          "name": "stderr"
        },
        {
          "output_type": "stream",
          "text": [
            "\n",
            "Test set: Average loss: 2.3082, Accuracy: 758/10000 (7.58%)\n",
            "\n",
            "Validation loss has  decreased (inf --> 2.3082).  Saving model ...\n",
            "EPOCH: 25\n"
          ],
          "name": "stdout"
        },
        {
          "output_type": "stream",
          "text": [
            "Loss=2.308748960494995 Batch_id=937 Accuracy=8.53: 100%|██████████| 938/938 [00:58<00:00, 15.91it/s]\n"
          ],
          "name": "stderr"
        },
        {
          "output_type": "stream",
          "text": [
            "\n",
            "Test set: Average loss: 2.3085, Accuracy: 761/10000 (7.61%)\n",
            "\n",
            "Validation loss has  decreased (inf --> 2.3085).  Saving model ...\n"
          ],
          "name": "stdout"
        },
        {
          "output_type": "stream",
          "text": [
            "\r  0%|          | 0/938 [00:00<?, ?it/s]"
          ],
          "name": "stderr"
        },
        {
          "output_type": "stream",
          "text": [
            "with L1 regularization with GBN\n",
            "EPOCH: 1\n"
          ],
          "name": "stdout"
        },
        {
          "output_type": "stream",
          "text": [
            "Loss=2.3427724838256836 Batch_id=937 Accuracy=8.43: 100%|██████████| 938/938 [01:01<00:00, 15.34it/s]\n",
            "  0%|          | 0/938 [00:00<?, ?it/s]"
          ],
          "name": "stderr"
        },
        {
          "output_type": "stream",
          "text": [
            "\n",
            "Test set: Average loss: 2.2991, Accuracy: 1114/10000 (11.14%)\n",
            "\n",
            "Validation loss has  decreased (inf --> 2.2991).  Saving model ...\n",
            "EPOCH: 2\n"
          ],
          "name": "stdout"
        },
        {
          "output_type": "stream",
          "text": [
            "Loss=2.310391664505005 Batch_id=937 Accuracy=8.43: 100%|██████████| 938/938 [01:01<00:00, 15.31it/s]\n",
            "  0%|          | 0/938 [00:00<?, ?it/s]"
          ],
          "name": "stderr"
        },
        {
          "output_type": "stream",
          "text": [
            "\n",
            "Test set: Average loss: 2.2982, Accuracy: 1152/10000 (11.52%)\n",
            "\n",
            "Validation loss has  decreased (inf --> 2.2982).  Saving model ...\n",
            "EPOCH: 3\n"
          ],
          "name": "stdout"
        },
        {
          "output_type": "stream",
          "text": [
            "Loss=2.3006255626678467 Batch_id=937 Accuracy=8.37: 100%|██████████| 938/938 [01:02<00:00, 15.00it/s]\n",
            "  0%|          | 0/938 [00:00<?, ?it/s]"
          ],
          "name": "stderr"
        },
        {
          "output_type": "stream",
          "text": [
            "\n",
            "Test set: Average loss: 2.2981, Accuracy: 1158/10000 (11.58%)\n",
            "\n",
            "Validation loss has  decreased (inf --> 2.2981).  Saving model ...\n",
            "EPOCH: 4\n"
          ],
          "name": "stdout"
        },
        {
          "output_type": "stream",
          "text": [
            "Loss=2.3050649166107178 Batch_id=937 Accuracy=8.50: 100%|██████████| 938/938 [01:00<00:00, 15.59it/s]\n",
            "  0%|          | 0/938 [00:00<?, ?it/s]"
          ],
          "name": "stderr"
        },
        {
          "output_type": "stream",
          "text": [
            "\n",
            "Test set: Average loss: 2.2983, Accuracy: 1161/10000 (11.61%)\n",
            "\n",
            "Validation loss has  decreased (inf --> 2.2983).  Saving model ...\n",
            "EPOCH: 5\n"
          ],
          "name": "stdout"
        },
        {
          "output_type": "stream",
          "text": [
            "Loss=2.321842670440674 Batch_id=937 Accuracy=8.48: 100%|██████████| 938/938 [01:03<00:00, 14.88it/s]\n",
            "  0%|          | 0/938 [00:00<?, ?it/s]"
          ],
          "name": "stderr"
        },
        {
          "output_type": "stream",
          "text": [
            "\n",
            "Test set: Average loss: 2.2979, Accuracy: 1231/10000 (12.31%)\n",
            "\n",
            "Validation loss has  decreased (inf --> 2.2979).  Saving model ...\n",
            "EPOCH: 6\n"
          ],
          "name": "stdout"
        },
        {
          "output_type": "stream",
          "text": [
            "Loss=2.3467419147491455 Batch_id=937 Accuracy=8.38: 100%|██████████| 938/938 [00:59<00:00, 15.82it/s]\n",
            "  0%|          | 0/938 [00:00<?, ?it/s]"
          ],
          "name": "stderr"
        },
        {
          "output_type": "stream",
          "text": [
            "\n",
            "Test set: Average loss: 2.2976, Accuracy: 1230/10000 (12.30%)\n",
            "\n",
            "Validation loss has  decreased (inf --> 2.2976).  Saving model ...\n",
            "EPOCH: 7\n"
          ],
          "name": "stdout"
        },
        {
          "output_type": "stream",
          "text": [
            "Loss=2.3020071983337402 Batch_id=937 Accuracy=8.40: 100%|██████████| 938/938 [00:59<00:00, 15.78it/s]\n",
            "  0%|          | 0/938 [00:00<?, ?it/s]"
          ],
          "name": "stderr"
        },
        {
          "output_type": "stream",
          "text": [
            "\n",
            "Test set: Average loss: 2.2998, Accuracy: 1195/10000 (11.95%)\n",
            "\n",
            "Validation loss has  decreased (inf --> 2.2998).  Saving model ...\n",
            "EPOCH: 8\n"
          ],
          "name": "stdout"
        },
        {
          "output_type": "stream",
          "text": [
            "Loss=2.3062803745269775 Batch_id=937 Accuracy=8.51: 100%|██████████| 938/938 [00:59<00:00, 15.81it/s]\n",
            "  0%|          | 0/938 [00:00<?, ?it/s]"
          ],
          "name": "stderr"
        },
        {
          "output_type": "stream",
          "text": [
            "\n",
            "Test set: Average loss: 2.3013, Accuracy: 1215/10000 (12.15%)\n",
            "\n",
            "Validation loss has  decreased (inf --> 2.3013).  Saving model ...\n",
            "EPOCH: 9\n"
          ],
          "name": "stdout"
        },
        {
          "output_type": "stream",
          "text": [
            "Loss=2.3015339374542236 Batch_id=937 Accuracy=8.52: 100%|██████████| 938/938 [01:00<00:00, 15.62it/s]\n",
            "  0%|          | 0/938 [00:00<?, ?it/s]"
          ],
          "name": "stderr"
        },
        {
          "output_type": "stream",
          "text": [
            "\n",
            "Test set: Average loss: 2.3016, Accuracy: 1284/10000 (12.84%)\n",
            "\n",
            "Validation loss has  decreased (inf --> 2.3016).  Saving model ...\n",
            "EPOCH: 10\n"
          ],
          "name": "stdout"
        },
        {
          "output_type": "stream",
          "text": [
            "Loss=2.331306219100952 Batch_id=937 Accuracy=8.28: 100%|██████████| 938/938 [00:59<00:00, 15.86it/s]\n",
            "  0%|          | 0/938 [00:00<?, ?it/s]"
          ],
          "name": "stderr"
        },
        {
          "output_type": "stream",
          "text": [
            "\n",
            "Test set: Average loss: 2.3023, Accuracy: 1262/10000 (12.62%)\n",
            "\n",
            "Validation loss has  decreased (inf --> 2.3023).  Saving model ...\n",
            "EPOCH: 11\n"
          ],
          "name": "stdout"
        },
        {
          "output_type": "stream",
          "text": [
            "Loss=2.320258617401123 Batch_id=937 Accuracy=8.33: 100%|██████████| 938/938 [00:58<00:00, 15.90it/s]\n",
            "  0%|          | 0/938 [00:00<?, ?it/s]"
          ],
          "name": "stderr"
        },
        {
          "output_type": "stream",
          "text": [
            "\n",
            "Test set: Average loss: 2.3021, Accuracy: 1279/10000 (12.79%)\n",
            "\n",
            "Validation loss has  decreased (inf --> 2.3021).  Saving model ...\n",
            "EPOCH: 12\n"
          ],
          "name": "stdout"
        },
        {
          "output_type": "stream",
          "text": [
            "Loss=2.285508394241333 Batch_id=937 Accuracy=8.36: 100%|██████████| 938/938 [00:58<00:00, 15.97it/s]\n",
            "  0%|          | 0/938 [00:00<?, ?it/s]"
          ],
          "name": "stderr"
        },
        {
          "output_type": "stream",
          "text": [
            "\n",
            "Test set: Average loss: 2.3020, Accuracy: 1253/10000 (12.53%)\n",
            "\n",
            "Validation loss has  decreased (inf --> 2.3020).  Saving model ...\n",
            "EPOCH: 13\n"
          ],
          "name": "stdout"
        },
        {
          "output_type": "stream",
          "text": [
            "Loss=2.321930170059204 Batch_id=937 Accuracy=8.53: 100%|██████████| 938/938 [00:57<00:00, 16.18it/s]\n",
            "  0%|          | 0/938 [00:00<?, ?it/s]"
          ],
          "name": "stderr"
        },
        {
          "output_type": "stream",
          "text": [
            "\n",
            "Test set: Average loss: 2.3024, Accuracy: 1144/10000 (11.44%)\n",
            "\n",
            "Validation loss has  decreased (inf --> 2.3024).  Saving model ...\n",
            "EPOCH: 14\n"
          ],
          "name": "stdout"
        },
        {
          "output_type": "stream",
          "text": [
            "Loss=2.3120312690734863 Batch_id=937 Accuracy=8.37: 100%|██████████| 938/938 [00:56<00:00, 16.61it/s]\n",
            "  0%|          | 0/938 [00:00<?, ?it/s]"
          ],
          "name": "stderr"
        },
        {
          "output_type": "stream",
          "text": [
            "\n",
            "Test set: Average loss: 2.3026, Accuracy: 1108/10000 (11.08%)\n",
            "\n",
            "Validation loss has  decreased (inf --> 2.3026).  Saving model ...\n",
            "EPOCH: 15\n"
          ],
          "name": "stdout"
        },
        {
          "output_type": "stream",
          "text": [
            "Loss=2.297488212585449 Batch_id=937 Accuracy=8.31: 100%|██████████| 938/938 [00:59<00:00, 15.85it/s]\n",
            "  0%|          | 0/938 [00:00<?, ?it/s]"
          ],
          "name": "stderr"
        },
        {
          "output_type": "stream",
          "text": [
            "\n",
            "Test set: Average loss: 2.3026, Accuracy: 1113/10000 (11.13%)\n",
            "\n",
            "Validation loss has  decreased (inf --> 2.3026).  Saving model ...\n",
            "EPOCH: 16\n"
          ],
          "name": "stdout"
        },
        {
          "output_type": "stream",
          "text": [
            "Loss=2.315142869949341 Batch_id=937 Accuracy=8.40: 100%|██████████| 938/938 [00:56<00:00, 16.71it/s]\n",
            "  0%|          | 0/938 [00:00<?, ?it/s]"
          ],
          "name": "stderr"
        },
        {
          "output_type": "stream",
          "text": [
            "\n",
            "Test set: Average loss: 2.3026, Accuracy: 1174/10000 (11.74%)\n",
            "\n",
            "Validation loss has  decreased (inf --> 2.3026).  Saving model ...\n",
            "EPOCH: 17\n"
          ],
          "name": "stdout"
        },
        {
          "output_type": "stream",
          "text": [
            "Loss=2.304015874862671 Batch_id=937 Accuracy=8.48: 100%|██████████| 938/938 [00:56<00:00, 16.59it/s]\n",
            "  0%|          | 0/938 [00:00<?, ?it/s]"
          ],
          "name": "stderr"
        },
        {
          "output_type": "stream",
          "text": [
            "\n",
            "Test set: Average loss: 2.3026, Accuracy: 1009/10000 (10.09%)\n",
            "\n",
            "Validation loss has  decreased (inf --> 2.3026).  Saving model ...\n",
            "EPOCH: 18\n"
          ],
          "name": "stdout"
        },
        {
          "output_type": "stream",
          "text": [
            "Loss=2.2845876216888428 Batch_id=937 Accuracy=8.35: 100%|██████████| 938/938 [00:54<00:00, 17.07it/s]\n",
            "  0%|          | 0/938 [00:00<?, ?it/s]"
          ],
          "name": "stderr"
        },
        {
          "output_type": "stream",
          "text": [
            "\n",
            "Test set: Average loss: 2.3026, Accuracy: 1009/10000 (10.09%)\n",
            "\n",
            "Validation loss has  decreased (inf --> 2.3026).  Saving model ...\n",
            "EPOCH: 19\n"
          ],
          "name": "stdout"
        },
        {
          "output_type": "stream",
          "text": [
            "Loss=2.3200862407684326 Batch_id=937 Accuracy=8.21: 100%|██████████| 938/938 [00:54<00:00, 17.19it/s]\n",
            "  0%|          | 0/938 [00:00<?, ?it/s]"
          ],
          "name": "stderr"
        },
        {
          "output_type": "stream",
          "text": [
            "\n",
            "Test set: Average loss: 2.3026, Accuracy: 1009/10000 (10.09%)\n",
            "\n",
            "Validation loss has  decreased (inf --> 2.3026).  Saving model ...\n",
            "EPOCH: 20\n"
          ],
          "name": "stdout"
        },
        {
          "output_type": "stream",
          "text": [
            "Loss=2.298720359802246 Batch_id=937 Accuracy=8.28: 100%|██████████| 938/938 [00:55<00:00, 17.01it/s]\n",
            "  0%|          | 0/938 [00:00<?, ?it/s]"
          ],
          "name": "stderr"
        },
        {
          "output_type": "stream",
          "text": [
            "\n",
            "Test set: Average loss: 2.3026, Accuracy: 1009/10000 (10.09%)\n",
            "\n",
            "Validation loss has  decreased (inf --> 2.3026).  Saving model ...\n",
            "EPOCH: 21\n"
          ],
          "name": "stdout"
        },
        {
          "output_type": "stream",
          "text": [
            "Loss=2.315274477005005 Batch_id=937 Accuracy=8.31: 100%|██████████| 938/938 [00:55<00:00, 17.00it/s]\n",
            "  0%|          | 0/938 [00:00<?, ?it/s]"
          ],
          "name": "stderr"
        },
        {
          "output_type": "stream",
          "text": [
            "\n",
            "Test set: Average loss: 2.3026, Accuracy: 1009/10000 (10.09%)\n",
            "\n",
            "Validation loss has  decreased (inf --> 2.3026).  Saving model ...\n",
            "EPOCH: 22\n"
          ],
          "name": "stdout"
        },
        {
          "output_type": "stream",
          "text": [
            "Loss=2.3135533332824707 Batch_id=937 Accuracy=8.48: 100%|██████████| 938/938 [00:54<00:00, 17.17it/s]\n",
            "  0%|          | 0/938 [00:00<?, ?it/s]"
          ],
          "name": "stderr"
        },
        {
          "output_type": "stream",
          "text": [
            "\n",
            "Test set: Average loss: 2.3026, Accuracy: 1009/10000 (10.09%)\n",
            "\n",
            "Validation loss has  decreased (inf --> 2.3026).  Saving model ...\n",
            "EPOCH: 23\n"
          ],
          "name": "stdout"
        },
        {
          "output_type": "stream",
          "text": [
            "Loss=2.25937819480896 Batch_id=937 Accuracy=8.45: 100%|██████████| 938/938 [00:55<00:00, 16.86it/s]\n",
            "  0%|          | 0/938 [00:00<?, ?it/s]"
          ],
          "name": "stderr"
        },
        {
          "output_type": "stream",
          "text": [
            "\n",
            "Test set: Average loss: 2.3026, Accuracy: 1009/10000 (10.09%)\n",
            "\n",
            "Validation loss has  decreased (inf --> 2.3026).  Saving model ...\n",
            "EPOCH: 24\n"
          ],
          "name": "stdout"
        },
        {
          "output_type": "stream",
          "text": [
            "Loss=2.2970058917999268 Batch_id=937 Accuracy=8.54: 100%|██████████| 938/938 [00:56<00:00, 16.72it/s]\n",
            "  0%|          | 0/938 [00:00<?, ?it/s]"
          ],
          "name": "stderr"
        },
        {
          "output_type": "stream",
          "text": [
            "\n",
            "Test set: Average loss: 2.3026, Accuracy: 1009/10000 (10.09%)\n",
            "\n",
            "Validation loss has  decreased (inf --> 2.3026).  Saving model ...\n",
            "EPOCH: 25\n"
          ],
          "name": "stdout"
        },
        {
          "output_type": "stream",
          "text": [
            "Loss=2.310227155685425 Batch_id=937 Accuracy=8.24: 100%|██████████| 938/938 [00:58<00:00, 15.98it/s]\n"
          ],
          "name": "stderr"
        },
        {
          "output_type": "stream",
          "text": [
            "\n",
            "Test set: Average loss: 2.3026, Accuracy: 1009/10000 (10.09%)\n",
            "\n",
            "Validation loss has  decreased (inf --> 2.3026).  Saving model ...\n"
          ],
          "name": "stdout"
        },
        {
          "output_type": "error",
          "ename": "TypeError",
          "evalue": "ignored",
          "traceback": [
            "\u001b[0;31m---------------------------------------------------------------------------\u001b[0m",
            "\u001b[0;31mTypeError\u001b[0m                                 Traceback (most recent call last)",
            "\u001b[0;32m<ipython-input-58-3dcdf0d8bc0a>\u001b[0m in \u001b[0;36m<module>\u001b[0;34m()\u001b[0m\n\u001b[1;32m      1\u001b[0m modelTuple = iter(withoutL1_L2_GBN(),\n\u001b[0;32m----> 2\u001b[0;31m   withL1_GBN())\n\u001b[0m\u001b[1;32m      3\u001b[0m \u001b[0;34m\u001b[0m\u001b[0m\n\u001b[1;32m      4\u001b[0m \u001b[0mprint\u001b[0m\u001b[0;34m(\u001b[0m\u001b[0mmodelTuple\u001b[0m\u001b[0;34m.\u001b[0m\u001b[0m__next__\u001b[0m\u001b[0;34m(\u001b[0m\u001b[0;34m)\u001b[0m\u001b[0;34m)\u001b[0m\u001b[0;34m\u001b[0m\u001b[0;34m\u001b[0m\u001b[0m\n",
            "\u001b[0;31mTypeError\u001b[0m: iter(v, w): v must be callable"
          ]
        }
      ]
    },
    {
      "cell_type": "code",
      "metadata": {
        "id": "q6tHAtNH42b4",
        "colab_type": "code",
        "colab": {
          "base_uri": "https://localhost:8080/",
          "height": 1000
        },
        "outputId": "ccb50c9a-9a56-4a37-e14a-6d32f6451f68"
      },
      "source": [
        "modelTuple = iter(\n",
        "  withL2_GBN(),\n",
        "  withL1_L2_GBN())\n",
        "\n",
        "print(modelTuple.__next__())"
      ],
      "execution_count": 59,
      "outputs": [
        {
          "output_type": "stream",
          "text": [
            "\r  0%|          | 0/938 [00:00<?, ?it/s]"
          ],
          "name": "stderr"
        },
        {
          "output_type": "stream",
          "text": [
            "with L2 regularization with GBN\n",
            "EPOCH: 1\n"
          ],
          "name": "stdout"
        },
        {
          "output_type": "stream",
          "text": [
            "Loss=2.2979471683502197 Batch_id=937 Accuracy=8.33: 100%|██████████| 938/938 [00:55<00:00, 17.02it/s]\n",
            "  0%|          | 0/938 [00:00<?, ?it/s]"
          ],
          "name": "stderr"
        },
        {
          "output_type": "stream",
          "text": [
            "\n",
            "Test set: Average loss: 2.2997, Accuracy: 979/10000 (9.79%)\n",
            "\n",
            "Validation loss has  decreased (inf --> 2.2997).  Saving model ...\n",
            "EPOCH: 2\n"
          ],
          "name": "stdout"
        },
        {
          "output_type": "stream",
          "text": [
            "Loss=2.2477540969848633 Batch_id=937 Accuracy=8.26: 100%|██████████| 938/938 [00:55<00:00, 16.91it/s]\n",
            "  0%|          | 0/938 [00:00<?, ?it/s]"
          ],
          "name": "stderr"
        },
        {
          "output_type": "stream",
          "text": [
            "\n",
            "Test set: Average loss: 2.3002, Accuracy: 1012/10000 (10.12%)\n",
            "\n",
            "Validation loss has  decreased (inf --> 2.3002).  Saving model ...\n",
            "EPOCH: 3\n"
          ],
          "name": "stdout"
        },
        {
          "output_type": "stream",
          "text": [
            "Loss=2.3066658973693848 Batch_id=937 Accuracy=8.48: 100%|██████████| 938/938 [00:55<00:00, 16.98it/s]\n",
            "  0%|          | 0/938 [00:00<?, ?it/s]"
          ],
          "name": "stderr"
        },
        {
          "output_type": "stream",
          "text": [
            "\n",
            "Test set: Average loss: 2.2989, Accuracy: 1026/10000 (10.26%)\n",
            "\n",
            "Validation loss has  decreased (inf --> 2.2989).  Saving model ...\n",
            "EPOCH: 4\n"
          ],
          "name": "stdout"
        },
        {
          "output_type": "stream",
          "text": [
            "Loss=2.322955369949341 Batch_id=937 Accuracy=8.42: 100%|██████████| 938/938 [00:54<00:00, 17.09it/s]\n",
            "  0%|          | 0/938 [00:00<?, ?it/s]"
          ],
          "name": "stderr"
        },
        {
          "output_type": "stream",
          "text": [
            "\n",
            "Test set: Average loss: 2.2995, Accuracy: 1024/10000 (10.24%)\n",
            "\n",
            "Validation loss has  decreased (inf --> 2.2995).  Saving model ...\n",
            "EPOCH: 5\n"
          ],
          "name": "stdout"
        },
        {
          "output_type": "stream",
          "text": [
            "Loss=2.2911345958709717 Batch_id=937 Accuracy=8.37: 100%|██████████| 938/938 [00:55<00:00, 16.85it/s]\n",
            "  0%|          | 0/938 [00:00<?, ?it/s]"
          ],
          "name": "stderr"
        },
        {
          "output_type": "stream",
          "text": [
            "\n",
            "Test set: Average loss: 2.2996, Accuracy: 1026/10000 (10.26%)\n",
            "\n",
            "Validation loss has  decreased (inf --> 2.2996).  Saving model ...\n",
            "EPOCH: 6\n"
          ],
          "name": "stdout"
        },
        {
          "output_type": "stream",
          "text": [
            "Loss=2.295785903930664 Batch_id=937 Accuracy=8.46: 100%|██████████| 938/938 [00:57<00:00, 16.43it/s]\n",
            "  0%|          | 0/938 [00:00<?, ?it/s]"
          ],
          "name": "stderr"
        },
        {
          "output_type": "stream",
          "text": [
            "\n",
            "Test set: Average loss: 2.2999, Accuracy: 1033/10000 (10.33%)\n",
            "\n",
            "Validation loss has  decreased (inf --> 2.2999).  Saving model ...\n",
            "EPOCH: 7\n"
          ],
          "name": "stdout"
        },
        {
          "output_type": "stream",
          "text": [
            "Loss=2.29013729095459 Batch_id=937 Accuracy=8.35: 100%|██████████| 938/938 [00:55<00:00, 16.78it/s]\n",
            "  0%|          | 0/938 [00:00<?, ?it/s]"
          ],
          "name": "stderr"
        },
        {
          "output_type": "stream",
          "text": [
            "\n",
            "Test set: Average loss: 2.2995, Accuracy: 1039/10000 (10.39%)\n",
            "\n",
            "Validation loss has  decreased (inf --> 2.2995).  Saving model ...\n",
            "EPOCH: 8\n"
          ],
          "name": "stdout"
        },
        {
          "output_type": "stream",
          "text": [
            "Loss=2.3050758838653564 Batch_id=937 Accuracy=8.30: 100%|██████████| 938/938 [00:55<00:00, 16.84it/s]\n",
            "  0%|          | 0/938 [00:00<?, ?it/s]"
          ],
          "name": "stderr"
        },
        {
          "output_type": "stream",
          "text": [
            "\n",
            "Test set: Average loss: 2.3005, Accuracy: 991/10000 (9.91%)\n",
            "\n",
            "Validation loss has  decreased (inf --> 2.3005).  Saving model ...\n",
            "EPOCH: 9\n"
          ],
          "name": "stdout"
        },
        {
          "output_type": "stream",
          "text": [
            "Loss=2.356088876724243 Batch_id=937 Accuracy=8.46: 100%|██████████| 938/938 [00:58<00:00, 16.14it/s]\n",
            "  0%|          | 0/938 [00:00<?, ?it/s]"
          ],
          "name": "stderr"
        },
        {
          "output_type": "stream",
          "text": [
            "\n",
            "Test set: Average loss: 2.2994, Accuracy: 990/10000 (9.90%)\n",
            "\n",
            "Validation loss has  decreased (inf --> 2.2994).  Saving model ...\n",
            "EPOCH: 10\n"
          ],
          "name": "stdout"
        },
        {
          "output_type": "stream",
          "text": [
            "Loss=2.296132802963257 Batch_id=937 Accuracy=8.24: 100%|██████████| 938/938 [00:56<00:00, 16.67it/s]\n",
            "  0%|          | 0/938 [00:00<?, ?it/s]"
          ],
          "name": "stderr"
        },
        {
          "output_type": "stream",
          "text": [
            "\n",
            "Test set: Average loss: 2.2986, Accuracy: 1066/10000 (10.66%)\n",
            "\n",
            "Validation loss has  decreased (inf --> 2.2986).  Saving model ...\n",
            "EPOCH: 11\n"
          ],
          "name": "stdout"
        },
        {
          "output_type": "stream",
          "text": [
            "Loss=2.3011832237243652 Batch_id=937 Accuracy=8.57: 100%|██████████| 938/938 [00:56<00:00, 16.69it/s]\n",
            "  0%|          | 0/938 [00:00<?, ?it/s]"
          ],
          "name": "stderr"
        },
        {
          "output_type": "stream",
          "text": [
            "\n",
            "Test set: Average loss: 2.3004, Accuracy: 1021/10000 (10.21%)\n",
            "\n",
            "Validation loss has  decreased (inf --> 2.3004).  Saving model ...\n",
            "EPOCH: 12\n"
          ],
          "name": "stdout"
        },
        {
          "output_type": "stream",
          "text": [
            "Loss=2.3155014514923096 Batch_id=937 Accuracy=8.26: 100%|██████████| 938/938 [00:55<00:00, 16.88it/s]\n",
            "  0%|          | 0/938 [00:00<?, ?it/s]"
          ],
          "name": "stderr"
        },
        {
          "output_type": "stream",
          "text": [
            "\n",
            "Test set: Average loss: 2.2992, Accuracy: 1066/10000 (10.66%)\n",
            "\n",
            "Validation loss has  decreased (inf --> 2.2992).  Saving model ...\n",
            "EPOCH: 13\n"
          ],
          "name": "stdout"
        },
        {
          "output_type": "stream",
          "text": [
            "Loss=2.304076910018921 Batch_id=937 Accuracy=8.50: 100%|██████████| 938/938 [00:54<00:00, 17.22it/s]\n",
            "  0%|          | 0/938 [00:00<?, ?it/s]"
          ],
          "name": "stderr"
        },
        {
          "output_type": "stream",
          "text": [
            "\n",
            "Test set: Average loss: 2.2995, Accuracy: 1011/10000 (10.11%)\n",
            "\n",
            "Validation loss has  decreased (inf --> 2.2995).  Saving model ...\n",
            "EPOCH: 14\n"
          ],
          "name": "stdout"
        },
        {
          "output_type": "stream",
          "text": [
            "Loss=2.318638563156128 Batch_id=937 Accuracy=8.41: 100%|██████████| 938/938 [00:55<00:00, 16.97it/s]\n",
            "  0%|          | 0/938 [00:00<?, ?it/s]"
          ],
          "name": "stderr"
        },
        {
          "output_type": "stream",
          "text": [
            "\n",
            "Test set: Average loss: 2.3001, Accuracy: 988/10000 (9.88%)\n",
            "\n",
            "Validation loss has  decreased (inf --> 2.3001).  Saving model ...\n",
            "EPOCH: 15\n"
          ],
          "name": "stdout"
        },
        {
          "output_type": "stream",
          "text": [
            "Loss=2.3277759552001953 Batch_id=937 Accuracy=8.55: 100%|██████████| 938/938 [00:55<00:00, 17.02it/s]\n",
            "  0%|          | 0/938 [00:00<?, ?it/s]"
          ],
          "name": "stderr"
        },
        {
          "output_type": "stream",
          "text": [
            "\n",
            "Test set: Average loss: 2.2997, Accuracy: 1057/10000 (10.57%)\n",
            "\n",
            "Validation loss has  decreased (inf --> 2.2997).  Saving model ...\n",
            "EPOCH: 16\n"
          ],
          "name": "stdout"
        },
        {
          "output_type": "stream",
          "text": [
            "Loss=2.3072280883789062 Batch_id=937 Accuracy=8.31: 100%|██████████| 938/938 [00:54<00:00, 17.15it/s]\n",
            "  0%|          | 0/938 [00:00<?, ?it/s]"
          ],
          "name": "stderr"
        },
        {
          "output_type": "stream",
          "text": [
            "\n",
            "Test set: Average loss: 2.2996, Accuracy: 1074/10000 (10.74%)\n",
            "\n",
            "Validation loss has  decreased (inf --> 2.2996).  Saving model ...\n",
            "EPOCH: 17\n"
          ],
          "name": "stdout"
        },
        {
          "output_type": "stream",
          "text": [
            "Loss=2.307063102722168 Batch_id=937 Accuracy=8.27: 100%|██████████| 938/938 [00:53<00:00, 17.56it/s]\n",
            "  0%|          | 0/938 [00:00<?, ?it/s]"
          ],
          "name": "stderr"
        },
        {
          "output_type": "stream",
          "text": [
            "\n",
            "Test set: Average loss: 2.2995, Accuracy: 1036/10000 (10.36%)\n",
            "\n",
            "Validation loss has  decreased (inf --> 2.2995).  Saving model ...\n",
            "EPOCH: 18\n"
          ],
          "name": "stdout"
        },
        {
          "output_type": "stream",
          "text": [
            "Loss=2.320854663848877 Batch_id=937 Accuracy=8.46: 100%|██████████| 938/938 [00:54<00:00, 17.23it/s]\n",
            "  0%|          | 0/938 [00:00<?, ?it/s]"
          ],
          "name": "stderr"
        },
        {
          "output_type": "stream",
          "text": [
            "\n",
            "Test set: Average loss: 2.3000, Accuracy: 1011/10000 (10.11%)\n",
            "\n",
            "Validation loss has  decreased (inf --> 2.3000).  Saving model ...\n",
            "EPOCH: 19\n"
          ],
          "name": "stdout"
        },
        {
          "output_type": "stream",
          "text": [
            "Loss=2.2893426418304443 Batch_id=937 Accuracy=8.53: 100%|██████████| 938/938 [00:56<00:00, 16.57it/s]\n",
            "  0%|          | 0/938 [00:00<?, ?it/s]"
          ],
          "name": "stderr"
        },
        {
          "output_type": "stream",
          "text": [
            "\n",
            "Test set: Average loss: 2.2999, Accuracy: 1050/10000 (10.50%)\n",
            "\n",
            "Validation loss has  decreased (inf --> 2.2999).  Saving model ...\n",
            "EPOCH: 20\n"
          ],
          "name": "stdout"
        },
        {
          "output_type": "stream",
          "text": [
            "Loss=2.3426506519317627 Batch_id=937 Accuracy=8.35: 100%|██████████| 938/938 [00:57<00:00, 16.31it/s]\n",
            "  0%|          | 0/938 [00:00<?, ?it/s]"
          ],
          "name": "stderr"
        },
        {
          "output_type": "stream",
          "text": [
            "\n",
            "Test set: Average loss: 2.2996, Accuracy: 1060/10000 (10.60%)\n",
            "\n",
            "Validation loss has  decreased (inf --> 2.2996).  Saving model ...\n",
            "EPOCH: 21\n"
          ],
          "name": "stdout"
        },
        {
          "output_type": "stream",
          "text": [
            "Loss=2.294205904006958 Batch_id=937 Accuracy=8.34: 100%|██████████| 938/938 [00:57<00:00, 16.37it/s]\n",
            "  0%|          | 0/938 [00:00<?, ?it/s]"
          ],
          "name": "stderr"
        },
        {
          "output_type": "stream",
          "text": [
            "\n",
            "Test set: Average loss: 2.2999, Accuracy: 1012/10000 (10.12%)\n",
            "\n",
            "Validation loss has  decreased (inf --> 2.2999).  Saving model ...\n",
            "EPOCH: 22\n"
          ],
          "name": "stdout"
        },
        {
          "output_type": "stream",
          "text": [
            "Loss=2.2971534729003906 Batch_id=937 Accuracy=8.34: 100%|██████████| 938/938 [00:57<00:00, 16.24it/s]\n",
            "  0%|          | 0/938 [00:00<?, ?it/s]"
          ],
          "name": "stderr"
        },
        {
          "output_type": "stream",
          "text": [
            "\n",
            "Test set: Average loss: 2.3007, Accuracy: 1011/10000 (10.11%)\n",
            "\n",
            "Validation loss has  decreased (inf --> 2.3007).  Saving model ...\n",
            "EPOCH: 23\n"
          ],
          "name": "stdout"
        },
        {
          "output_type": "stream",
          "text": [
            "Loss=2.313164710998535 Batch_id=937 Accuracy=8.51: 100%|██████████| 938/938 [00:57<00:00, 16.34it/s]\n",
            "  0%|          | 0/938 [00:00<?, ?it/s]"
          ],
          "name": "stderr"
        },
        {
          "output_type": "stream",
          "text": [
            "\n",
            "Test set: Average loss: 2.2993, Accuracy: 1037/10000 (10.37%)\n",
            "\n",
            "Validation loss has  decreased (inf --> 2.2993).  Saving model ...\n",
            "EPOCH: 24\n"
          ],
          "name": "stdout"
        },
        {
          "output_type": "stream",
          "text": [
            "Loss=2.3231680393218994 Batch_id=937 Accuracy=8.47: 100%|██████████| 938/938 [00:59<00:00, 15.84it/s]\n",
            "  0%|          | 0/938 [00:00<?, ?it/s]"
          ],
          "name": "stderr"
        },
        {
          "output_type": "stream",
          "text": [
            "\n",
            "Test set: Average loss: 2.2994, Accuracy: 1063/10000 (10.63%)\n",
            "\n",
            "Validation loss has  decreased (inf --> 2.2994).  Saving model ...\n",
            "EPOCH: 25\n"
          ],
          "name": "stdout"
        },
        {
          "output_type": "stream",
          "text": [
            "Loss=2.3192319869995117 Batch_id=937 Accuracy=8.41: 100%|██████████| 938/938 [00:59<00:00, 15.79it/s]\n"
          ],
          "name": "stderr"
        },
        {
          "output_type": "stream",
          "text": [
            "\n",
            "Test set: Average loss: 2.2999, Accuracy: 1063/10000 (10.63%)\n",
            "\n",
            "Validation loss has  decreased (inf --> 2.2999).  Saving model ...\n"
          ],
          "name": "stdout"
        },
        {
          "output_type": "stream",
          "text": [
            "\r  0%|          | 0/938 [00:00<?, ?it/s]"
          ],
          "name": "stderr"
        },
        {
          "output_type": "stream",
          "text": [
            "with L1 & L2 regularization with GBN\n",
            "EPOCH: 1\n"
          ],
          "name": "stdout"
        },
        {
          "output_type": "stream",
          "text": [
            "Loss=2.3033595085144043 Batch_id=937 Accuracy=8.33: 100%|██████████| 938/938 [01:01<00:00, 15.18it/s]\n",
            "  0%|          | 0/938 [00:00<?, ?it/s]"
          ],
          "name": "stderr"
        },
        {
          "output_type": "stream",
          "text": [
            "\n",
            "Test set: Average loss: 2.3281, Accuracy: 582/10000 (5.82%)\n",
            "\n",
            "Validation loss has  decreased (inf --> 2.3281).  Saving model ...\n",
            "EPOCH: 2\n"
          ],
          "name": "stdout"
        },
        {
          "output_type": "stream",
          "text": [
            "Loss=2.302018880844116 Batch_id=937 Accuracy=8.26: 100%|██████████| 938/938 [01:01<00:00, 15.37it/s]\n",
            "  0%|          | 0/938 [00:00<?, ?it/s]"
          ],
          "name": "stderr"
        },
        {
          "output_type": "stream",
          "text": [
            "\n",
            "Test set: Average loss: 2.3250, Accuracy: 574/10000 (5.74%)\n",
            "\n",
            "Validation loss has  decreased (inf --> 2.3250).  Saving model ...\n",
            "EPOCH: 3\n"
          ],
          "name": "stdout"
        },
        {
          "output_type": "stream",
          "text": [
            "Loss=2.3089404106140137 Batch_id=937 Accuracy=8.25: 100%|██████████| 938/938 [00:59<00:00, 15.64it/s]\n",
            "  0%|          | 0/938 [00:00<?, ?it/s]"
          ],
          "name": "stderr"
        },
        {
          "output_type": "stream",
          "text": [
            "\n",
            "Test set: Average loss: 2.3197, Accuracy: 604/10000 (6.04%)\n",
            "\n",
            "Validation loss has  decreased (inf --> 2.3197).  Saving model ...\n",
            "EPOCH: 4\n"
          ],
          "name": "stdout"
        },
        {
          "output_type": "stream",
          "text": [
            "Loss=2.2980408668518066 Batch_id=937 Accuracy=8.41: 100%|██████████| 938/938 [00:59<00:00, 15.77it/s]\n",
            "  0%|          | 0/938 [00:00<?, ?it/s]"
          ],
          "name": "stderr"
        },
        {
          "output_type": "stream",
          "text": [
            "\n",
            "Test set: Average loss: 2.3139, Accuracy: 625/10000 (6.25%)\n",
            "\n",
            "Validation loss has  decreased (inf --> 2.3139).  Saving model ...\n",
            "EPOCH: 5\n"
          ],
          "name": "stdout"
        },
        {
          "output_type": "stream",
          "text": [
            "Loss=2.3050663471221924 Batch_id=937 Accuracy=8.48: 100%|██████████| 938/938 [00:57<00:00, 16.27it/s]\n",
            "  0%|          | 0/938 [00:00<?, ?it/s]"
          ],
          "name": "stderr"
        },
        {
          "output_type": "stream",
          "text": [
            "\n",
            "Test set: Average loss: 2.3092, Accuracy: 583/10000 (5.83%)\n",
            "\n",
            "Validation loss has  decreased (inf --> 2.3092).  Saving model ...\n",
            "EPOCH: 6\n"
          ],
          "name": "stdout"
        },
        {
          "output_type": "stream",
          "text": [
            "Loss=2.2920286655426025 Batch_id=937 Accuracy=8.56: 100%|██████████| 938/938 [00:57<00:00, 16.43it/s]\n",
            "  0%|          | 0/938 [00:00<?, ?it/s]"
          ],
          "name": "stderr"
        },
        {
          "output_type": "stream",
          "text": [
            "\n",
            "Test set: Average loss: 2.3061, Accuracy: 606/10000 (6.06%)\n",
            "\n",
            "Validation loss has  decreased (inf --> 2.3061).  Saving model ...\n",
            "EPOCH: 7\n"
          ],
          "name": "stdout"
        },
        {
          "output_type": "stream",
          "text": [
            "Loss=2.2626795768737793 Batch_id=937 Accuracy=8.68: 100%|██████████| 938/938 [00:57<00:00, 16.26it/s]\n",
            "  0%|          | 0/938 [00:00<?, ?it/s]"
          ],
          "name": "stderr"
        },
        {
          "output_type": "stream",
          "text": [
            "\n",
            "Test set: Average loss: 2.3039, Accuracy: 644/10000 (6.44%)\n",
            "\n",
            "Validation loss has  decreased (inf --> 2.3039).  Saving model ...\n",
            "EPOCH: 8\n"
          ],
          "name": "stdout"
        },
        {
          "output_type": "stream",
          "text": [
            "Loss=2.3424808979034424 Batch_id=937 Accuracy=8.37: 100%|██████████| 938/938 [00:57<00:00, 16.29it/s]\n",
            "  0%|          | 0/938 [00:00<?, ?it/s]"
          ],
          "name": "stderr"
        },
        {
          "output_type": "stream",
          "text": [
            "\n",
            "Test set: Average loss: 2.3030, Accuracy: 683/10000 (6.83%)\n",
            "\n",
            "Validation loss has  decreased (inf --> 2.3030).  Saving model ...\n",
            "EPOCH: 9\n"
          ],
          "name": "stdout"
        },
        {
          "output_type": "stream",
          "text": [
            "Loss=2.3092339038848877 Batch_id=937 Accuracy=8.41: 100%|██████████| 938/938 [00:57<00:00, 16.43it/s]\n",
            "  0%|          | 0/938 [00:00<?, ?it/s]"
          ],
          "name": "stderr"
        },
        {
          "output_type": "stream",
          "text": [
            "\n",
            "Test set: Average loss: 2.3024, Accuracy: 936/10000 (9.36%)\n",
            "\n",
            "Validation loss has  decreased (inf --> 2.3024).  Saving model ...\n",
            "EPOCH: 10\n"
          ],
          "name": "stdout"
        },
        {
          "output_type": "stream",
          "text": [
            "Loss=2.3034262657165527 Batch_id=937 Accuracy=8.48: 100%|██████████| 938/938 [00:55<00:00, 16.84it/s]\n",
            "  0%|          | 0/938 [00:00<?, ?it/s]"
          ],
          "name": "stderr"
        },
        {
          "output_type": "stream",
          "text": [
            "\n",
            "Test set: Average loss: 2.3022, Accuracy: 1366/10000 (13.66%)\n",
            "\n",
            "Validation loss has  decreased (inf --> 2.3022).  Saving model ...\n",
            "EPOCH: 11\n"
          ],
          "name": "stdout"
        },
        {
          "output_type": "stream",
          "text": [
            "Loss=2.31913161277771 Batch_id=937 Accuracy=8.32: 100%|██████████| 938/938 [00:56<00:00, 16.58it/s]\n",
            "  0%|          | 0/938 [00:00<?, ?it/s]"
          ],
          "name": "stderr"
        },
        {
          "output_type": "stream",
          "text": [
            "\n",
            "Test set: Average loss: 2.3026, Accuracy: 1065/10000 (10.65%)\n",
            "\n",
            "Validation loss has  decreased (inf --> 2.3026).  Saving model ...\n",
            "EPOCH: 12\n"
          ],
          "name": "stdout"
        },
        {
          "output_type": "stream",
          "text": [
            "Loss=2.330475091934204 Batch_id=937 Accuracy=8.31: 100%|██████████| 938/938 [00:54<00:00, 17.20it/s]\n",
            "  0%|          | 0/938 [00:00<?, ?it/s]"
          ],
          "name": "stderr"
        },
        {
          "output_type": "stream",
          "text": [
            "\n",
            "Test set: Average loss: 2.3026, Accuracy: 802/10000 (8.02%)\n",
            "\n",
            "Validation loss has  decreased (inf --> 2.3026).  Saving model ...\n",
            "EPOCH: 13\n"
          ],
          "name": "stdout"
        },
        {
          "output_type": "stream",
          "text": [
            "Loss=2.269139051437378 Batch_id=937 Accuracy=8.53: 100%|██████████| 938/938 [00:55<00:00, 16.93it/s]\n",
            "  0%|          | 0/938 [00:00<?, ?it/s]"
          ],
          "name": "stderr"
        },
        {
          "output_type": "stream",
          "text": [
            "\n",
            "Test set: Average loss: 2.3026, Accuracy: 1009/10000 (10.09%)\n",
            "\n",
            "Validation loss has  decreased (inf --> 2.3026).  Saving model ...\n",
            "EPOCH: 14\n"
          ],
          "name": "stdout"
        },
        {
          "output_type": "stream",
          "text": [
            "Loss=2.3328723907470703 Batch_id=937 Accuracy=8.48: 100%|██████████| 938/938 [00:54<00:00, 17.33it/s]\n",
            "  0%|          | 0/938 [00:00<?, ?it/s]"
          ],
          "name": "stderr"
        },
        {
          "output_type": "stream",
          "text": [
            "\n",
            "Test set: Average loss: 2.3026, Accuracy: 1009/10000 (10.09%)\n",
            "\n",
            "Validation loss has  decreased (inf --> 2.3026).  Saving model ...\n",
            "EPOCH: 15\n"
          ],
          "name": "stdout"
        },
        {
          "output_type": "stream",
          "text": [
            "Loss=2.2982773780822754 Batch_id=937 Accuracy=8.31: 100%|██████████| 938/938 [00:54<00:00, 17.31it/s]\n",
            "  0%|          | 0/938 [00:00<?, ?it/s]"
          ],
          "name": "stderr"
        },
        {
          "output_type": "stream",
          "text": [
            "\n",
            "Test set: Average loss: 2.3026, Accuracy: 1009/10000 (10.09%)\n",
            "\n",
            "Validation loss has  decreased (inf --> 2.3026).  Saving model ...\n",
            "EPOCH: 16\n"
          ],
          "name": "stdout"
        },
        {
          "output_type": "stream",
          "text": [
            "Loss=2.3085405826568604 Batch_id=937 Accuracy=8.45: 100%|██████████| 938/938 [00:53<00:00, 17.59it/s]\n",
            "  0%|          | 0/938 [00:00<?, ?it/s]"
          ],
          "name": "stderr"
        },
        {
          "output_type": "stream",
          "text": [
            "\n",
            "Test set: Average loss: 2.3026, Accuracy: 1009/10000 (10.09%)\n",
            "\n",
            "Validation loss has  decreased (inf --> 2.3026).  Saving model ...\n",
            "EPOCH: 17\n"
          ],
          "name": "stdout"
        },
        {
          "output_type": "stream",
          "text": [
            "Loss=2.3123812675476074 Batch_id=937 Accuracy=8.45: 100%|██████████| 938/938 [00:53<00:00, 17.50it/s]\n",
            "  0%|          | 0/938 [00:00<?, ?it/s]"
          ],
          "name": "stderr"
        },
        {
          "output_type": "stream",
          "text": [
            "\n",
            "Test set: Average loss: 2.3026, Accuracy: 1009/10000 (10.09%)\n",
            "\n",
            "Validation loss has  decreased (inf --> 2.3026).  Saving model ...\n",
            "EPOCH: 18\n"
          ],
          "name": "stdout"
        },
        {
          "output_type": "stream",
          "text": [
            "Loss=2.3060407638549805 Batch_id=937 Accuracy=8.35: 100%|██████████| 938/938 [00:52<00:00, 17.93it/s]\n",
            "  0%|          | 0/938 [00:00<?, ?it/s]"
          ],
          "name": "stderr"
        },
        {
          "output_type": "stream",
          "text": [
            "\n",
            "Test set: Average loss: 2.3026, Accuracy: 1009/10000 (10.09%)\n",
            "\n",
            "Validation loss has  decreased (inf --> 2.3026).  Saving model ...\n",
            "EPOCH: 19\n"
          ],
          "name": "stdout"
        },
        {
          "output_type": "stream",
          "text": [
            "Loss=2.2664968967437744 Batch_id=937 Accuracy=8.52: 100%|██████████| 938/938 [00:52<00:00, 17.85it/s]\n",
            "  0%|          | 0/938 [00:00<?, ?it/s]"
          ],
          "name": "stderr"
        },
        {
          "output_type": "stream",
          "text": [
            "\n",
            "Test set: Average loss: 2.3026, Accuracy: 1009/10000 (10.09%)\n",
            "\n",
            "Validation loss has  decreased (inf --> 2.3026).  Saving model ...\n",
            "EPOCH: 20\n"
          ],
          "name": "stdout"
        },
        {
          "output_type": "stream",
          "text": [
            "Loss=2.318099021911621 Batch_id=937 Accuracy=8.29: 100%|██████████| 938/938 [00:53<00:00, 17.65it/s]\n",
            "  0%|          | 0/938 [00:00<?, ?it/s]"
          ],
          "name": "stderr"
        },
        {
          "output_type": "stream",
          "text": [
            "\n",
            "Test set: Average loss: 2.3026, Accuracy: 1009/10000 (10.09%)\n",
            "\n",
            "Validation loss has  decreased (inf --> 2.3026).  Saving model ...\n",
            "EPOCH: 21\n"
          ],
          "name": "stdout"
        },
        {
          "output_type": "stream",
          "text": [
            "Loss=2.302635669708252 Batch_id=937 Accuracy=8.57: 100%|██████████| 938/938 [00:53<00:00, 17.50it/s]\n",
            "  0%|          | 0/938 [00:00<?, ?it/s]"
          ],
          "name": "stderr"
        },
        {
          "output_type": "stream",
          "text": [
            "\n",
            "Test set: Average loss: 2.3026, Accuracy: 1009/10000 (10.09%)\n",
            "\n",
            "Validation loss has  decreased (inf --> 2.3026).  Saving model ...\n",
            "EPOCH: 22\n"
          ],
          "name": "stdout"
        },
        {
          "output_type": "stream",
          "text": [
            "Loss=2.3167965412139893 Batch_id=937 Accuracy=8.31: 100%|██████████| 938/938 [00:52<00:00, 17.80it/s]\n",
            "  0%|          | 0/938 [00:00<?, ?it/s]"
          ],
          "name": "stderr"
        },
        {
          "output_type": "stream",
          "text": [
            "\n",
            "Test set: Average loss: 2.3026, Accuracy: 1009/10000 (10.09%)\n",
            "\n",
            "Validation loss has  decreased (inf --> 2.3026).  Saving model ...\n",
            "EPOCH: 23\n"
          ],
          "name": "stdout"
        },
        {
          "output_type": "stream",
          "text": [
            "Loss=2.3036208152770996 Batch_id=937 Accuracy=8.54: 100%|██████████| 938/938 [00:52<00:00, 17.77it/s]\n",
            "  0%|          | 0/938 [00:00<?, ?it/s]"
          ],
          "name": "stderr"
        },
        {
          "output_type": "stream",
          "text": [
            "\n",
            "Test set: Average loss: 2.3026, Accuracy: 1009/10000 (10.09%)\n",
            "\n",
            "Validation loss has  decreased (inf --> 2.3026).  Saving model ...\n",
            "EPOCH: 24\n"
          ],
          "name": "stdout"
        },
        {
          "output_type": "stream",
          "text": [
            "Loss=2.3271520137786865 Batch_id=937 Accuracy=8.39: 100%|██████████| 938/938 [00:55<00:00, 16.96it/s]\n",
            "  0%|          | 0/938 [00:00<?, ?it/s]"
          ],
          "name": "stderr"
        },
        {
          "output_type": "stream",
          "text": [
            "\n",
            "Test set: Average loss: 2.3026, Accuracy: 1009/10000 (10.09%)\n",
            "\n",
            "Validation loss has  decreased (inf --> 2.3026).  Saving model ...\n",
            "EPOCH: 25\n"
          ],
          "name": "stdout"
        },
        {
          "output_type": "stream",
          "text": [
            "Loss=2.3009579181671143 Batch_id=937 Accuracy=8.35: 100%|██████████| 938/938 [00:54<00:00, 17.27it/s]\n"
          ],
          "name": "stderr"
        },
        {
          "output_type": "stream",
          "text": [
            "\n",
            "Test set: Average loss: 2.3026, Accuracy: 1009/10000 (10.09%)\n",
            "\n",
            "Validation loss has  decreased (inf --> 2.3026).  Saving model ...\n"
          ],
          "name": "stdout"
        },
        {
          "output_type": "error",
          "ename": "TypeError",
          "evalue": "ignored",
          "traceback": [
            "\u001b[0;31m---------------------------------------------------------------------------\u001b[0m",
            "\u001b[0;31mTypeError\u001b[0m                                 Traceback (most recent call last)",
            "\u001b[0;32m<ipython-input-59-da8d399a7bd8>\u001b[0m in \u001b[0;36m<module>\u001b[0;34m()\u001b[0m\n\u001b[1;32m      1\u001b[0m modelTuple = iter(\n\u001b[1;32m      2\u001b[0m   \u001b[0mwithL2_GBN\u001b[0m\u001b[0;34m(\u001b[0m\u001b[0;34m)\u001b[0m\u001b[0;34m,\u001b[0m\u001b[0;34m\u001b[0m\u001b[0;34m\u001b[0m\u001b[0m\n\u001b[0;32m----> 3\u001b[0;31m   withL1_L2_GBN())\n\u001b[0m\u001b[1;32m      4\u001b[0m \u001b[0;34m\u001b[0m\u001b[0m\n\u001b[1;32m      5\u001b[0m \u001b[0mprint\u001b[0m\u001b[0;34m(\u001b[0m\u001b[0mmodelTuple\u001b[0m\u001b[0;34m.\u001b[0m\u001b[0m__next__\u001b[0m\u001b[0;34m(\u001b[0m\u001b[0;34m)\u001b[0m\u001b[0;34m)\u001b[0m\u001b[0;34m\u001b[0m\u001b[0;34m\u001b[0m\u001b[0m\n",
            "\u001b[0;31mTypeError\u001b[0m: iter(v, w): v must be callable"
          ]
        }
      ]
    },
    {
      "cell_type": "code",
      "metadata": {
        "id": "zpz15VvAbgCj",
        "colab_type": "code",
        "colab": {
          "base_uri": "https://localhost:8080/",
          "height": 621
        },
        "outputId": "6d840bb4-872f-4c26-b168-6771e753914b"
      },
      "source": [
        "import matplotlib.pyplot as plt\n",
        "\n",
        "plt.figure(figsize=(15, 10))\n",
        "ax = plt.subplot(111)\n",
        "ax.plot(acc5)\n",
        "ax.plot(acc6)\n",
        "ax.plot(acc7)\n",
        "ax.plot(acc8)\n",
        "ax.set(title=\"Model Validation Accuracy of 4 Models with Batch-Normalization\", xlabel=\"Epoch\", ylabel=\"Accuracy\")\n",
        "ax.legend(['without L1 and L2', 'with L1', 'with L2', 'with L1 and L2'], loc='best')\n",
        "plt.savefig(\"Accuracyof4modelswithBN.png\")\n",
        "plt.show()"
      ],
      "execution_count": 60,
      "outputs": [
        {
          "output_type": "display_data",
          "data": {
            "image/png": "[encoded data removed]",
            "text/plain": [
              "<Figure size 1080x720 with 1 Axes>"
            ]
          },
          "metadata": {
            "tags": [],
            "needs_background": "light"
          }
        }
      ]
    },
    {
      "cell_type": "code",
      "metadata": {
        "id": "T3wvQqTzbrJX",
        "colab_type": "code",
        "colab": {
          "base_uri": "https://localhost:8080/",
          "height": 621
        },
        "outputId": "6c588534-299f-4b91-f378-a8c14998749d"
      },
      "source": [
        "# Validation Loss \n",
        "plt.figure(figsize = (15,10))\n",
        "ax = plt.subplot(111)\n",
        "ax.plot(loss5)\n",
        "ax.plot(loss6)\n",
        "ax.plot(loss7)\n",
        "ax.plot(loss8)\n",
        "ax.set(title='Validation Losses of 4 Models', xlabel='Epoch', ylabel = 'Loss')\n",
        "ax.legend(['without L1 & L2', 'with L1', 'with L2', 'with L1 & L2'], loc = 'best')\n",
        "plt.savefig('ValidationLossesBN.png')\n",
        "plt.show()"
      ],
      "execution_count": 61,
      "outputs": [
        {
          "output_type": "display_data",
          "data": {
            "image/png": "[encoded data removed]",
            "text/plain": [
              "<Figure size 1080x720 with 1 Axes>"
            ]
          },
          "metadata": {
            "tags": [],
            "needs_background": "light"
          }
        }
      ]
    },
    {
      "cell_type": "code",
      "metadata": {
        "id": "1AvGwr4dD_7v",
        "colab_type": "code",
        "colab": {}
      },
      "source": [
        "def misclassifiedOnes1(model, filename):\n",
        "  model = model.to(device)\n",
        "  dataiter = iter(test_loader) \n",
        "  count = 0\n",
        "  fig = plt.figure(figsize=(13,13))\n",
        "\n",
        "  while count<25:\n",
        "      images, labels = dataiter.next()\n",
        "      images, labels = images.to(device), labels.to(device)\n",
        "    \n",
        "      output = model(images) \n",
        "      _, pred = torch.max(output, 1)   # convert output probabilities to predicted class\n",
        "      images = images.cpu().numpy() # conv images to numpy format\n",
        "\n",
        "      for idx in np.arange(64):\n",
        "        if pred[idx]!=labels[idx]:\n",
        "          ax = fig.add_subplot(5, 5, count+1, xticks=[], yticks=[])\n",
        "          count=count+1\n",
        "          ax.imshow(np.squeeze(images[idx]), cmap='cool')\n",
        "          ax.set_title(\"Pred-{} (Target-{})\".format(str(pred[idx].item()), str(labels[idx].item())), color=\"yellow\")\n",
        "          if count==25:\n",
        "            break\n",
        "      plt.savefig(filename)\n",
        "   "
      ],
      "execution_count": 0,
      "outputs": []
    },
    {
      "cell_type": "code",
      "metadata": {
        "id": "udQlgjEhvs4z",
        "colab_type": "code",
        "colab": {
          "base_uri": "https://localhost:8080/",
          "height": 531
        },
        "outputId": "4783dde6-e232-49cb-a2ac-0c37cd621561"
      },
      "source": [
        "print('Misclassifed Images from Model5')\n",
        "print('*'*30)\n",
        "\n",
        "model.load_state_dict(torch.load(\"model5.pt\")) \n",
        "misclassifiedOnes1(model,'withoutL1_L2_GBN.png')"
      ],
      "execution_count": 65,
      "outputs": [
        {
          "output_type": "stream",
          "text": [
            "Misclassifed Images from Model5\n",
            "******************************\n"
          ],
          "name": "stdout"
        },
        {
          "output_type": "error",
          "ename": "RuntimeError",
          "evalue": "ignored",
          "traceback": [
            "\u001b[0;31m---------------------------------------------------------------------------\u001b[0m",
            "\u001b[0;31mRuntimeError\u001b[0m                              Traceback (most recent call last)",
            "\u001b[0;32m<ipython-input-65-f2af733c28e4>\u001b[0m in \u001b[0;36m<module>\u001b[0;34m()\u001b[0m\n\u001b[1;32m      2\u001b[0m \u001b[0mprint\u001b[0m\u001b[0;34m(\u001b[0m\u001b[0;34m'*'\u001b[0m\u001b[0;34m*\u001b[0m\u001b[0;36m30\u001b[0m\u001b[0;34m)\u001b[0m\u001b[0;34m\u001b[0m\u001b[0;34m\u001b[0m\u001b[0m\n\u001b[1;32m      3\u001b[0m \u001b[0;34m\u001b[0m\u001b[0m\n\u001b[0;32m----> 4\u001b[0;31m \u001b[0mmodel\u001b[0m\u001b[0;34m.\u001b[0m\u001b[0mload_state_dict\u001b[0m\u001b[0;34m(\u001b[0m\u001b[0mtorch\u001b[0m\u001b[0;34m.\u001b[0m\u001b[0mload\u001b[0m\u001b[0;34m(\u001b[0m\u001b[0;34m\"model5.pt\"\u001b[0m\u001b[0;34m)\u001b[0m\u001b[0;34m)\u001b[0m\u001b[0;34m\u001b[0m\u001b[0;34m\u001b[0m\u001b[0m\n\u001b[0m\u001b[1;32m      5\u001b[0m \u001b[0mmisclassifiedOnes1\u001b[0m\u001b[0;34m(\u001b[0m\u001b[0mmodel\u001b[0m\u001b[0;34m,\u001b[0m\u001b[0;34m'withoutL1_L2_GBN.png'\u001b[0m\u001b[0;34m)\u001b[0m\u001b[0;34m\u001b[0m\u001b[0;34m\u001b[0m\u001b[0m\n",
            "\u001b[0;32m/usr/local/lib/python3.6/dist-packages/torch/nn/modules/module.py\u001b[0m in \u001b[0;36mload_state_dict\u001b[0;34m(self, state_dict, strict)\u001b[0m\n\u001b[1;32m    845\u001b[0m         \u001b[0;32mif\u001b[0m \u001b[0mlen\u001b[0m\u001b[0;34m(\u001b[0m\u001b[0merror_msgs\u001b[0m\u001b[0;34m)\u001b[0m \u001b[0;34m>\u001b[0m \u001b[0;36m0\u001b[0m\u001b[0;34m:\u001b[0m\u001b[0;34m\u001b[0m\u001b[0;34m\u001b[0m\u001b[0m\n\u001b[1;32m    846\u001b[0m             raise RuntimeError('Error(s) in loading state_dict for {}:\\n\\t{}'.format(\n\u001b[0;32m--> 847\u001b[0;31m                                self.__class__.__name__, \"\\n\\t\".join(error_msgs)))\n\u001b[0m\u001b[1;32m    848\u001b[0m         \u001b[0;32mreturn\u001b[0m \u001b[0m_IncompatibleKeys\u001b[0m\u001b[0;34m(\u001b[0m\u001b[0mmissing_keys\u001b[0m\u001b[0;34m,\u001b[0m \u001b[0munexpected_keys\u001b[0m\u001b[0;34m)\u001b[0m\u001b[0;34m\u001b[0m\u001b[0;34m\u001b[0m\u001b[0m\n\u001b[1;32m    849\u001b[0m \u001b[0;34m\u001b[0m\u001b[0m\n",
            "\u001b[0;31mRuntimeError\u001b[0m: Error(s) in loading state_dict for Net:\n\tsize mismatch for convblock1.2.running_mean: copying a param with shape torch.Size([16]) from checkpoint, the shape in current model is torch.Size([8]).\n\tsize mismatch for convblock1.2.running_var: copying a param with shape torch.Size([16]) from checkpoint, the shape in current model is torch.Size([8]).\n\tsize mismatch for convblock2.2.running_mean: copying a param with shape torch.Size([20]) from checkpoint, the shape in current model is torch.Size([10]).\n\tsize mismatch for convblock2.2.running_var: copying a param with shape torch.Size([20]) from checkpoint, the shape in current model is torch.Size([10]).\n\tsize mismatch for convblock3.2.running_mean: copying a param with shape torch.Size([32]) from checkpoint, the shape in current model is torch.Size([16]).\n\tsize mismatch for convblock3.2.running_var: copying a param with shape torch.Size([32]) from checkpoint, the shape in current model is torch.Size([16]).\n\tsize mismatch for convblock4.2.running_mean: copying a param with shape torch.Size([32]) from checkpoint, the shape in current model is torch.Size([16]).\n\tsize mismatch for convblock4.2.running_var: copying a param with shape torch.Size([32]) from checkpoint, the shape in current model is torch.Size([16]).\n\tsize mismatch for convblock5.2.running_mean: copying a param with shape torch.Size([32]) from checkpoint, the shape in current model is torch.Size([16]).\n\tsize mismatch for convblock5.2.running_var: copying a param with shape torch.Size([32]) from checkpoint, the shape in current model is torch.Size([16])."
          ]
        }
      ]
    },
    {
      "cell_type": "code",
      "metadata": {
        "id": "YP2S4Cp7vvdg",
        "colab_type": "code",
        "colab": {}
      },
      "source": [
        "print('Misclassifed Images from Model6')\n",
        "print('*'*30)\n",
        "\n",
        "model.load_state_dict(torch.load(\"model5.pt\")) \n",
        "misclassifiedOnes(model,'withL1_GBN.png')"
      ],
      "execution_count": 0,
      "outputs": []
    },
    {
      "cell_type": "code",
      "metadata": {
        "id": "T6W6t1uavwIF",
        "colab_type": "code",
        "colab": {}
      },
      "source": [
        "print('Misclassifed Images from Model7')\n",
        "print('*'*30)\n",
        "\n",
        "model.load_state_dict(torch.load(\"model7.pt\")) \n",
        "misclassifiedOnes(model,'withL2_GBN.png')"
      ],
      "execution_count": 0,
      "outputs": []
    },
    {
      "cell_type": "code",
      "metadata": {
        "id": "rEXr4Jyfvwdd",
        "colab_type": "code",
        "colab": {}
      },
      "source": [
        "print('Misclassifed Images from Model8')\n",
        "print('*'*30)\n",
        "\n",
        "model.load_state_dict(torch.load(\"model8.pt\")) \n",
        "misclassifiedOnes(model,'withL1_L2_GBN.png')"
      ],
      "execution_count": 0,
      "outputs": []
    }
  ]
}