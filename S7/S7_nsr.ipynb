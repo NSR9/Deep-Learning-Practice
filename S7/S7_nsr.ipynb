{
  "nbformat": 4,
  "nbformat_minor": 0,
  "metadata": {
    "kernelspec": {
      "name": "python3",
      "display_name": "Python 3"
    },
    "language_info": {
      "codemirror_mode": {
        "name": "ipython",
        "version": 3
      },
      "file_extension": ".py",
      "mimetype": "text/x-python",
      "name": "python",
      "nbconvert_exporter": "python",
      "pygments_lexer": "ipython3",
      "version": "3.6.6"
    },
    "colab": {
      "name": "S7_nsr.ipynb",
      "provenance": [],
      "collapsed_sections": [],
      "include_colab_link": true
    },
    "accelerator": "GPU"
  },
  "cells": [
    {
      "cell_type": "markdown",
      "metadata": {
        "id": "view-in-github",
        "colab_type": "text"
      },
      "source": [
        "<a href=\"https://colab.research.google.com/github/NSR9/PythonForML-AI-Notes/blob/master/S7/S7_nsr.ipynb\" target=\"_parent\"><img src=\"https://colab.research.google.com/assets/colab-badge.svg\" alt=\"Open In Colab\"/></a>"
      ]
    },
    {
      "cell_type": "code",
      "metadata": {
        "id": "QVbdg0z4poCc",
        "colab_type": "code",
        "colab": {}
      },
      "source": [
        "%matplotlib inline"
      ],
      "execution_count": 0,
      "outputs": []
    },
    {
      "cell_type": "markdown",
      "metadata": {
        "id": "fPogbueepoCh",
        "colab_type": "text"
      },
      "source": [
        "\n",
        "Training a Classifier\n",
        "=====================\n",
        "\n",
        "This is it. You have seen how to define neural networks, compute loss and make\n",
        "updates to the weights of the network.\n",
        "\n",
        "Now you might be thinking,\n",
        "\n",
        "What about data?\n",
        "----------------\n",
        "\n",
        "Generally, when you have to deal with image, text, audio or video data,\n",
        "you can use standard python packages that load data into a numpy array.\n",
        "Then you can convert this array into a ``torch.*Tensor``.\n",
        "\n",
        "-  For images, packages such as Pillow, OpenCV are useful\n",
        "-  For audio, packages such as scipy and librosa\n",
        "-  For text, either raw Python or Cython based loading, or NLTK and\n",
        "   SpaCy are useful\n",
        "\n",
        "Specifically for vision, we have created a package called\n",
        "``torchvision``, that has data loaders for common datasets such as\n",
        "Imagenet, CIFAR10, MNIST, etc. and data transformers for images, viz.,\n",
        "``torchvision.datasets`` and ``torch.utils.data.DataLoader``.\n",
        "\n",
        "This provides a huge convenience and avoids writing boilerplate code.\n",
        "\n",
        "For this tutorial, we will use the CIFAR10 dataset.\n",
        "It has the classes: ‘airplane’, ‘automobile’, ‘bird’, ‘cat’, ‘deer’,\n",
        "‘dog’, ‘frog’, ‘horse’, ‘ship’, ‘truck’. The images in CIFAR-10 are of\n",
        "size 3x32x32, i.e. 3-channel color images of 32x32 pixels in size.\n",
        "\n",
        ".. figure:: /_static/img/cifar10.png\n",
        "   :alt: cifar10\n",
        "\n",
        "   cifar10\n",
        "\n",
        "\n",
        "Training an image classifier\n",
        "----------------------------\n",
        "\n",
        "We will do the following steps in order:\n",
        "\n",
        "1. Load and normalizing the CIFAR10 training and test datasets using\n",
        "   ``torchvision``\n",
        "2. Define a Convolution Neural Network\n",
        "3. Define a loss function\n",
        "4. Train the network on the training data\n",
        "5. Test the network on the test data\n",
        "\n",
        "1. Loading and normalizing CIFAR10\n",
        "^^^^^^^^^^^^^^^^^^^^^^^^^^^^^^^^^^\n",
        "\n",
        "Using ``torchvision``, it’s extremely easy to load CIFAR10.\n",
        "\n"
      ]
    },
    {
      "cell_type": "code",
      "metadata": {
        "id": "-yVpodAMpoCi",
        "colab_type": "code",
        "colab": {}
      },
      "source": [
        "import torch\n",
        "import torchvision\n",
        "import torchvision.transforms as transforms"
      ],
      "execution_count": 0,
      "outputs": []
    },
    {
      "cell_type": "markdown",
      "metadata": {
        "id": "5kjt4e2TpoCk",
        "colab_type": "text"
      },
      "source": [
        "The output of torchvision datasets are PILImage images of range [0, 1].\n",
        "We transform them to Tensors of normalized range [-1, 1].\n",
        "\n"
      ]
    },
    {
      "cell_type": "code",
      "metadata": {
        "id": "D8Tjigo2poCl",
        "colab_type": "code",
        "outputId": "87dcc667-247f-4844-8a44-ea90bbc666e5",
        "colab": {
          "base_uri": "https://localhost:8080/",
          "height": 50
        }
      },
      "source": [
        "transform = transforms.Compose(\n",
        "    [transforms.ToTensor(),\n",
        "     transforms.Normalize((0.5, 0.5, 0.5), (0.5, 0.5, 0.5))])\n",
        "\n",
        "trainset = torchvision.datasets.CIFAR10(root='./data', train=True,\n",
        "                                        download=True, transform=transform)\n",
        "trainloader = torch.utils.data.DataLoader(trainset, batch_size=64,\n",
        "                                          shuffle=True, num_workers=2)\n",
        "\n",
        "testset = torchvision.datasets.CIFAR10(root='./data', train=False,\n",
        "                                       download=True, transform=transform)\n",
        "testloader = torch.utils.data.DataLoader(testset, batch_size=64,\n",
        "                                         shuffle=False, num_workers=2)\n",
        "\n",
        "classes = ('plane', 'car', 'bird', 'cat',\n",
        "           'deer', 'dog', 'frog', 'horse', 'ship', 'truck')"
      ],
      "execution_count": 3,
      "outputs": [
        {
          "output_type": "stream",
          "text": [
            "Files already downloaded and verified\n",
            "Files already downloaded and verified\n"
          ],
          "name": "stdout"
        }
      ]
    },
    {
      "cell_type": "markdown",
      "metadata": {
        "id": "_cj433rtpoCn",
        "colab_type": "text"
      },
      "source": [
        "Let us show some of the training images, for fun.\n",
        "\n"
      ]
    },
    {
      "cell_type": "code",
      "metadata": {
        "id": "daA7bADhpoCo",
        "colab_type": "code",
        "outputId": "643704f1-869d-47f6-a661-fede6b28a8d3",
        "colab": {
          "base_uri": "https://localhost:8080/",
          "height": 353
        }
      },
      "source": [
        "import matplotlib.pyplot as plt\n",
        "import numpy as np\n",
        "\n",
        "# functions to show an image\n",
        "\n",
        "\n",
        "def imshow(img):\n",
        "    img = img / 2 + 0.5     # unnormalize\n",
        "    npimg = img.numpy()\n",
        "    plt.imshow(np.transpose(npimg, (1, 2, 0)))\n",
        "\n",
        "\n",
        "# get some random training images\n",
        "dataiter = iter(trainloader)\n",
        "size = trainset.data.size\n",
        "shape = trainset.data.shape\n",
        "print(shape)\n",
        "print(size/2000)\n",
        "images, labels = dataiter.next()\n",
        "print(images.shape)\n",
        "print(labels.shape)\n",
        "# show images\n",
        "imshow(torchvision.utils.make_grid(images))\n",
        "# print labels\n",
        "print(' '.join('%5s' % classes[labels[j]] for j in range(4)))"
      ],
      "execution_count": 4,
      "outputs": [
        {
          "output_type": "stream",
          "text": [
            "(50000, 32, 32, 3)\n",
            "76800.0\n",
            "torch.Size([64, 3, 32, 32])\n",
            "torch.Size([64])\n",
            "horse plane plane horse\n"
          ],
          "name": "stdout"
        },
        {
          "output_type": "display_data",
          "data": {
            "image/png": "[encoded data removed]",
            "text/plain": [
              "<Figure size 432x288 with 1 Axes>"
            ]
          },
          "metadata": {
            "tags": [],
            "needs_background": "light"
          }
        }
      ]
    },
    {
      "cell_type": "markdown",
      "metadata": {
        "id": "28OpHA_LpoCq",
        "colab_type": "text"
      },
      "source": [
        "2. Define a Convolution Neural Network\n",
        "^^^^^^^^^^^^^^^^^^^^^^^^^^^^^^^^^^^^^^\n",
        "Copy the neural network from the Neural Networks section before and modify it to\n",
        "take 3-channel images (instead of 1-channel images as it was defined).\n",
        "\n"
      ]
    },
    {
      "cell_type": "code",
      "metadata": {
        "id": "0jjLwLLQpoCr",
        "colab_type": "code",
        "colab": {}
      },
      "source": [
        "import torch\n",
        "import torch.nn as nn\n",
        "import torch.nn.functional as F\n",
        "\n",
        "\n",
        "class DepthwiseSeparableConv2d(nn.Module):\n",
        "    def __init__(self, input, output, padding=0, bias=False):\n",
        "        super(DepthwiseSeparableConv2d, self).__init__()\n",
        "        self.depthwise = nn.Conv2d(input, input, kernel_size=3, padding=padding, groups=input, bias=bias)\n",
        "        self.pointwise = nn.Conv2d(input, output, kernel_size=1)\n",
        "\n",
        "    def forward(self, x):\n",
        "        out = self.depthwise(x)\n",
        "        out = self.pointwise(out)\n",
        "        return out\n",
        "\n",
        "\n",
        "\n",
        "class Net(nn.Module):\n",
        "    def __init__(self):\n",
        "        super(Net, self).__init__()\n",
        "\n",
        "        # Convolution block - 1\n",
        "        self.conv1 = nn.Sequential( nn.Conv2d(in_channels = 3, out_channels = 16, kernel_size = (3,3), padding = 1,  bias = False),\n",
        "                                    nn.ReLU(),\n",
        "                                    nn.BatchNorm2d(16)) # size = 32  rf = 3\n",
        "        \n",
        "        self.conv2 = nn.Sequential( nn.Conv2d(in_channels = 16, out_channels = 32, kernel_size = (3,3), padding = 1,bias = False),\n",
        "                                    nn.ReLU(),\n",
        "                                    nn.BatchNorm2d(32)) # size = 32  rf = 5\n",
        "        \n",
        "        \n",
        "         #Dilated convolution\n",
        "         \n",
        "        self.dilatedconv1 = nn.Sequential( nn.Conv2d(in_channels = 32, out_channels = 32, kernel_size = (3,3), padding = 2, dilation = 2, bias = False),\n",
        "                                    nn.ReLU(),\n",
        "                                    nn.BatchNorm2d(32)) # size = 32  rf = 9\n",
        "                             \n",
        "        self.dilatedconv2 = nn.Sequential( nn.Conv2d(in_channels = 32, out_channels = 64, kernel_size = (3,3), padding = 1, dilation = 2, bias = False),\n",
        "                                    nn.ReLU(),\n",
        "                                    nn.BatchNorm2d(64))# size = 30  rf = 13\n",
        "\n",
        "\n",
        "        \n",
        "        # Maxpooling-1 and Transition block - 1\n",
        "        self.pool1 = nn.MaxPool2d(2, 2) # size = 15  rf= 13+(1)*1 = 14\n",
        "        self.transition1 = nn.Sequential( nn.Conv2d(in_channels = 64, out_channels = 16, kernel_size = (1,1), padding = 0, bias = False),\n",
        "                                    nn.ReLU(),\n",
        "                                    nn.BatchNorm2d(16)) # size = 15  rf = 14\n",
        "\n",
        "\n",
        "\n",
        "\n",
        "        #Convolution block - 2 \n",
        "        self.conv3 = nn.Sequential( nn.Conv2d(in_channels = 16, out_channels = 32, kernel_size = (3,3), padding = 1, bias = False),\n",
        "                                    nn.ReLU(),\n",
        "                                    nn.BatchNorm2d(32))# size = 15  rf = 18\n",
        "    \n",
        "        #Dilated convolution\n",
        "        self.dilatedconv3 = nn.Sequential( nn.Conv2d(in_channels = 32, out_channels = 64, kernel_size = (3,3), padding = 2,dilation = 2, bias = False),\n",
        "                                    nn.ReLU(),\n",
        "                                    nn.BatchNorm2d(64)) # size = 15  rf = 26      \n",
        "\n",
        "        \n",
        "        self.conv4 = nn.Sequential( nn.Conv2d(in_channels = 64, out_channels = 128, kernel_size = (3,3), padding = 1, bias = False),\n",
        "                                    nn.ReLU(),\n",
        "                                    nn.BatchNorm2d(128))# size = 15  rf = 28\n",
        "\n",
        "\n",
        "\n",
        "\n",
        "\n",
        "        #Maxpooling-2 and Transition block - 2\n",
        "        self.pool2 = nn.MaxPool2d(2,2) #Size = 7    rf = 30\n",
        "        self.transition2 = nn.Sequential( nn.Conv2d(in_channels = 128, out_channels = 32, kernel_size = (1,1), padding = 0, bias = False),\n",
        "                                    nn.ReLU(),\n",
        "                                    nn.BatchNorm2d(32)) # size = 7  rf = 30                       \n",
        "        \n",
        "\n",
        "\n",
        "\n",
        "\n",
        "        #Convolution block - 3 \n",
        "\n",
        "        #Depth wise seperable convolution implemented.\n",
        "        self.conv5 = nn.Sequential( #nn.Conv2d(in_channels = 32, out_channels = 64, kernel_size = (3,3), padding = 1, bias = False),\n",
        "                                    DepthwiseSeparableConv2d(32, 64, padding = 1, bias = False),\n",
        "                                    nn.ReLU(),\n",
        "                                    nn.BatchNorm2d(64)) # size = 7  rf = 38\n",
        "        \n",
        "        self.conv6 = nn.Sequential( nn.Conv2d(in_channels = 64, out_channels = 128, kernel_size = (3,3), padding = 1, bias = False),\n",
        "                                    nn.ReLU(),\n",
        "                                    nn.BatchNorm2d(128)) # size = 7  rf = 46\n",
        "                                   \n",
        "        self.conv7 = nn.Sequential(nn.Conv2d(in_channels = 128, out_channels = 256, kernel_size = (3,3), padding = 1, bias = False),\n",
        "                                    nn.ReLU(),\n",
        "                                    nn.BatchNorm2d(256))# size = 7  rf = 54\n",
        "\n",
        "\n",
        "\n",
        "\n",
        "\n",
        "        #Maxpooling - 3 and Transition block - 3\n",
        "        self.pool3 = nn.MaxPool2d(2,2)# size = 3  rf = 58\n",
        "        self.transition3 = nn.Sequential( nn.Conv2d(in_channels = 256, out_channels = 64, kernel_size = (1,1), padding = 0, bias = False),\n",
        "                                    nn.ReLU(),\n",
        "                                    nn.BatchNorm2d(64)) # size = 3  rf = 58\n",
        "\n",
        "\n",
        "\n",
        "\n",
        "\n",
        "        #Convolution block - 4\n",
        "        self.conv8 = nn.Sequential( nn.Conv2d(in_channels = 64, out_channels = 128, kernel_size = (3,3), padding = 1, bias = False)) # size = 3  \n",
        "        self.conv9 = nn.Sequential( nn.Conv2d(in_channels = 128, out_channels = 256, kernel_size = (3,3), padding = 1, bias = False))  # size = 3  \n",
        "\n",
        "\n",
        "        #Global average pooling\n",
        "        self.gap = nn.Sequential(nn.AvgPool2d(3)) # Global Average Pooling\n",
        "\n",
        "        self.drop = nn.Sequential(nn.Dropout(0.10))\n",
        "\n",
        "\n",
        "        #Fully connected layers.\n",
        "        self.fc1 = nn.Linear(256*1*1, 120)\n",
        "        self.fc2 = nn.Linear(120, 84)\n",
        "        self.fc3 = nn.Linear(84, 10)\n",
        "\n",
        "    def forward(self, x):\n",
        "       \n",
        "       \n",
        "        x = self.conv1(x)\n",
        "        x = self.drop(x)\n",
        "        x = self.conv2(x)\n",
        "        x = self.drop(x)\n",
        "        x = self.dilatedconv1(x)\n",
        "        x = self.drop(x)\n",
        "        x = self.dilatedconv2(x)\n",
        "        x = self.drop(x)\n",
        "\n",
        "\n",
        "        x = self.pool1(x)\n",
        "        x = self.transition1(x)\n",
        "        x = self.drop(x)\n",
        "\n",
        "\n",
        "\n",
        "        x = self.conv3(x)\n",
        "        x = self.drop(x)\n",
        "        x = self.dilatedconv3(x)\n",
        "        x = self.drop(x)\n",
        "        x = self.conv4(x)\n",
        "        x = self.drop(x)\n",
        "\n",
        "\n",
        "\n",
        "        x = self.pool2(x)\n",
        "        x = self.transition2(x)\n",
        "        x = self.drop(x)\n",
        "\n",
        "\n",
        "\n",
        "\n",
        "        x = self.conv5(x)\n",
        "        x = self.drop(x)\n",
        "        x = self.conv6(x)\n",
        "        x = self.drop(x)\n",
        "        x = self.conv7(x)\n",
        "        x = self.drop(x)\n",
        "\n",
        "\n",
        "\n",
        "        x = self.pool3(x)\n",
        "        x = self.transition3(x)\n",
        "        x = self.drop(x)\n",
        "\n",
        "\n",
        "\n",
        "        x = self.conv8(x)\n",
        "        x = self.drop(x)\n",
        "        x = self.conv9(x)\n",
        "        \n",
        "\n",
        "\n",
        "\n",
        "        x = self.gap(x)\n",
        "\n",
        "\n",
        "\n",
        "        x = x.view(-1,256*1*1)\n",
        "        x = F.relu(self.fc1(x))\n",
        "        x = F.relu(self.fc2(x))\n",
        "        x = self.fc3(x)\n",
        "      \n",
        "        return F.log_softmax(x, dim = -1)\n",
        "\n",
        "\n",
        "net = Net()"
      ],
      "execution_count": 0,
      "outputs": []
    },
    {
      "cell_type": "code",
      "metadata": {
        "id": "ZpRVZwXrKnor",
        "colab_type": "code",
        "outputId": "ff5df6cc-e796-4fc2-e8f9-4f64c59d6840",
        "colab": {
          "base_uri": "https://localhost:8080/",
          "height": 1000
        }
      },
      "source": [
        "!pip install torchsummary\n",
        "from torchsummary import summary\n",
        "use_cuda = torch.cuda.is_available()\n",
        "\n",
        "if use_cuda:\n",
        "  device = torch.device(\"cuda:0\")\n",
        "  print(\"running on GPU\")\n",
        "else:\n",
        "  device = torch.device(\"cpu\")\n",
        "  print(\"runnning on CPU\")  \n",
        "#device = torch.device(\"cuda\" if use_cuda else \"cpu\")\n",
        "model = Net().to(device)\n",
        "summary(model, input_size=(3, 32, 32))"
      ],
      "execution_count": 11,
      "outputs": [
        {
          "output_type": "stream",
          "text": [
            "Requirement already satisfied: torchsummary in /usr/local/lib/python3.6/dist-packages (1.5.1)\n",
            "running on GPU\n",
            "----------------------------------------------------------------\n",
            "        Layer (type)               Output Shape         Param #\n",
            "================================================================\n",
            "            Conv2d-1           [-1, 16, 32, 32]             432\n",
            "              ReLU-2           [-1, 16, 32, 32]               0\n",
            "       BatchNorm2d-3           [-1, 16, 32, 32]              32\n",
            "           Dropout-4           [-1, 16, 32, 32]               0\n",
            "            Conv2d-5           [-1, 32, 32, 32]           4,608\n",
            "              ReLU-6           [-1, 32, 32, 32]               0\n",
            "       BatchNorm2d-7           [-1, 32, 32, 32]              64\n",
            "           Dropout-8           [-1, 32, 32, 32]               0\n",
            "            Conv2d-9           [-1, 32, 32, 32]           9,216\n",
            "             ReLU-10           [-1, 32, 32, 32]               0\n",
            "      BatchNorm2d-11           [-1, 32, 32, 32]              64\n",
            "          Dropout-12           [-1, 32, 32, 32]               0\n",
            "           Conv2d-13           [-1, 64, 30, 30]          18,432\n",
            "             ReLU-14           [-1, 64, 30, 30]               0\n",
            "      BatchNorm2d-15           [-1, 64, 30, 30]             128\n",
            "          Dropout-16           [-1, 64, 30, 30]               0\n",
            "        MaxPool2d-17           [-1, 64, 15, 15]               0\n",
            "           Conv2d-18           [-1, 16, 15, 15]           1,024\n",
            "             ReLU-19           [-1, 16, 15, 15]               0\n",
            "      BatchNorm2d-20           [-1, 16, 15, 15]              32\n",
            "          Dropout-21           [-1, 16, 15, 15]               0\n",
            "           Conv2d-22           [-1, 32, 15, 15]           4,608\n",
            "             ReLU-23           [-1, 32, 15, 15]               0\n",
            "      BatchNorm2d-24           [-1, 32, 15, 15]              64\n",
            "          Dropout-25           [-1, 32, 15, 15]               0\n",
            "           Conv2d-26           [-1, 64, 15, 15]          18,432\n",
            "             ReLU-27           [-1, 64, 15, 15]               0\n",
            "      BatchNorm2d-28           [-1, 64, 15, 15]             128\n",
            "          Dropout-29           [-1, 64, 15, 15]               0\n",
            "           Conv2d-30          [-1, 128, 15, 15]          73,728\n",
            "             ReLU-31          [-1, 128, 15, 15]               0\n",
            "      BatchNorm2d-32          [-1, 128, 15, 15]             256\n",
            "          Dropout-33          [-1, 128, 15, 15]               0\n",
            "        MaxPool2d-34            [-1, 128, 7, 7]               0\n",
            "           Conv2d-35             [-1, 32, 7, 7]           4,096\n",
            "             ReLU-36             [-1, 32, 7, 7]               0\n",
            "      BatchNorm2d-37             [-1, 32, 7, 7]              64\n",
            "          Dropout-38             [-1, 32, 7, 7]               0\n",
            "           Conv2d-39             [-1, 32, 7, 7]             288\n",
            "           Conv2d-40             [-1, 64, 7, 7]           2,112\n",
            "DepthwiseSeparableConv2d-41             [-1, 64, 7, 7]               0\n",
            "             ReLU-42             [-1, 64, 7, 7]               0\n",
            "      BatchNorm2d-43             [-1, 64, 7, 7]             128\n",
            "          Dropout-44             [-1, 64, 7, 7]               0\n",
            "           Conv2d-45            [-1, 128, 7, 7]          73,728\n",
            "             ReLU-46            [-1, 128, 7, 7]               0\n",
            "      BatchNorm2d-47            [-1, 128, 7, 7]             256\n",
            "          Dropout-48            [-1, 128, 7, 7]               0\n",
            "           Conv2d-49            [-1, 256, 7, 7]         294,912\n",
            "             ReLU-50            [-1, 256, 7, 7]               0\n",
            "      BatchNorm2d-51            [-1, 256, 7, 7]             512\n",
            "          Dropout-52            [-1, 256, 7, 7]               0\n",
            "        MaxPool2d-53            [-1, 256, 3, 3]               0\n",
            "           Conv2d-54             [-1, 64, 3, 3]          16,384\n",
            "             ReLU-55             [-1, 64, 3, 3]               0\n",
            "      BatchNorm2d-56             [-1, 64, 3, 3]             128\n",
            "          Dropout-57             [-1, 64, 3, 3]               0\n",
            "           Conv2d-58            [-1, 128, 3, 3]          73,728\n",
            "          Dropout-59            [-1, 128, 3, 3]               0\n",
            "           Conv2d-60            [-1, 256, 3, 3]         294,912\n",
            "        AvgPool2d-61            [-1, 256, 1, 1]               0\n",
            "           Linear-62                  [-1, 120]          30,840\n",
            "           Linear-63                   [-1, 84]          10,164\n",
            "           Linear-64                   [-1, 10]             850\n",
            "================================================================\n",
            "Total params: 934,350\n",
            "Trainable params: 934,350\n",
            "Non-trainable params: 0\n",
            "----------------------------------------------------------------\n",
            "Input size (MB): 0.01\n",
            "Forward/backward pass size (MB): 6.89\n",
            "Params size (MB): 3.56\n",
            "Estimated Total Size (MB): 10.47\n",
            "----------------------------------------------------------------\n"
          ],
          "name": "stdout"
        }
      ]
    },
    {
      "cell_type": "code",
      "metadata": {
        "id": "JEfri-DknCNw",
        "colab_type": "code",
        "colab": {}
      },
      "source": [
        "from tqdm import tqdm\n",
        "import numpy as np\n",
        "\n",
        "class Test_Train():\n",
        "  def __init__(self):\n",
        "\n",
        "# # This is to hold all the values and plot some graphs to extract few good insights.\n",
        "    self.train_losses = []\n",
        "    self.test_losses = []\n",
        "    self.train_acc = []\n",
        "    self.test_acc = []\n",
        "    self.train_epoch_end = []\n",
        "    self.test_loss_min = np.inf # setting it to infinity(max value)\n",
        "    # when the test loss becomes min I will save the particular model\n",
        "\n",
        "\n",
        "  def train(self, model, device, trainloader, optimizer, epoch,scheduler, L1lambda=None):\n",
        "    model.train()    # prepare model for training\n",
        "    pbar = tqdm(trainloader)\n",
        "    correct = 0\n",
        "    processed = 0\n",
        "    for batch_idx, (data, target) in enumerate(pbar): # passing on data & target values to device\n",
        "      data, target = data.to(device), target.to(device)\n",
        "      optimizer.zero_grad()    # clear the gradients of all optimized variables\n",
        "      \n",
        "      # Predict\n",
        "      y_pred = model(data)   # forward pass\n",
        "\n",
        "      # Calculate loss\n",
        "      loss = F.nll_loss(y_pred, target)\n",
        "\n",
        "      #Implementing L1 Regularization\n",
        "      if L1lambda:\n",
        "        with torch.enable_grad():\n",
        "          l1_loss = 0.\n",
        "\n",
        "          \n",
        "          for param in model.parameters():\n",
        "            l1_loss += torch.sum(param.abs())\n",
        "          loss += L1lambda * l1_loss\n",
        "\n",
        "      self.train_losses.append(loss)\n",
        "\n",
        "      # Backpropagation\n",
        "      loss.backward()   # backward pass: compute gradient of the loss with respect to model parameters\n",
        "      optimizer.step()   # perform a single optimization step (parameter update)\n",
        "\n",
        "      # Update pbar-tqdm\n",
        "    \n",
        "      pred = y_pred.argmax(dim=1, keepdim=True)  # get the index of the max log-probability\n",
        "      correct += pred.eq(target.view_as(pred)).sum().item()\n",
        "      processed += len(data)\n",
        "\n",
        "      pbar.set_description(desc= f'Loss={loss.item()} Batch_id={batch_idx} Accuracy={100*correct/processed:0.2f}')\n",
        "      self.train_acc.append(100*correct/processed)\n",
        "      scheduler.step()\n",
        "      self.train_epoch_end.append(self.train_acc[-1])\n",
        "\n",
        "\n",
        "  def test(self, model, device, test_loader,filename):\n",
        "      model.eval()  # prep model for evaluation\n",
        "      test_loss = 0\n",
        "      correct = 0\n",
        "      with torch.no_grad():\n",
        "          for data, target in test_loader:\n",
        "            data, target = data.to(device), target.to(device)\n",
        "            output = model(data)  # forward pass: compute predicted outputs by passing inputs to the model\n",
        "            test_loss += F.nll_loss(output, target, reduction='sum').item()  # sum up batch loss\n",
        "            pred = output.argmax(dim=1, keepdim=True)  # get the index of the max log-probability\n",
        "            correct += pred.eq(target.view_as(pred)).sum().item()  \n",
        "      test_loss /= len(testloader.dataset)\n",
        "      self.test_losses.append(test_loss)\n",
        "\n",
        "      # save model if validation loss has decreased\n",
        "      if test_loss <= self.test_loss_min:\n",
        "          print('Validation loss has  decreased ({:.4f} --> {:.4f}).  Saving model ...'.format(self.test_loss_min, test_loss))\n",
        "          torch.save(model.state_dict(), filename)\n",
        "          self.test_loss_min = test_loss\n",
        "\n",
        "\n",
        "      print('\\nTest set: Average loss: {:.4f}, Accuracy: {}/{} ({:.2f}%)\\n'.format(\n",
        "          test_loss, correct, len(testloader.dataset),\n",
        "          100. * correct / len(testloader.dataset)))\n",
        "    \n",
        "      self.test_acc.append(100. * correct / len(testloader.dataset))\n"
      ],
      "execution_count": 0,
      "outputs": []
    },
    {
      "cell_type": "markdown",
      "metadata": {
        "id": "Wdw2NNCUpoCu",
        "colab_type": "text"
      },
      "source": [
        "3. Define a Loss function and optimizer\n",
        "^^^^^^^^^^^^^^^^^^^^^^^^^^^^^^^^^^^^^^^\n",
        "Let's use a Classification Cross-Entropy loss and SGD with momentum.\n",
        "\n"
      ]
    },
    {
      "cell_type": "code",
      "metadata": {
        "id": "M4xBbDROpoCv",
        "colab_type": "code",
        "colab": {}
      },
      "source": [
        "import torch.optim as optim\n",
        "from torch.optim.lr_scheduler import OneCycleLR\n",
        "#criterion = nn.CrossEntropyLoss() # iccommented this line to increase the accuracy\n",
        "optimizer = optim.SGD(model.parameters(), lr=0.01, momentum=0.9) # in this line, net.parameters() is changed to model.parameters() then the accuracy improved\n",
        "scheduler = torch.optim.lr_scheduler.OneCycleLR(optimizer, max_lr=0.1, steps_per_epoch=len(trainloader), epochs=25)"
      ],
      "execution_count": 0,
      "outputs": []
    },
    {
      "cell_type": "code",
      "metadata": {
        "id": "eTmGlDZxnp1M",
        "colab_type": "code",
        "colab": {
          "base_uri": "https://localhost:8080/",
          "height": 1000
        },
        "outputId": "149fc2ef-193d-4a3b-fd2f-8b4a235204cd"
      },
      "source": [
        "model1 = Test_Train()\n",
        "EPOCHS = 15\n",
        "for epoch in range(1,EPOCHS+1):\n",
        "  print(\"EPOCH:\", epoch)\n",
        "  model1.train(model, device, trainloader, optimizer, epoch, scheduler)\n",
        "  model1.test(model, device, testloader,\"model.pt\")"
      ],
      "execution_count": 14,
      "outputs": [
        {
          "output_type": "stream",
          "text": [
            "\r  0%|          | 0/782 [00:00<?, ?it/s]"
          ],
          "name": "stderr"
        },
        {
          "output_type": "stream",
          "text": [
            "EPOCH: 1\n"
          ],
          "name": "stdout"
        },
        {
          "output_type": "stream",
          "text": [
            "Loss=1.3965328931808472 Batch_id=781 Accuracy=26.21: 100%|██████████| 782/782 [00:42<00:00, 18.40it/s]\n",
            "  0%|          | 0/782 [00:00<?, ?it/s]"
          ],
          "name": "stderr"
        },
        {
          "output_type": "stream",
          "text": [
            "Validation loss has  decreased (inf --> 1.5833).  Saving model ...\n",
            "\n",
            "Test set: Average loss: 1.5833, Accuracy: 4086/10000 (40.86%)\n",
            "\n",
            "EPOCH: 2\n"
          ],
          "name": "stdout"
        },
        {
          "output_type": "stream",
          "text": [
            "Loss=1.0003612041473389 Batch_id=781 Accuracy=50.15: 100%|██████████| 782/782 [00:42<00:00, 18.58it/s]\n",
            "  0%|          | 0/782 [00:00<?, ?it/s]"
          ],
          "name": "stderr"
        },
        {
          "output_type": "stream",
          "text": [
            "Validation loss has  decreased (1.5833 --> 1.2730).  Saving model ...\n",
            "\n",
            "Test set: Average loss: 1.2730, Accuracy: 5418/10000 (54.18%)\n",
            "\n",
            "EPOCH: 3\n"
          ],
          "name": "stdout"
        },
        {
          "output_type": "stream",
          "text": [
            "Loss=1.0400488376617432 Batch_id=781 Accuracy=58.77: 100%|██████████| 782/782 [00:42<00:00, 18.47it/s]\n",
            "  0%|          | 0/782 [00:00<?, ?it/s]"
          ],
          "name": "stderr"
        },
        {
          "output_type": "stream",
          "text": [
            "Validation loss has  decreased (1.2730 --> 1.1769).  Saving model ...\n",
            "\n",
            "Test set: Average loss: 1.1769, Accuracy: 5766/10000 (57.66%)\n",
            "\n",
            "EPOCH: 4\n"
          ],
          "name": "stdout"
        },
        {
          "output_type": "stream",
          "text": [
            "Loss=0.8908779621124268 Batch_id=781 Accuracy=64.64: 100%|██████████| 782/782 [00:41<00:00, 18.68it/s]\n",
            "  0%|          | 0/782 [00:00<?, ?it/s]"
          ],
          "name": "stderr"
        },
        {
          "output_type": "stream",
          "text": [
            "Validation loss has  decreased (1.1769 --> 1.0884).  Saving model ...\n",
            "\n",
            "Test set: Average loss: 1.0884, Accuracy: 6449/10000 (64.49%)\n",
            "\n",
            "EPOCH: 5\n"
          ],
          "name": "stdout"
        },
        {
          "output_type": "stream",
          "text": [
            "Loss=1.5500106811523438 Batch_id=781 Accuracy=68.96: 100%|██████████| 782/782 [00:41<00:00, 18.69it/s]\n",
            "  0%|          | 0/782 [00:00<?, ?it/s]"
          ],
          "name": "stderr"
        },
        {
          "output_type": "stream",
          "text": [
            "Validation loss has  decreased (1.0884 --> 0.9364).  Saving model ...\n",
            "\n",
            "Test set: Average loss: 0.9364, Accuracy: 6744/10000 (67.44%)\n",
            "\n",
            "EPOCH: 6\n"
          ],
          "name": "stdout"
        },
        {
          "output_type": "stream",
          "text": [
            "Loss=1.1673645973205566 Batch_id=781 Accuracy=71.65: 100%|██████████| 782/782 [00:42<00:00, 18.48it/s]\n",
            "  0%|          | 0/782 [00:00<?, ?it/s]"
          ],
          "name": "stderr"
        },
        {
          "output_type": "stream",
          "text": [
            "Validation loss has  decreased (0.9364 --> 0.8714).  Saving model ...\n",
            "\n",
            "Test set: Average loss: 0.8714, Accuracy: 7096/10000 (70.96%)\n",
            "\n",
            "EPOCH: 7\n"
          ],
          "name": "stdout"
        },
        {
          "output_type": "stream",
          "text": [
            "Loss=0.41807815432548523 Batch_id=781 Accuracy=73.82: 100%|██████████| 782/782 [00:42<00:00, 18.47it/s]\n",
            "  0%|          | 0/782 [00:00<?, ?it/s]"
          ],
          "name": "stderr"
        },
        {
          "output_type": "stream",
          "text": [
            "Validation loss has  decreased (0.8714 --> 0.8194).  Saving model ...\n",
            "\n",
            "Test set: Average loss: 0.8194, Accuracy: 7402/10000 (74.02%)\n",
            "\n",
            "EPOCH: 8\n"
          ],
          "name": "stdout"
        },
        {
          "output_type": "stream",
          "text": [
            "Loss=0.2350357472896576 Batch_id=781 Accuracy=75.50: 100%|██████████| 782/782 [00:42<00:00, 18.53it/s]\n",
            "  0%|          | 0/782 [00:00<?, ?it/s]"
          ],
          "name": "stderr"
        },
        {
          "output_type": "stream",
          "text": [
            "Validation loss has  decreased (0.8194 --> 0.7499).  Saving model ...\n",
            "\n",
            "Test set: Average loss: 0.7499, Accuracy: 7539/10000 (75.39%)\n",
            "\n",
            "EPOCH: 9\n"
          ],
          "name": "stdout"
        },
        {
          "output_type": "stream",
          "text": [
            "Loss=1.581130027770996 Batch_id=781 Accuracy=76.60: 100%|██████████| 782/782 [00:42<00:00, 18.53it/s]\n",
            "  0%|          | 0/782 [00:00<?, ?it/s]"
          ],
          "name": "stderr"
        },
        {
          "output_type": "stream",
          "text": [
            "Validation loss has  decreased (0.7499 --> 0.6641).  Saving model ...\n",
            "\n",
            "Test set: Average loss: 0.6641, Accuracy: 7833/10000 (78.33%)\n",
            "\n",
            "EPOCH: 10\n"
          ],
          "name": "stdout"
        },
        {
          "output_type": "stream",
          "text": [
            "Loss=1.3798820972442627 Batch_id=781 Accuracy=77.89: 100%|██████████| 782/782 [00:42<00:00, 18.56it/s]\n",
            "  0%|          | 0/782 [00:00<?, ?it/s]"
          ],
          "name": "stderr"
        },
        {
          "output_type": "stream",
          "text": [
            "\n",
            "Test set: Average loss: 0.6654, Accuracy: 7816/10000 (78.16%)\n",
            "\n",
            "EPOCH: 11\n"
          ],
          "name": "stdout"
        },
        {
          "output_type": "stream",
          "text": [
            "Loss=0.8985545635223389 Batch_id=781 Accuracy=79.10: 100%|██████████| 782/782 [00:42<00:00, 18.49it/s]\n",
            "  0%|          | 0/782 [00:00<?, ?it/s]"
          ],
          "name": "stderr"
        },
        {
          "output_type": "stream",
          "text": [
            "\n",
            "Test set: Average loss: 0.7177, Accuracy: 7640/10000 (76.40%)\n",
            "\n",
            "EPOCH: 12\n"
          ],
          "name": "stdout"
        },
        {
          "output_type": "stream",
          "text": [
            "Loss=0.5278574228286743 Batch_id=781 Accuracy=80.03: 100%|██████████| 782/782 [00:42<00:00, 18.57it/s]\n",
            "  0%|          | 0/782 [00:00<?, ?it/s]"
          ],
          "name": "stderr"
        },
        {
          "output_type": "stream",
          "text": [
            "\n",
            "Test set: Average loss: 0.7421, Accuracy: 7663/10000 (76.63%)\n",
            "\n",
            "EPOCH: 13\n"
          ],
          "name": "stdout"
        },
        {
          "output_type": "stream",
          "text": [
            "Loss=0.2705477178096771 Batch_id=781 Accuracy=81.20: 100%|██████████| 782/782 [00:41<00:00, 18.63it/s]\n",
            "  0%|          | 0/782 [00:00<?, ?it/s]"
          ],
          "name": "stderr"
        },
        {
          "output_type": "stream",
          "text": [
            "Validation loss has  decreased (0.6641 --> 0.6393).  Saving model ...\n",
            "\n",
            "Test set: Average loss: 0.6393, Accuracy: 7888/10000 (78.88%)\n",
            "\n",
            "EPOCH: 14\n"
          ],
          "name": "stdout"
        },
        {
          "output_type": "stream",
          "text": [
            "Loss=1.57080078125 Batch_id=781 Accuracy=81.73: 100%|██████████| 782/782 [00:41<00:00, 18.64it/s]\n",
            "  0%|          | 0/782 [00:00<?, ?it/s]"
          ],
          "name": "stderr"
        },
        {
          "output_type": "stream",
          "text": [
            "Validation loss has  decreased (0.6393 --> 0.6052).  Saving model ...\n",
            "\n",
            "Test set: Average loss: 0.6052, Accuracy: 8048/10000 (80.48%)\n",
            "\n",
            "EPOCH: 15\n"
          ],
          "name": "stdout"
        },
        {
          "output_type": "stream",
          "text": [
            "Loss=0.8999242186546326 Batch_id=781 Accuracy=82.97: 100%|██████████| 782/782 [00:41<00:00, 18.65it/s]\n"
          ],
          "name": "stderr"
        },
        {
          "output_type": "stream",
          "text": [
            "\n",
            "Test set: Average loss: 0.6144, Accuracy: 8056/10000 (80.56%)\n",
            "\n"
          ],
          "name": "stdout"
        }
      ]
    }
  ]
}